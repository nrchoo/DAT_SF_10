{
 "metadata": {
  "name": "",
  "signature": "sha256:23186a3f39742d711cafb0969ff026d007af7840141b3fdffbfe83ca0ef486b8"
 },
 "nbformat": 3,
 "nbformat_minor": 0,
 "worksheets": [
  {
   "cells": [
    {
     "cell_type": "markdown",
     "metadata": {},
     "source": [
      "# GA Data Science 10 (DAT10) - Lab 12\n",
      "\n",
      "### Recommendation Systems\n",
      "\n",
      "Francesco Mosconi\n",
      "\n",
      "### Today\n",
      "\n",
      "1. Simple similarity based recommendation system\n",
      "2. Recsys\n",
      "3. Optional (yhat)"
     ]
    },
    {
     "cell_type": "markdown",
     "metadata": {},
     "source": [
      "## Similarity based Recommendation System: Beers"
     ]
    },
    {
     "cell_type": "markdown",
     "metadata": {},
     "source": [
      "Usual imports (numpy, pandas)"
     ]
    },
    {
     "cell_type": "code",
     "collapsed": false,
     "input": [
      "import pandas as pd\n",
      "import numpy as np"
     ],
     "language": "python",
     "metadata": {},
     "outputs": [],
     "prompt_number": 1
    },
    {
     "cell_type": "code",
     "collapsed": false,
     "input": [],
     "language": "python",
     "metadata": {},
     "outputs": []
    },
    {
     "cell_type": "markdown",
     "metadata": {},
     "source": [
      "First of all let's get the data"
     ]
    },
    {
     "cell_type": "code",
     "collapsed": false,
     "input": [
      "! curl -O https://s3.amazonaws.com/demo-datasets/beer_reviews.tar.gz"
     ],
     "language": "python",
     "metadata": {},
     "outputs": [
      {
       "output_type": "stream",
       "stream": "stdout",
       "text": [
        "  % Total    % Received % Xferd  Average Speed   Time    Time     Time  Current\r\n",
        "                                 Dload  Upload   Total   Spent    Left  Speed\r\n",
        "\r",
        "  0     0    0     0    0     0      0      0 --:--:-- --:--:-- --:--:--     0"
       ]
      },
      {
       "output_type": "stream",
       "stream": "stdout",
       "text": [
        "\r",
        "  0     0    0     0    0     0      0      0 --:--:-- --:--:-- --:--:--     0"
       ]
      },
      {
       "output_type": "stream",
       "stream": "stdout",
       "text": [
        "\r",
        "  0 27.3M    0 35642    0     0  18574      0  0:25:45  0:00:01  0:25:44 18573"
       ]
      },
      {
       "output_type": "stream",
       "stream": "stdout",
       "text": [
        "\r",
        "  0 27.3M    0  210k    0     0  73810      0  0:06:28  0:00:02  0:06:26 73799"
       ]
      },
      {
       "output_type": "stream",
       "stream": "stdout",
       "text": [
        "\r",
        "  0 27.3M    0  219k    0     0  60524      0  0:07:54  0:00:03  0:07:51 60517"
       ]
      },
      {
       "output_type": "stream",
       "stream": "stdout",
       "text": [
        "\r",
        "  1 27.3M    1  307k    0     0  66755      0  0:07:10  0:00:04  0:07:06 66746"
       ]
      },
      {
       "output_type": "stream",
       "stream": "stdout",
       "text": [
        "\r",
        "  1 27.3M    1  307k    0     0  55059      0  0:08:41  0:00:05  0:08:36 60788"
       ]
      },
      {
       "output_type": "stream",
       "stream": "stdout",
       "text": [
        "\r",
        "  1 27.3M    1  316k    0     0  48933      0  0:09:46  0:00:06  0:09:40 61328"
       ]
      },
      {
       "output_type": "stream",
       "stream": "stdout",
       "text": [
        "\r",
        "  2 27.3M    2  600k    0     0  73256      0  0:06:31  0:00:08  0:06:23 72972"
       ]
      },
      {
       "output_type": "stream",
       "stream": "stdout",
       "text": [
        "\r",
        "  2 27.3M    2  600k    0     0  70508      0  0:06:47  0:00:08  0:06:39 77900"
       ]
      },
      {
       "output_type": "stream",
       "stream": "stdout",
       "text": [
        "\r",
        "  2 27.3M    2  685k    0     0  73731      0  0:06:29  0:00:09  0:06:20 80555"
       ]
      },
      {
       "output_type": "stream",
       "stream": "stdout",
       "text": [
        "\r",
        "  3 27.3M    3  872k    0     0  84893      0  0:05:38  0:00:10  0:05:28  117k"
       ]
      },
      {
       "output_type": "stream",
       "stream": "stdout",
       "text": [
        "\r",
        "  3 27.3M    3 1025k    0     0  91131      0  0:05:14  0:00:11  0:05:03  144k"
       ]
      },
      {
       "output_type": "stream",
       "stream": "stdout",
       "text": [
        "\r",
        "  4 27.3M    4 1144k    0     0  93596      0  0:05:06  0:00:12  0:04:54  131k"
       ]
      },
      {
       "output_type": "stream",
       "stream": "stdout",
       "text": [
        "\r",
        "  4 27.3M    4 1263k    0     0  95525      0  0:05:00  0:00:13  0:04:47  137k"
       ]
      },
      {
       "output_type": "stream",
       "stream": "stdout",
       "text": [
        "\r",
        "  4 27.3M    4 1399k    0     0  98518      0  0:04:51  0:00:14  0:04:37  142k"
       ]
      },
      {
       "output_type": "stream",
       "stream": "stdout",
       "text": [
        "\r",
        "  5 27.3M    5 1535k    0     0    98k      0  0:04:43  0:00:15  0:04:28  132k"
       ]
      },
      {
       "output_type": "stream",
       "stream": "stdout",
       "text": [
        "\r",
        "  6 27.3M    6 1687k    0     0   101k      0  0:04:36  0:00:16  0:04:20  129k"
       ]
      },
      {
       "output_type": "stream",
       "stream": "stdout",
       "text": [
        "\r",
        "  6 27.3M    6 1841k    0     0   104k      0  0:04:27  0:00:17  0:04:10  137k"
       ]
      },
      {
       "output_type": "stream",
       "stream": "stdout",
       "text": [
        "\r",
        "  6 27.3M    6 1960k    0     0   105k      0  0:04:25  0:00:18  0:04:07  139k"
       ]
      },
      {
       "output_type": "stream",
       "stream": "stdout",
       "text": [
        "\r",
        "  7 27.3M    7 2095k    0     0   107k      0  0:04:21  0:00:19  0:04:02  139k"
       ]
      },
      {
       "output_type": "stream",
       "stream": "stdout",
       "text": [
        "\r",
        "  7 27.3M    7 2198k    0     0   107k      0  0:04:21  0:00:20  0:04:01  132k"
       ]
      },
      {
       "output_type": "stream",
       "stream": "stdout",
       "text": [
        "\r",
        "  8 27.3M    8 2333k    0     0   107k      0  0:04:21  0:00:21  0:04:00  126k"
       ]
      },
      {
       "output_type": "stream",
       "stream": "stdout",
       "text": [
        "\r",
        "  8 27.3M    8 2453k    0     0   108k      0  0:04:17  0:00:22  0:03:55  124k"
       ]
      },
      {
       "output_type": "stream",
       "stream": "stdout",
       "text": [
        "\r",
        "  9 27.3M    9 2572k    0     0   109k      0  0:04:16  0:00:23  0:03:53  122k"
       ]
      },
      {
       "output_type": "stream",
       "stream": "stdout",
       "text": [
        "\r",
        "  9 27.3M    9 2725k    0     0   111k      0  0:04:12  0:00:24  0:03:48  126k"
       ]
      },
      {
       "output_type": "stream",
       "stream": "stdout",
       "text": [
        "\r",
        " 10 27.3M   10 2878k    0     0   112k      0  0:04:09  0:00:25  0:03:44  133k"
       ]
      },
      {
       "output_type": "stream",
       "stream": "stdout",
       "text": [
        "\r",
        " 10 27.3M   10 3031k    0     0   113k      0  0:04:06  0:00:26  0:03:40  141k"
       ]
      },
      {
       "output_type": "stream",
       "stream": "stdout",
       "text": [
        "\r",
        " 11 27.3M   11 3184k    0     0   115k      0  0:04:02  0:00:27  0:03:35  146k"
       ]
      },
      {
       "output_type": "stream",
       "stream": "stdout",
       "text": [
        "\r",
        " 11 27.3M   11 3320k    0     0   116k      0  0:04:00  0:00:28  0:03:32  149k"
       ]
      },
      {
       "output_type": "stream",
       "stream": "stdout",
       "text": [
        "\r",
        " 12 27.3M   12 3456k    0     0   117k      0  0:03:59  0:00:29  0:03:30  146k"
       ]
      },
      {
       "output_type": "stream",
       "stream": "stdout",
       "text": [
        "\r",
        " 12 27.3M   12 3541k    0     0   116k      0  0:04:01  0:00:30  0:03:31  134k"
       ]
      },
      {
       "output_type": "stream",
       "stream": "stdout",
       "text": [
        "\r",
        " 13 27.3M   13 3660k    0     0   116k      0  0:04:01  0:00:31  0:03:30  128k"
       ]
      },
      {
       "output_type": "stream",
       "stream": "stdout",
       "text": [
        "\r",
        " 13 27.3M   13 3796k    0     0   116k      0  0:04:00  0:00:32  0:03:28  122k"
       ]
      },
      {
       "output_type": "stream",
       "stream": "stdout",
       "text": [
        "\r",
        " 14 27.3M   14 3948k    0     0   116k      0  0:04:00  0:00:33  0:03:27  117k"
       ]
      },
      {
       "output_type": "stream",
       "stream": "stdout",
       "text": [
        "\r",
        " 14 27.3M   14 4051k    0     0   117k      0  0:03:58  0:00:34  0:03:24  119k"
       ]
      },
      {
       "output_type": "stream",
       "stream": "stdout",
       "text": [
        "\r",
        " 14 27.3M   14 4186k    0     0   116k      0  0:04:00  0:00:35  0:03:25  120k"
       ]
      },
      {
       "output_type": "stream",
       "stream": "stdout",
       "text": [
        "\r",
        " 15 27.3M   15 4306k    0     0   117k      0  0:03:57  0:00:36  0:03:21  129k"
       ]
      },
      {
       "output_type": "stream",
       "stream": "stdout",
       "text": [
        "\r",
        " 15 27.3M   15 4441k    0     0   118k      0  0:03:56  0:00:37  0:03:19  128k"
       ]
      },
      {
       "output_type": "stream",
       "stream": "stdout",
       "text": [
        "\r",
        " 16 27.3M   16 4561k    0     0   118k      0  0:03:57  0:00:38  0:03:19  129k"
       ]
      },
      {
       "output_type": "stream",
       "stream": "stdout",
       "text": [
        "\r",
        " 16 27.3M   16 4680k    0     0   118k      0  0:03:56  0:00:39  0:03:17  125k"
       ]
      },
      {
       "output_type": "stream",
       "stream": "stdout",
       "text": [
        "\r",
        " 17 27.3M   17 4799k    0     0   118k      0  0:03:56  0:00:40  0:03:16  132k"
       ]
      },
      {
       "output_type": "stream",
       "stream": "stdout",
       "text": [
        "\r",
        " 17 27.3M   17 4918k    0     0   118k      0  0:03:56  0:00:41  0:03:15  122k"
       ]
      },
      {
       "output_type": "stream",
       "stream": "stdout",
       "text": [
        "\r",
        " 17 27.3M   17 5037k    0     0   118k      0  0:03:56  0:00:42  0:03:14  118k"
       ]
      },
      {
       "output_type": "stream",
       "stream": "stdout",
       "text": [
        "\r",
        " 18 27.3M   18 5173k    0     0   118k      0  0:03:55  0:00:43  0:03:12  124k"
       ]
      },
      {
       "output_type": "stream",
       "stream": "stdout",
       "text": [
        "\r",
        " 18 27.3M   18 5292k    0     0   118k      0  0:03:55  0:00:44  0:03:11  122k"
       ]
      },
      {
       "output_type": "stream",
       "stream": "stdout",
       "text": [
        "\r",
        " 19 27.3M   19 5427k    0     0   119k      0  0:03:55  0:00:45  0:03:10  125k"
       ]
      },
      {
       "output_type": "stream",
       "stream": "stdout",
       "text": [
        "\r",
        " 19 27.3M   19 5530k    0     0   118k      0  0:03:55  0:00:46  0:03:09  122k"
       ]
      },
      {
       "output_type": "stream",
       "stream": "stdout",
       "text": [
        "\r",
        " 20 27.3M   20 5649k    0     0   118k      0  0:03:55  0:00:47  0:03:08  123k"
       ]
      },
      {
       "output_type": "stream",
       "stream": "stdout",
       "text": [
        "\r",
        " 20 27.3M   20 5734k    0     0   118k      0  0:03:57  0:00:48  0:03:09  112k"
       ]
      },
      {
       "output_type": "stream",
       "stream": "stdout",
       "text": [
        "\r",
        " 20 27.3M   20 5836k    0     0   117k      0  0:03:57  0:00:49  0:03:08  108k"
       ]
      },
      {
       "output_type": "stream",
       "stream": "stdout",
       "text": [
        "\r",
        " 21 27.3M   21 5921k    0     0   117k      0  0:03:59  0:00:50  0:03:09   98k"
       ]
      },
      {
       "output_type": "stream",
       "stream": "stdout",
       "text": [
        "\r",
        " 21 27.3M   21 6006k    0     0   116k      0  0:04:00  0:00:51  0:03:09 97309"
       ]
      },
      {
       "output_type": "stream",
       "stream": "stdout",
       "text": [
        "\r",
        " 21 27.3M   21 6142k    0     0   116k      0  0:03:59  0:00:52  0:03:07   98k"
       ]
      },
      {
       "output_type": "stream",
       "stream": "stdout",
       "text": [
        "\r",
        " 22 27.3M   22 6278k    0     0   117k      0  0:03:58  0:00:53  0:03:05  108k"
       ]
      },
      {
       "output_type": "stream",
       "stream": "stdout",
       "text": [
        "\r",
        " 22 27.3M   22 6414k    0     0   117k      0  0:03:58  0:00:54  0:03:04  115k"
       ]
      },
      {
       "output_type": "stream",
       "stream": "stdout",
       "text": [
        "\r",
        " 23 27.3M   23 6550k    0     0   117k      0  0:03:57  0:00:55  0:03:02  126k"
       ]
      },
      {
       "output_type": "stream",
       "stream": "stdout",
       "text": [
        "\r",
        " 23 27.3M   23 6669k    0     0   117k      0  0:03:57  0:00:56  0:03:01  132k"
       ]
      },
      {
       "output_type": "stream",
       "stream": "stdout",
       "text": [
        "\r",
        " 24 27.3M   24 6788k    0     0   118k      0  0:03:57  0:00:57  0:03:00  129k"
       ]
      },
      {
       "output_type": "stream",
       "stream": "stdout",
       "text": [
        "\r",
        " 24 27.3M   24 6940k    0     0   118k      0  0:03:56  0:00:58  0:02:58  131k"
       ]
      },
      {
       "output_type": "stream",
       "stream": "stdout",
       "text": [
        "\r",
        " 25 27.3M   25 7077k    0     0   118k      0  0:03:55  0:00:59  0:02:56  132k"
       ]
      },
      {
       "output_type": "stream",
       "stream": "stdout",
       "text": [
        "\r",
        " 25 27.3M   25 7195k    0     0   118k      0  0:03:55  0:01:00  0:02:55  129k"
       ]
      },
      {
       "output_type": "stream",
       "stream": "stdout",
       "text": [
        "\r",
        " 26 27.3M   26 7298k    0     0   118k      0  0:03:56  0:01:01  0:02:55  124k"
       ]
      },
      {
       "output_type": "stream",
       "stream": "stdout",
       "text": [
        "\r",
        " 26 27.3M   26 7484k    0     0   119k      0  0:03:54  0:01:02  0:02:52  139k"
       ]
      },
      {
       "output_type": "stream",
       "stream": "stdout",
       "text": [
        "\r",
        " 27 27.3M   27 7638k    0     0   120k      0  0:03:53  0:01:03  0:02:50  140k"
       ]
      },
      {
       "output_type": "stream",
       "stream": "stdout",
       "text": [
        "\r",
        " 27 27.3M   27 7757k    0     0   120k      0  0:03:53  0:01:04  0:02:49  136k"
       ]
      },
      {
       "output_type": "stream",
       "stream": "stdout",
       "text": [
        "\r",
        " 28 27.3M   28 7910k    0     0   120k      0  0:03:52  0:01:05  0:02:47  143k"
       ]
      },
      {
       "output_type": "stream",
       "stream": "stdout",
       "text": [
        "\r",
        " 28 27.3M   28 8045k    0     0   120k      0  0:03:52  0:01:06  0:02:46  146k"
       ]
      },
      {
       "output_type": "stream",
       "stream": "stdout",
       "text": [
        "\r",
        " 28 27.3M   28 8114k    0     0   120k      0  0:03:53  0:01:07  0:02:46  124k"
       ]
      },
      {
       "output_type": "stream",
       "stream": "stdout",
       "text": [
        "\r",
        " 29 27.3M   29 8182k    0     0   119k      0  0:03:54  0:01:08  0:02:46  107k"
       ]
      },
      {
       "output_type": "stream",
       "stream": "stdout",
       "text": [
        "\r",
        " 29 27.3M   29 8267k    0     0   118k      0  0:03:55  0:01:09  0:02:46  101k"
       ]
      },
      {
       "output_type": "stream",
       "stream": "stdout",
       "text": [
        "\r",
        " 29 27.3M   29 8352k    0     0   118k      0  0:03:56  0:01:10  0:02:46 90521"
       ]
      },
      {
       "output_type": "stream",
       "stream": "stdout",
       "text": [
        "\r",
        " 30 27.3M   30 8471k    0     0   118k      0  0:03:56  0:01:11  0:02:45 89079"
       ]
      },
      {
       "output_type": "stream",
       "stream": "stdout",
       "text": [
        "\r",
        " 30 27.3M   30 8589k    0     0   118k      0  0:03:57  0:01:12  0:02:45 93287"
       ]
      },
      {
       "output_type": "stream",
       "stream": "stdout",
       "text": [
        "\r",
        " 31 27.3M   31 8692k    0     0   118k      0  0:03:57  0:01:13  0:02:44  102k"
       ]
      },
      {
       "output_type": "stream",
       "stream": "stdout",
       "text": [
        "\r",
        " 31 27.3M   31 8811k    0     0   118k      0  0:03:57  0:01:14  0:02:43  109k"
       ]
      },
      {
       "output_type": "stream",
       "stream": "stdout",
       "text": [
        "\r",
        " 31 27.3M   31 8913k    0     0   118k      0  0:03:57  0:01:15  0:02:42  112k"
       ]
      },
      {
       "output_type": "stream",
       "stream": "stdout",
       "text": [
        "\r",
        " 32 27.3M   32 9049k    0     0   118k      0  0:03:57  0:01:16  0:02:41  116k"
       ]
      },
      {
       "output_type": "stream",
       "stream": "stdout",
       "text": [
        "\r",
        " 32 27.3M   32 9134k    0     0   117k      0  0:03:57  0:01:17  0:02:40  114k"
       ]
      },
      {
       "output_type": "stream",
       "stream": "stdout",
       "text": [
        "\r",
        " 32 27.3M   32 9235k    0     0   117k      0  0:03:58  0:01:18  0:02:40  108k"
       ]
      },
      {
       "output_type": "stream",
       "stream": "stdout",
       "text": [
        "\r",
        " 33 27.3M   33 9338k    0     0   117k      0  0:03:58  0:01:19  0:02:39  105k"
       ]
      },
      {
       "output_type": "stream",
       "stream": "stdout",
       "text": [
        "\r",
        " 33 27.3M   33 9457k    0     0   117k      0  0:03:58  0:01:20  0:02:38  108k"
       ]
      },
      {
       "output_type": "stream",
       "stream": "stdout",
       "text": [
        "\r",
        " 34 27.3M   34 9542k    0     0   117k      0  0:03:59  0:01:21  0:02:38   98k"
       ]
      },
      {
       "output_type": "stream",
       "stream": "stdout",
       "text": [
        "\r",
        " 34 27.3M   34 9644k    0     0   116k      0  0:03:59  0:01:22  0:02:37  101k"
       ]
      },
      {
       "output_type": "stream",
       "stream": "stdout",
       "text": [
        "\r",
        " 34 27.3M   34 9779k    0     0   117k      0  0:03:59  0:01:23  0:02:36  109k"
       ]
      },
      {
       "output_type": "stream",
       "stream": "stdout",
       "text": [
        "\r",
        " 35 27.3M   35 9882k    0     0   116k      0  0:03:59  0:01:24  0:02:35  108k"
       ]
      },
      {
       "output_type": "stream",
       "stream": "stdout",
       "text": [
        "\r",
        " 35 27.3M   35 9950k    0     0   116k      0  0:04:00  0:01:25  0:02:35   98k"
       ]
      },
      {
       "output_type": "stream",
       "stream": "stdout",
       "text": [
        "\r",
        " 35 27.3M   35  9.8M    0     0   116k      0  0:04:01  0:01:26  0:02:35  101k"
       ]
      },
      {
       "output_type": "stream",
       "stream": "stdout",
       "text": [
        "\r",
        " 36 27.3M   36  9.9M    0     0   115k      0  0:04:02  0:01:27  0:02:35   99k"
       ]
      },
      {
       "output_type": "stream",
       "stream": "stdout",
       "text": [
        "\r",
        " 36 27.3M   36  9.9M    0     0   115k      0  0:04:02  0:01:28  0:02:34 94095"
       ]
      },
      {
       "output_type": "stream",
       "stream": "stdout",
       "text": [
        "\r",
        " 36 27.3M   36 10.0M    0     0   115k      0  0:04:03  0:01:29  0:02:34 86246"
       ]
      },
      {
       "output_type": "stream",
       "stream": "stdout",
       "text": [
        "\r",
        " 37 27.3M   37 10.1M    0     0   114k      0  0:04:03  0:01:30  0:02:33 94078"
       ]
      },
      {
       "output_type": "stream",
       "stream": "stdout",
       "text": [
        "\r",
        " 37 27.3M   37 10.2M    0     0   114k      0  0:04:04  0:01:31  0:02:33 90817"
       ]
      },
      {
       "output_type": "stream",
       "stream": "stdout",
       "text": [
        "\r",
        " 37 27.3M   37 10.3M    0     0   114k      0  0:04:04  0:01:32  0:02:32 94059"
       ]
      },
      {
       "output_type": "stream",
       "stream": "stdout",
       "text": [
        "\r",
        " 38 27.3M   38 10.4M    0     0   114k      0  0:04:05  0:01:33  0:02:32 93890"
       ]
      },
      {
       "output_type": "stream",
       "stream": "stdout",
       "text": [
        "\r",
        " 38 27.3M   38 10.5M    0     0   114k      0  0:04:05  0:01:34  0:02:31  102k"
       ]
      },
      {
       "output_type": "stream",
       "stream": "stdout",
       "text": [
        "\r",
        " 38 27.3M   38 10.6M    0     0   114k      0  0:04:05  0:01:35  0:02:30  102k"
       ]
      },
      {
       "output_type": "stream",
       "stream": "stdout",
       "text": [
        "\r",
        " 39 27.3M   39 10.7M    0     0   114k      0  0:04:04  0:01:36  0:02:28  112k"
       ]
      },
      {
       "output_type": "stream",
       "stream": "stdout",
       "text": [
        "\r",
        " 39 27.3M   39 10.9M    0     0   114k      0  0:04:04  0:01:37  0:02:27  118k"
       ]
      },
      {
       "output_type": "stream",
       "stream": "stdout",
       "text": [
        "\r",
        " 40 27.3M   40 11.0M    0     0   114k      0  0:04:04  0:01:38  0:02:26  122k"
       ]
      },
      {
       "output_type": "stream",
       "stream": "stdout",
       "text": [
        "\r",
        " 40 27.3M   40 11.1M    0     0   115k      0  0:04:03  0:01:39  0:02:24  126k"
       ]
      },
      {
       "output_type": "stream",
       "stream": "stdout",
       "text": [
        "\r",
        " 41 27.3M   41 11.2M    0     0   115k      0  0:04:03  0:01:40  0:02:23  128k"
       ]
      },
      {
       "output_type": "stream",
       "stream": "stdout",
       "text": [
        "\r",
        " 41 27.3M   41 11.3M    0     0   114k      0  0:04:04  0:01:41  0:02:23  119k"
       ]
      },
      {
       "output_type": "stream",
       "stream": "stdout",
       "text": [
        "\r",
        " 41 27.3M   41 11.4M    0     0   114k      0  0:04:04  0:01:42  0:02:22  112k"
       ]
      },
      {
       "output_type": "stream",
       "stream": "stdout",
       "text": [
        "\r",
        " 42 27.3M   42 11.5M    0     0   114k      0  0:04:05  0:01:43  0:02:22  101k"
       ]
      },
      {
       "output_type": "stream",
       "stream": "stdout",
       "text": [
        "\r",
        " 42 27.3M   42 11.6M    0     0   114k      0  0:04:05  0:01:44  0:02:21   98k"
       ]
      },
      {
       "output_type": "stream",
       "stream": "stdout",
       "text": [
        "\r",
        " 42 27.3M   42 11.7M    0     0   113k      0  0:04:06  0:01:45  0:02:21 93201"
       ]
      },
      {
       "output_type": "stream",
       "stream": "stdout",
       "text": [
        "\r",
        " 43 27.3M   43 11.8M    0     0   113k      0  0:04:06  0:01:46  0:02:20 92943"
       ]
      },
      {
       "output_type": "stream",
       "stream": "stdout",
       "text": [
        "\r",
        " 43 27.3M   43 11.9M    0     0   113k      0  0:04:06  0:01:47  0:02:19 94170"
       ]
      },
      {
       "output_type": "stream",
       "stream": "stdout",
       "text": [
        "\r",
        " 43 27.3M   43 12.0M    0     0   113k      0  0:04:07  0:01:48  0:02:19 97826"
       ]
      },
      {
       "output_type": "stream",
       "stream": "stdout",
       "text": [
        "\r",
        " 44 27.3M   44 12.1M    0     0   113k      0  0:04:07  0:01:49  0:02:18 93740"
       ]
      },
      {
       "output_type": "stream",
       "stream": "stdout",
       "text": [
        "\r",
        " 44 27.3M   44 12.2M    0     0   113k      0  0:04:07  0:01:50  0:02:17 98608"
       ]
      },
      {
       "output_type": "stream",
       "stream": "stdout",
       "text": [
        "\r",
        " 44 27.3M   44 12.3M    0     0   112k      0  0:04:08  0:01:51  0:02:17   97k"
       ]
      },
      {
       "output_type": "stream",
       "stream": "stdout",
       "text": [
        "\r",
        " 45 27.3M   45 12.4M    0     0   112k      0  0:04:08  0:01:52  0:02:16   98k"
       ]
      },
      {
       "output_type": "stream",
       "stream": "stdout",
       "text": [
        "\r",
        " 45 27.3M   45 12.4M    0     0   112k      0  0:04:08  0:01:53  0:02:15   98k"
       ]
      },
      {
       "output_type": "stream",
       "stream": "stdout",
       "text": [
        "\r",
        " 46 27.3M   46 12.6M    0     0   112k      0  0:04:08  0:01:54  0:02:14  101k"
       ]
      },
      {
       "output_type": "stream",
       "stream": "stdout",
       "text": [
        "\r",
        " 46 27.3M   46 12.7M    0     0   112k      0  0:04:08  0:01:55  0:02:13  102k"
       ]
      },
      {
       "output_type": "stream",
       "stream": "stdout",
       "text": [
        "\r",
        " 46 27.3M   46 12.7M    0     0   112k      0  0:04:09  0:01:56  0:02:13  100k"
       ]
      },
      {
       "output_type": "stream",
       "stream": "stdout",
       "text": [
        "\r",
        " 47 27.3M   47 12.8M    0     0   112k      0  0:04:09  0:01:57  0:02:12 97475"
       ]
      },
      {
       "output_type": "stream",
       "stream": "stdout",
       "text": [
        "\r",
        " 47 27.3M   47 13.0M    0     0   112k      0  0:04:09  0:01:58  0:02:11  105k"
       ]
      },
      {
       "output_type": "stream",
       "stream": "stdout",
       "text": [
        "\r",
        " 47 27.3M   47 13.1M    0     0   112k      0  0:04:09  0:01:59  0:02:10  105k"
       ]
      },
      {
       "output_type": "stream",
       "stream": "stdout",
       "text": [
        "\r",
        " 48 27.3M   48 13.2M    0     0   111k      0  0:04:10  0:02:00  0:02:10 99702"
       ]
      },
      {
       "output_type": "stream",
       "stream": "stdout",
       "text": [
        "\r",
        " 48 27.3M   48 13.2M    0     0   111k      0  0:04:11  0:02:01  0:02:10 97484"
       ]
      },
      {
       "output_type": "stream",
       "stream": "stdout",
       "text": [
        "\r",
        " 48 27.3M   48 13.3M    0     0   111k      0  0:04:10  0:02:02  0:02:08  102k"
       ]
      },
      {
       "output_type": "stream",
       "stream": "stdout",
       "text": [
        "\r",
        " 49 27.3M   49 13.4M    0     0   111k      0  0:04:11  0:02:03  0:02:08 96989"
       ]
      },
      {
       "output_type": "stream",
       "stream": "stdout",
       "text": [
        "\r",
        " 49 27.3M   49 13.5M    0     0   111k      0  0:04:12  0:02:04  0:02:08 83763"
       ]
      },
      {
       "output_type": "stream",
       "stream": "stdout",
       "text": [
        "\r",
        " 49 27.3M   49 13.6M    0     0   111k      0  0:04:12  0:02:05  0:02:07 95304"
       ]
      },
      {
       "output_type": "stream",
       "stream": "stdout",
       "text": [
        "\r",
        " 50 27.3M   50 13.7M    0     0   111k      0  0:04:11  0:02:06  0:02:05  102k"
       ]
      },
      {
       "output_type": "stream",
       "stream": "stdout",
       "text": [
        "\r",
        " 50 27.3M   50 13.8M    0     0   111k      0  0:04:12  0:02:07  0:02:05 95974"
       ]
      },
      {
       "output_type": "stream",
       "stream": "stdout",
       "text": [
        "\r",
        " 50 27.3M   50 13.9M    0     0   110k      0  0:04:12  0:02:08  0:02:04 93832"
       ]
      },
      {
       "output_type": "stream",
       "stream": "stdout",
       "text": [
        "\r",
        " 51 27.3M   51 14.0M    0     0   110k      0  0:04:12  0:02:09  0:02:03  101k"
       ]
      },
      {
       "output_type": "stream",
       "stream": "stdout",
       "text": [
        "\r",
        " 51 27.3M   51 14.1M    0     0   110k      0  0:04:13  0:02:10  0:02:03 95934"
       ]
      },
      {
       "output_type": "stream",
       "stream": "stdout",
       "text": [
        "\r",
        " 51 27.3M   51 14.2M    0     0   110k      0  0:04:13  0:02:11  0:02:02 92815"
       ]
      },
      {
       "output_type": "stream",
       "stream": "stdout",
       "text": [
        "\r",
        " 52 27.3M   52 14.2M    0     0   110k      0  0:04:13  0:02:12  0:02:01 99278"
       ]
      },
      {
       "output_type": "stream",
       "stream": "stdout",
       "text": [
        "\r",
        " 52 27.3M   52 14.4M    0     0   110k      0  0:04:13  0:02:13  0:02:00  102k"
       ]
      },
      {
       "output_type": "stream",
       "stream": "stdout",
       "text": [
        "\r",
        " 52 27.3M   52 14.4M    0     0   110k      0  0:04:14  0:02:14  0:02:00 96864"
       ]
      },
      {
       "output_type": "stream",
       "stream": "stdout",
       "text": [
        "\r",
        " 53 27.3M   53 14.5M    0     0   110k      0  0:04:14  0:02:15  0:01:59 98828"
       ]
      },
      {
       "output_type": "stream",
       "stream": "stdout",
       "text": [
        "\r",
        " 53 27.3M   53 14.6M    0     0   109k      0  0:04:14  0:02:16  0:01:58 98648"
       ]
      },
      {
       "output_type": "stream",
       "stream": "stdout",
       "text": [
        "\r",
        " 53 27.3M   53 14.7M    0     0   109k      0  0:04:15  0:02:17  0:01:58 96941"
       ]
      },
      {
       "output_type": "stream",
       "stream": "stdout",
       "text": [
        "\r",
        " 54 27.3M   54 14.8M    0     0   109k      0  0:04:15  0:02:18  0:01:57 86796"
       ]
      },
      {
       "output_type": "stream",
       "stream": "stdout",
       "text": [
        "\r",
        " 54 27.3M   54 14.8M    0     0   109k      0  0:04:16  0:02:19  0:01:57 87741"
       ]
      },
      {
       "output_type": "stream",
       "stream": "stdout",
       "text": [
        "\r",
        " 54 27.3M   54 14.9M    0     0   109k      0  0:04:16  0:02:20  0:01:56 86866"
       ]
      },
      {
       "output_type": "stream",
       "stream": "stdout",
       "text": [
        "\r",
        " 55 27.3M   55 15.0M    0     0   109k      0  0:04:16  0:02:21  0:01:55 86918"
       ]
      },
      {
       "output_type": "stream",
       "stream": "stdout",
       "text": [
        "\r",
        " 55 27.3M   55 15.1M    0     0   109k      0  0:04:17  0:02:22  0:01:55 87424"
       ]
      },
      {
       "output_type": "stream",
       "stream": "stdout",
       "text": [
        "\r",
        " 55 27.3M   55 15.2M    0     0   109k      0  0:04:17  0:02:23  0:01:54 94818"
       ]
      },
      {
       "output_type": "stream",
       "stream": "stdout",
       "text": [
        "\r",
        " 56 27.3M   56 15.3M    0     0   108k      0  0:04:17  0:02:24  0:01:53 97231"
       ]
      },
      {
       "output_type": "stream",
       "stream": "stdout",
       "text": [
        "\r",
        " 56 27.3M   56 15.4M    0     0   108k      0  0:04:17  0:02:25  0:01:52   98k"
       ]
      },
      {
       "output_type": "stream",
       "stream": "stdout",
       "text": [
        "\r",
        " 56 27.3M   56 15.5M    0     0   108k      0  0:04:18  0:02:26  0:01:52 97562"
       ]
      },
      {
       "output_type": "stream",
       "stream": "stdout",
       "text": [
        "\r",
        " 57 27.3M   57 15.6M    0     0   108k      0  0:04:18  0:02:27  0:01:51 93984"
       ]
      },
      {
       "output_type": "stream",
       "stream": "stdout",
       "text": [
        "\r",
        " 57 27.3M   57 15.7M    0     0   108k      0  0:04:18  0:02:28  0:01:50 90521"
       ]
      },
      {
       "output_type": "stream",
       "stream": "stdout",
       "text": [
        "\r",
        " 57 27.3M   57 15.8M    0     0   108k      0  0:04:18  0:02:29  0:01:49 94229"
       ]
      },
      {
       "output_type": "stream",
       "stream": "stdout",
       "text": [
        "\r",
        " 58 27.3M   58 15.9M    0     0   108k      0  0:04:19  0:02:30  0:01:49 93835"
       ]
      },
      {
       "output_type": "stream",
       "stream": "stdout",
       "text": [
        "\r",
        " 58 27.3M   58 15.9M    0     0   108k      0  0:04:19  0:02:31  0:01:48 94134"
       ]
      },
      {
       "output_type": "stream",
       "stream": "stdout",
       "text": [
        "\r",
        " 58 27.3M   58 16.0M    0     0   108k      0  0:04:19  0:02:32  0:01:47 97260"
       ]
      },
      {
       "output_type": "stream",
       "stream": "stdout",
       "text": [
        "\r",
        " 58 27.3M   58 16.1M    0     0   107k      0  0:04:20  0:02:33  0:01:47 90557"
       ]
      },
      {
       "output_type": "stream",
       "stream": "stdout",
       "text": [
        "\r",
        " 59 27.3M   59 16.2M    0     0   107k      0  0:04:20  0:02:34  0:01:46 89956"
       ]
      },
      {
       "output_type": "stream",
       "stream": "stdout",
       "text": [
        "\r",
        " 59 27.3M   59 16.3M    0     0   107k      0  0:04:21  0:02:35  0:01:46 83746"
       ]
      },
      {
       "output_type": "stream",
       "stream": "stdout",
       "text": [
        "\r",
        " 59 27.3M   59 16.3M    0     0   107k      0  0:04:21  0:02:36  0:01:45 83291"
       ]
      },
      {
       "output_type": "stream",
       "stream": "stdout",
       "text": [
        "\r",
        " 60 27.3M   60 16.5M    0     0   107k      0  0:04:21  0:02:37  0:01:44 86745"
       ]
      },
      {
       "output_type": "stream",
       "stream": "stdout",
       "text": [
        "\r",
        " 60 27.3M   60 16.5M    0     0   107k      0  0:04:21  0:02:38  0:01:43 90521"
       ]
      },
      {
       "output_type": "stream",
       "stream": "stdout",
       "text": [
        "\r",
        " 60 27.3M   60 16.6M    0     0   106k      0  0:04:22  0:02:39  0:01:43 87262"
       ]
      },
      {
       "output_type": "stream",
       "stream": "stdout",
       "text": [
        "\r",
        " 61 27.3M   61 16.7M    0     0   106k      0  0:04:22  0:02:40  0:01:42 85559"
       ]
      },
      {
       "output_type": "stream",
       "stream": "stdout",
       "text": [
        "\r",
        " 61 27.3M   61 16.7M    0     0   106k      0  0:04:23  0:02:41  0:01:42 80076"
       ]
      },
      {
       "output_type": "stream",
       "stream": "stdout",
       "text": [
        "\r",
        " 61 27.3M   61 16.8M    0     0   106k      0  0:04:24  0:02:42  0:01:42 72490"
       ]
      },
      {
       "output_type": "stream",
       "stream": "stdout",
       "text": [
        "\r",
        " 61 27.3M   61 16.9M    0     0   106k      0  0:04:24  0:02:43  0:01:41 76671"
       ]
      },
      {
       "output_type": "stream",
       "stream": "stdout",
       "text": [
        "\r",
        " 62 27.3M   62 17.0M    0     0   105k      0  0:04:24  0:02:44  0:01:40 76651"
       ]
      },
      {
       "output_type": "stream",
       "stream": "stdout",
       "text": [
        "\r",
        " 62 27.3M   62 17.0M    0     0   105k      0  0:04:25  0:02:45  0:01:40 77487"
       ]
      },
      {
       "output_type": "stream",
       "stream": "stdout",
       "text": [
        "\r",
        " 62 27.3M   62 17.1M    0     0   105k      0  0:04:25  0:02:46  0:01:39 83038"
       ]
      },
      {
       "output_type": "stream",
       "stream": "stdout",
       "text": [
        "\r",
        " 62 27.3M   62 17.2M    0     0   105k      0  0:04:26  0:02:47  0:01:39 80945"
       ]
      },
      {
       "output_type": "stream",
       "stream": "stdout",
       "text": [
        "\r",
        " 63 27.3M   63 17.3M    0     0   105k      0  0:04:26  0:02:48  0:01:38 79744"
       ]
      },
      {
       "output_type": "stream",
       "stream": "stdout",
       "text": [
        "\r",
        " 63 27.3M   63 17.4M    0     0   105k      0  0:04:26  0:02:49  0:01:37 79017"
       ]
      },
      {
       "output_type": "stream",
       "stream": "stdout",
       "text": [
        "\r",
        " 63 27.3M   63 17.4M    0     0   105k      0  0:04:26  0:02:50  0:01:36 83591"
       ]
      },
      {
       "output_type": "stream",
       "stream": "stdout",
       "text": [
        "\r",
        " 64 27.3M   64 17.5M    0     0   104k      0  0:04:27  0:02:51  0:01:36 87577"
       ]
      },
      {
       "output_type": "stream",
       "stream": "stdout",
       "text": [
        "\r",
        " 64 27.3M   64 17.6M    0     0   104k      0  0:04:27  0:02:52  0:01:35 86866"
       ]
      },
      {
       "output_type": "stream",
       "stream": "stdout",
       "text": [
        "\r",
        " 64 27.3M   64 17.7M    0     0   104k      0  0:04:27  0:02:53  0:01:34 87454"
       ]
      },
      {
       "output_type": "stream",
       "stream": "stdout",
       "text": [
        "\r",
        " 65 27.3M   65 17.8M    0     0   104k      0  0:04:28  0:02:54  0:01:34 88527"
       ]
      },
      {
       "output_type": "stream",
       "stream": "stdout",
       "text": [
        "\r",
        " 65 27.3M   65 17.9M    0     0   104k      0  0:04:28  0:02:55  0:01:33 87040"
       ]
      },
      {
       "output_type": "stream",
       "stream": "stdout",
       "text": [
        "\r",
        " 65 27.3M   65 18.0M    0     0   104k      0  0:04:28  0:02:56  0:01:32 86506"
       ]
      },
      {
       "output_type": "stream",
       "stream": "stdout",
       "text": [
        "\r",
        " 66 27.3M   66 18.0M    0     0   104k      0  0:04:29  0:02:57  0:01:32 86280"
       ]
      },
      {
       "output_type": "stream",
       "stream": "stdout",
       "text": [
        "\r",
        " 66 27.3M   66 18.1M    0     0   103k      0  0:04:29  0:02:58  0:01:31 82731"
       ]
      },
      {
       "output_type": "stream",
       "stream": "stdout",
       "text": [
        "\r",
        " 66 27.3M   66 18.1M    0     0   103k      0  0:04:30  0:02:59  0:01:31 72518"
       ]
      },
      {
       "output_type": "stream",
       "stream": "stdout",
       "text": [
        "\r",
        " 66 27.3M   66 18.2M    0     0   103k      0  0:04:31  0:03:00  0:01:31 69147"
       ]
      },
      {
       "output_type": "stream",
       "stream": "stdout",
       "text": [
        "\r",
        " 66 27.3M   66 18.3M    0     0   103k      0  0:04:31  0:03:01  0:01:30 70329"
       ]
      },
      {
       "output_type": "stream",
       "stream": "stdout",
       "text": [
        "\r",
        " 67 27.3M   67 18.4M    0     0   103k      0  0:04:31  0:03:02  0:01:29 74332"
       ]
      },
      {
       "output_type": "stream",
       "stream": "stdout",
       "text": [
        "\r",
        " 67 27.3M   67 18.5M    0     0   103k      0  0:04:31  0:03:03  0:01:28 79664"
       ]
      },
      {
       "output_type": "stream",
       "stream": "stdout",
       "text": [
        "\r",
        " 67 27.3M   67 18.5M    0     0   103k      0  0:04:31  0:03:04  0:01:27 91104"
       ]
      },
      {
       "output_type": "stream",
       "stream": "stdout",
       "text": [
        "\r",
        " 68 27.3M   68 18.6M    0     0   102k      0  0:04:32  0:03:05  0:01:27 91294"
       ]
      },
      {
       "output_type": "stream",
       "stream": "stdout",
       "text": [
        "\r",
        " 68 27.3M   68 18.7M    0     0   102k      0  0:04:32  0:03:06  0:01:26 86935"
       ]
      },
      {
       "output_type": "stream",
       "stream": "stdout",
       "text": [
        "\r",
        " 68 27.3M   68 18.8M    0     0   102k      0  0:04:32  0:03:07  0:01:25 90521"
       ]
      },
      {
       "output_type": "stream",
       "stream": "stdout",
       "text": [
        "\r",
        " 69 27.3M   69 18.9M    0     0   102k      0  0:04:32  0:03:08  0:01:24 84540"
       ]
      },
      {
       "output_type": "stream",
       "stream": "stdout",
       "text": [
        "\r",
        " 69 27.3M   69 19.0M    0     0   102k      0  0:04:32  0:03:09  0:01:23 89281"
       ]
      },
      {
       "output_type": "stream",
       "stream": "stdout",
       "text": [
        "\r",
        " 69 27.3M   69 19.1M    0     0   102k      0  0:04:32  0:03:10  0:01:22 95101"
       ]
      },
      {
       "output_type": "stream",
       "stream": "stdout",
       "text": [
        "\r",
        " 70 27.3M   70 19.2M    0     0   102k      0  0:04:32  0:03:11  0:01:21 97290"
       ]
      },
      {
       "output_type": "stream",
       "stream": "stdout",
       "text": [
        "\r",
        " 70 27.3M   70 19.2M    0     0   102k      0  0:04:33  0:03:12  0:01:21 92577"
       ]
      },
      {
       "output_type": "stream",
       "stream": "stdout",
       "text": [
        "\r",
        " 70 27.3M   70 19.4M    0     0   102k      0  0:04:32  0:03:13  0:01:19  101k"
       ]
      },
      {
       "output_type": "stream",
       "stream": "stdout",
       "text": [
        "\r",
        " 71 27.3M   71 19.5M    0     0   102k      0  0:04:32  0:03:14  0:01:18  100k"
       ]
      },
      {
       "output_type": "stream",
       "stream": "stdout",
       "text": [
        "\r",
        " 71 27.3M   71 19.5M    0     0   102k      0  0:04:33  0:03:15  0:01:18   97k"
       ]
      },
      {
       "output_type": "stream",
       "stream": "stdout",
       "text": [
        "\r",
        " 71 27.3M   71 19.6M    0     0   102k      0  0:04:33  0:03:16  0:01:17 94003"
       ]
      },
      {
       "output_type": "stream",
       "stream": "stdout",
       "text": [
        "\r",
        " 72 27.3M   72 19.7M    0     0   102k      0  0:04:33  0:03:17  0:01:16 95260"
       ]
      },
      {
       "output_type": "stream",
       "stream": "stdout",
       "text": [
        "\r",
        " 72 27.3M   72 19.8M    0     0   102k      0  0:04:34  0:03:18  0:01:16 83763"
       ]
      },
      {
       "output_type": "stream",
       "stream": "stdout",
       "text": [
        "\r",
        " 72 27.3M   72 19.8M    0     0   101k      0  0:04:35  0:03:19  0:01:16 73098"
       ]
      },
      {
       "output_type": "stream",
       "stream": "stdout",
       "text": [
        "\r",
        " 72 27.3M   72 19.9M    0     0   101k      0  0:04:35  0:03:20  0:01:15 70230"
       ]
      },
      {
       "output_type": "stream",
       "stream": "stdout",
       "text": [
        "\r",
        " 73 27.3M   73 20.0M    0     0   101k      0  0:04:35  0:03:21  0:01:14 72104"
       ]
      },
      {
       "output_type": "stream",
       "stream": "stdout",
       "text": [
        "\r",
        " 73 27.3M   73 20.0M    0     0   101k      0  0:04:35  0:03:22  0:01:13 73142"
       ]
      },
      {
       "output_type": "stream",
       "stream": "stdout",
       "text": [
        "\r",
        " 73 27.3M   73 20.1M    0     0   101k      0  0:04:36  0:03:23  0:01:13 72298"
       ]
      },
      {
       "output_type": "stream",
       "stream": "stdout",
       "text": [
        "\r",
        " 73 27.3M   73 20.2M    0     0   101k      0  0:04:36  0:03:24  0:01:12 79633"
       ]
      },
      {
       "output_type": "stream",
       "stream": "stdout",
       "text": [
        "\r",
        " 74 27.3M   74 20.3M    0     0   101k      0  0:04:37  0:03:25  0:01:12 79964"
       ]
      },
      {
       "output_type": "stream",
       "stream": "stdout",
       "text": [
        "\r",
        " 74 27.3M   74 20.3M    0     0   100k      0  0:04:37  0:03:26  0:01:11 74272"
       ]
      },
      {
       "output_type": "stream",
       "stream": "stdout",
       "text": [
        "\r",
        " 74 27.3M   74 20.4M    0     0   100k      0  0:04:38  0:03:27  0:01:11 69757"
       ]
      },
      {
       "output_type": "stream",
       "stream": "stdout",
       "text": [
        "\r",
        " 74 27.3M   74 20.5M    0     0   100k      0  0:04:38  0:03:28  0:01:10 73637"
       ]
      },
      {
       "output_type": "stream",
       "stream": "stdout",
       "text": [
        "\r",
        " 75 27.3M   75 20.5M    0     0   100k      0  0:04:38  0:03:29  0:01:09 69920"
       ]
      },
      {
       "output_type": "stream",
       "stream": "stdout",
       "text": [
        "\r",
        " 75 27.3M   75 20.6M    0     0   100k      0  0:04:38  0:03:30  0:01:08 76533"
       ]
      },
      {
       "output_type": "stream",
       "stream": "stdout",
       "text": [
        "\r",
        " 75 27.3M   75 20.7M    0     0   100k      0  0:04:38  0:03:31  0:01:07 83591"
       ]
      },
      {
       "output_type": "stream",
       "stream": "stdout",
       "text": [
        "\r",
        " 76 27.3M   76 20.8M    0     0   100k      0  0:04:38  0:03:32  0:01:06 90340"
       ]
      },
      {
       "output_type": "stream",
       "stream": "stdout",
       "text": [
        "\r",
        " 76 27.3M   76 20.9M    0     0   100k      0  0:04:38  0:03:33  0:01:05 98042"
       ]
      },
      {
       "output_type": "stream",
       "stream": "stdout",
       "text": [
        "\r",
        " 76 27.3M   76 21.0M    0     0   100k      0  0:04:38  0:03:34  0:01:04   98k"
       ]
      },
      {
       "output_type": "stream",
       "stream": "stdout",
       "text": [
        "\r",
        " 77 27.3M   77 21.1M    0     0   100k      0  0:04:38  0:03:35  0:01:03  102k"
       ]
      },
      {
       "output_type": "stream",
       "stream": "stdout",
       "text": [
        "\r",
        " 77 27.3M   77 21.2M    0     0   100k      0  0:04:38  0:03:36  0:01:02  102k"
       ]
      },
      {
       "output_type": "stream",
       "stream": "stdout",
       "text": [
        "\r",
        " 78 27.3M   78 21.3M    0     0   100k      0  0:04:38  0:03:37  0:01:01  104k"
       ]
      },
      {
       "output_type": "stream",
       "stream": "stdout",
       "text": [
        "\r",
        " 78 27.3M   78 21.4M    0     0   100k      0  0:04:39  0:03:38  0:01:01 90035"
       ]
      },
      {
       "output_type": "stream",
       "stream": "stdout",
       "text": [
        "\r",
        " 78 27.3M   78 21.4M    0     0   100k      0  0:04:39  0:03:39  0:01:00 90661"
       ]
      },
      {
       "output_type": "stream",
       "stream": "stdout",
       "text": [
        "\r",
        " 78 27.3M   78 21.5M    0     0   100k      0  0:04:40  0:03:40  0:01:00 79977"
       ]
      },
      {
       "output_type": "stream",
       "stream": "stdout",
       "text": [
        "\r",
        " 79 27.3M   79 21.6M    0     0   100k      0  0:04:40  0:03:41  0:00:59 83458"
       ]
      },
      {
       "output_type": "stream",
       "stream": "stdout",
       "text": [
        "\r",
        " 79 27.3M   79 21.7M    0     0   100k      0  0:04:40  0:03:42  0:00:58 76830"
       ]
      },
      {
       "output_type": "stream",
       "stream": "stdout",
       "text": [
        "\r",
        " 79 27.3M   79 21.8M    0     0    99k      0  0:04:40  0:03:43  0:00:57 87389"
       ]
      },
      {
       "output_type": "stream",
       "stream": "stdout",
       "text": [
        "\r",
        " 79 27.3M   79 21.8M    0     0    99k      0  0:04:41  0:03:44  0:00:57 72794"
       ]
      },
      {
       "output_type": "stream",
       "stream": "stdout",
       "text": [
        "\r",
        " 80 27.3M   80 21.9M    0     0    99k      0  0:04:41  0:03:45  0:00:56 76442"
       ]
      },
      {
       "output_type": "stream",
       "stream": "stdout",
       "text": [
        "\r",
        " 80 27.3M   80 21.9M    0     0    99k      0  0:04:42  0:03:46  0:00:56 69299"
       ]
      },
      {
       "output_type": "stream",
       "stream": "stdout",
       "text": [
        "\r",
        " 80 27.3M   80 22.0M    0     0    99k      0  0:04:42  0:03:47  0:00:55 69841"
       ]
      },
      {
       "output_type": "stream",
       "stream": "stdout",
       "text": [
        "\r",
        " 80 27.3M   80 22.1M    0     0    99k      0  0:04:42  0:03:48  0:00:54 66018"
       ]
      },
      {
       "output_type": "stream",
       "stream": "stdout",
       "text": [
        "\r",
        " 81 27.3M   81 22.2M    0     0    99k      0  0:04:43  0:03:49  0:00:54 77135"
       ]
      },
      {
       "output_type": "stream",
       "stream": "stdout",
       "text": [
        "\r",
        " 81 27.3M   81 22.2M    0     0    98k      0  0:04:43  0:03:50  0:00:53 65275"
       ]
      },
      {
       "output_type": "stream",
       "stream": "stdout",
       "text": [
        "\r",
        " 81 27.3M   81 22.2M    0     0    98k      0  0:04:44  0:03:51  0:00:53 63021"
       ]
      },
      {
       "output_type": "stream",
       "stream": "stdout",
       "text": [
        "\r",
        " 81 27.3M   81 22.3M    0     0    98k      0  0:04:44  0:03:52  0:00:52 62794"
       ]
      },
      {
       "output_type": "stream",
       "stream": "stdout",
       "text": [
        "\r",
        " 81 27.3M   81 22.4M    0     0    98k      0  0:04:45  0:03:53  0:00:52 59353"
       ]
      },
      {
       "output_type": "stream",
       "stream": "stdout",
       "text": [
        "\r",
        " 82 27.3M   82 22.5M    0     0    98k      0  0:04:45  0:03:54  0:00:51 66005"
       ]
      },
      {
       "output_type": "stream",
       "stream": "stdout",
       "text": [
        "\r",
        " 82 27.3M   82 22.5M    0     0    98k      0  0:04:45  0:03:55  0:00:50 71009"
       ]
      },
      {
       "output_type": "stream",
       "stream": "stdout",
       "text": [
        "\r",
        " 82 27.3M   82 22.6M    0     0    97k      0  0:04:46  0:03:56  0:00:50 72865"
       ]
      },
      {
       "output_type": "stream",
       "stream": "stdout",
       "text": [
        "\r",
        " 83 27.3M   83 22.7M    0     0    97k      0  0:04:46  0:03:57  0:00:49 76427"
       ]
      },
      {
       "output_type": "stream",
       "stream": "stdout",
       "text": [
        "\r",
        " 83 27.3M   83 22.7M    0     0    97k      0  0:04:46  0:03:58  0:00:48 79760"
       ]
      },
      {
       "output_type": "stream",
       "stream": "stdout",
       "text": [
        "\r",
        " 83 27.3M   83 22.8M    0     0  99933      0  0:04:47  0:03:59  0:00:48 67810"
       ]
      },
      {
       "output_type": "stream",
       "stream": "stdout",
       "text": [
        "\r",
        " 83 27.3M   83 22.9M    0     0  99863      0  0:04:47  0:04:00  0:00:47 71778"
       ]
      },
      {
       "output_type": "stream",
       "stream": "stdout",
       "text": [
        "\r",
        " 84 27.3M   84 22.9M    0     0  99845      0  0:04:47  0:04:01  0:00:46 76748"
       ]
      },
      {
       "output_type": "stream",
       "stream": "stdout",
       "text": [
        "\r",
        " 84 27.3M   84 23.0M    0     0  99791      0  0:04:47  0:04:02  0:00:45 73274"
       ]
      },
      {
       "output_type": "stream",
       "stream": "stdout",
       "text": [
        "\r",
        " 84 27.3M   84 23.1M    0     0  99780      0  0:04:47  0:04:03  0:00:44 79064"
       ]
      },
      {
       "output_type": "stream",
       "stream": "stdout",
       "text": [
        "\r",
        " 84 27.3M   84 23.2M    0     0  99759      0  0:04:47  0:04:04  0:00:43 90706"
       ]
      },
      {
       "output_type": "stream",
       "stream": "stdout",
       "text": [
        "\r",
        " 85 27.3M   85 23.3M    0     0  99732      0  0:04:47  0:04:05  0:00:42 93461"
       ]
      },
      {
       "output_type": "stream",
       "stream": "stdout",
       "text": [
        "\r",
        " 85 27.3M   85 23.4M    0     0  99581      0  0:04:48  0:04:06  0:00:42 86831"
       ]
      },
      {
       "output_type": "stream",
       "stream": "stdout",
       "text": [
        "\r",
        " 85 27.3M   85 23.5M    0     0  99607      0  0:04:48  0:04:07  0:00:41 90630"
       ]
      },
      {
       "output_type": "stream",
       "stream": "stdout",
       "text": [
        "\r",
        " 86 27.3M   86 23.6M    0     0  99624      0  0:04:48  0:04:08  0:00:40 91918"
       ]
      },
      {
       "output_type": "stream",
       "stream": "stdout",
       "text": [
        "\r",
        " 86 27.3M   86 23.7M    0     0  99647      0  0:04:48  0:04:09  0:00:39 94134"
       ]
      },
      {
       "output_type": "stream",
       "stream": "stdout",
       "text": [
        "\r",
        " 86 27.3M   86 23.8M    0     0  99667      0  0:04:48  0:04:10  0:00:38 96386"
       ]
      },
      {
       "output_type": "stream",
       "stream": "stdout",
       "text": [
        "\r",
        " 87 27.3M   87 23.9M    0     0  99677      0  0:04:47  0:04:11  0:00:36  101k"
       ]
      },
      {
       "output_type": "stream",
       "stream": "stdout",
       "text": [
        "\r",
        " 87 27.3M   87 24.0M    0     0  99770      0  0:04:47  0:04:12  0:00:35  105k"
       ]
      },
      {
       "output_type": "stream",
       "stream": "stdout",
       "text": [
        "\r",
        " 88 27.3M   88 24.1M    0     0  99792      0  0:04:47  0:04:13  0:00:34  105k"
       ]
      },
      {
       "output_type": "stream",
       "stream": "stdout",
       "text": [
        "\r",
        " 88 27.3M   88 24.2M    0     0  99736      0  0:04:47  0:04:14  0:00:33  101k"
       ]
      },
      {
       "output_type": "stream",
       "stream": "stdout",
       "text": [
        "\r",
        " 88 27.3M   88 24.2M    0     0  99685      0  0:04:47  0:04:15  0:00:32   98k"
       ]
      },
      {
       "output_type": "stream",
       "stream": "stdout",
       "text": [
        "\r",
        " 89 27.3M   89 24.3M    0     0  99643      0  0:04:48  0:04:16  0:00:32 97935"
       ]
      },
      {
       "output_type": "stream",
       "stream": "stdout",
       "text": [
        "\r",
        " 89 27.3M   89 24.4M    0     0  99593      0  0:04:48  0:04:17  0:00:31 90612"
       ]
      },
      {
       "output_type": "stream",
       "stream": "stdout",
       "text": [
        "\r",
        " 89 27.3M   89 24.5M    0     0  99611      0  0:04:48  0:04:18  0:00:30 90467"
       ]
      },
      {
       "output_type": "stream",
       "stream": "stdout",
       "text": [
        "\r",
        " 90 27.3M   90 24.6M    0     0  99525      0  0:04:48  0:04:19  0:00:29 88973"
       ]
      },
      {
       "output_type": "stream",
       "stream": "stdout",
       "text": [
        "\r",
        " 90 27.3M   90 24.7M    0     0  99576      0  0:04:48  0:04:20  0:00:28 94038"
       ]
      },
      {
       "output_type": "stream",
       "stream": "stdout",
       "text": [
        "\r",
        " 90 27.3M   90 24.8M    0     0  99599      0  0:04:48  0:04:21  0:00:27 97329"
       ]
      },
      {
       "output_type": "stream",
       "stream": "stdout",
       "text": [
        "\r",
        " 91 27.3M   91 24.9M    0     0  99679      0  0:04:47  0:04:22  0:00:25  101k"
       ]
      },
      {
       "output_type": "stream",
       "stream": "stdout",
       "text": [
        "\r",
        " 91 27.3M   91 25.0M    0     0  99704      0  0:04:47  0:04:23  0:00:24  102k"
       ]
      },
      {
       "output_type": "stream",
       "stream": "stdout",
       "text": [
        "\r",
        " 91 27.3M   91 25.1M    0     0  99647      0  0:04:48  0:04:24  0:00:24  103k"
       ]
      },
      {
       "output_type": "stream",
       "stream": "stdout",
       "text": [
        "\r",
        " 92 27.3M   92 25.2M    0     0  99675      0  0:04:47  0:04:25  0:00:22  102k"
       ]
      },
      {
       "output_type": "stream",
       "stream": "stdout",
       "text": [
        "\r",
        " 92 27.3M   92 25.3M    0     0  99619      0  0:04:48  0:04:26  0:00:22   98k"
       ]
      },
      {
       "output_type": "stream",
       "stream": "stdout",
       "text": [
        "\r",
        " 92 27.3M   92 25.4M    0     0  99547      0  0:04:48  0:04:27  0:00:21 92686"
       ]
      },
      {
       "output_type": "stream",
       "stream": "stdout",
       "text": [
        "\r",
        " 93 27.3M   93 25.4M    0     0  99468      0  0:04:48  0:04:28  0:00:20 87022"
       ]
      },
      {
       "output_type": "stream",
       "stream": "stdout",
       "text": [
        "\r",
        " 93 27.3M   93 25.5M    0     0  99525      0  0:04:48  0:04:29  0:00:19 93127"
       ]
      },
      {
       "output_type": "stream",
       "stream": "stdout",
       "text": [
        "\r",
        " 93 27.3M   93 25.7M    0     0  99494      0  0:04:48  0:04:30  0:00:18 90543"
       ]
      },
      {
       "output_type": "stream",
       "stream": "stdout",
       "text": [
        "\r",
        " 94 27.3M   94 25.7M    0     0  99390      0  0:04:48  0:04:31  0:00:17 87209"
       ]
      },
      {
       "output_type": "stream",
       "stream": "stdout",
       "text": [
        "\r",
        " 94 27.3M   94 25.7M    0     0  99026      0  0:04:49  0:04:32  0:00:17 71740"
       ]
      },
      {
       "output_type": "stream",
       "stream": "stdout",
       "text": [
        "\r",
        " 94 27.3M   94 25.8M    0     0  98986      0  0:04:49  0:04:33  0:00:16 73128"
       ]
      },
      {
       "output_type": "stream",
       "stream": "stdout",
       "text": [
        "\r",
        " 94 27.3M   94 25.9M    0     0  98942      0  0:04:50  0:04:34  0:00:16 67147"
       ]
      },
      {
       "output_type": "stream",
       "stream": "stdout",
       "text": [
        "\r",
        " 95 27.3M   95 26.0M    0     0  98977      0  0:04:50  0:04:35  0:00:15 70592"
       ]
      },
      {
       "output_type": "stream",
       "stream": "stdout",
       "text": [
        "\r",
        " 95 27.3M   95 26.1M    0     0  98959      0  0:04:50  0:04:36  0:00:14 75724"
       ]
      },
      {
       "output_type": "stream",
       "stream": "stdout",
       "text": [
        "\r",
        " 95 27.3M   95 26.1M    0     0  98858      0  0:04:50  0:04:37  0:00:13 89447"
       ]
      },
      {
       "output_type": "stream",
       "stream": "stdout",
       "text": [
        "\r",
        " 95 27.3M   95 26.2M    0     0  98771      0  0:04:50  0:04:38  0:00:12 87022"
       ]
      },
      {
       "output_type": "stream",
       "stream": "stdout",
       "text": [
        "\r",
        " 96 27.3M   96 26.3M    0     0  98792      0  0:04:50  0:04:39  0:00:11 90521"
       ]
      },
      {
       "output_type": "stream",
       "stream": "stdout",
       "text": [
        "\r",
        " 96 27.3M   96 26.4M    0     0  98871      0  0:04:50  0:04:40  0:00:10 92655"
       ]
      },
      {
       "output_type": "stream",
       "stream": "stdout",
       "text": [
        "\r",
        " 96 27.3M   96 26.5M    0     0  98768      0  0:04:50  0:04:41  0:00:09 88108"
       ]
      },
      {
       "output_type": "stream",
       "stream": "stdout",
       "text": [
        "\r",
        " 97 27.3M   97 26.5M    0     0  98668      0  0:04:50  0:04:42  0:00:08 87983"
       ]
      },
      {
       "output_type": "stream",
       "stream": "stdout",
       "text": [
        "\r",
        " 97 27.3M   97 26.6M    0     0  98627      0  0:04:51  0:04:43  0:00:08 90575"
       ]
      },
      {
       "output_type": "stream",
       "stream": "stdout",
       "text": [
        "\r",
        " 97 27.3M   97 26.7M    0     0  98384      0  0:04:51  0:04:44  0:00:07 76569"
       ]
      },
      {
       "output_type": "stream",
       "stream": "stdout",
       "text": [
        "\r",
        " 97 27.3M   97 26.7M    0     0  98346      0  0:04:51  0:04:45  0:00:06 69120"
       ]
      },
      {
       "output_type": "stream",
       "stream": "stdout",
       "text": [
        "\r",
        " 98 27.3M   98 26.8M    0     0  98201      0  0:04:52  0:04:46  0:00:06 66229"
       ]
      },
      {
       "output_type": "stream",
       "stream": "stdout",
       "text": [
        "\r",
        " 98 27.3M   98 26.9M    0     0  98223      0  0:04:52  0:04:47  0:00:05 73098"
       ]
      },
      {
       "output_type": "stream",
       "stream": "stdout",
       "text": [
        "\r",
        " 98 27.3M   98 27.0M    0     0  98238      0  0:04:52  0:04:48  0:00:04 76237"
       ]
      },
      {
       "output_type": "stream",
       "stream": "stdout",
       "text": [
        "\r",
        " 98 27.3M   98 27.0M    0     0  98130      0  0:04:52  0:04:49  0:00:03 83061"
       ]
      },
      {
       "output_type": "stream",
       "stream": "stdout",
       "text": [
        "\r",
        " 99 27.3M   99 27.1M    0     0  97981      0  0:04:52  0:04:50  0:00:02 77026"
       ]
      },
      {
       "output_type": "stream",
       "stream": "stdout",
       "text": [
        "\r",
        " 99 27.3M   99 27.2M    0     0  97943      0  0:04:53  0:04:51  0:00:02 83225"
       ]
      },
      {
       "output_type": "stream",
       "stream": "stdout",
       "text": [
        "\r",
        " 99 27.3M   99 27.3M    0     0  97910      0  0:04:53  0:04:52  0:00:01 79887"
       ]
      },
      {
       "output_type": "stream",
       "stream": "stdout",
       "text": [
        "\r",
        "100 27.3M  100 27.3M    0     0  97953      0  0:04:53  0:04:53 --:--:-- 79770\r\n"
       ]
      }
     ],
     "prompt_number": 2
    },
    {
     "cell_type": "markdown",
     "metadata": {},
     "source": [
      "Import data in pandas dataframe"
     ]
    },
    {
     "cell_type": "code",
     "collapsed": false,
     "input": [
      "df = pd.read_csv(\"/Users/nathanchoo/Desktop/GeneralAssembly/DAT_SF_10/Labs/Lab12/beer_reviews.tar.gz\", compression='gzip')"
     ],
     "language": "python",
     "metadata": {},
     "outputs": [
      {
       "output_type": "stream",
       "stream": "stderr",
       "text": [
        "/Users/nathanchoo/anaconda/lib/python2.7/site-packages/pandas/io/parsers.py:1130: DtypeWarning: Columns (0) have mixed types. Specify dtype option on import or set low_memory=False.\n",
        "  data = self._reader.read(nrows)\n"
       ]
      }
     ],
     "prompt_number": 4
    },
    {
     "cell_type": "markdown",
     "metadata": {},
     "source": [
      "Let's look at the data"
     ]
    },
    {
     "cell_type": "code",
     "collapsed": false,
     "input": [
      "df.head()"
     ],
     "language": "python",
     "metadata": {},
     "outputs": [
      {
       "html": [
        "<div style=\"max-height:1000px;max-width:1500px;overflow:auto;\">\n",
        "<table border=\"1\" class=\"dataframe\">\n",
        "  <thead>\n",
        "    <tr style=\"text-align: right;\">\n",
        "      <th></th>\n",
        "      <th>beer_reviews/</th>\n",
        "      <th>brewery_name</th>\n",
        "      <th>review_time</th>\n",
        "      <th>review_overall</th>\n",
        "      <th>review_aroma</th>\n",
        "      <th>review_appearance</th>\n",
        "      <th>review_profilename</th>\n",
        "      <th>beer_style</th>\n",
        "      <th>review_palate</th>\n",
        "      <th>review_taste</th>\n",
        "      <th>beer_name</th>\n",
        "      <th>beer_abv</th>\n",
        "      <th>beer_beerid</th>\n",
        "    </tr>\n",
        "  </thead>\n",
        "  <tbody>\n",
        "    <tr>\n",
        "      <th>0</th>\n",
        "      <td> 10325</td>\n",
        "      <td>         Vecchio Birraio</td>\n",
        "      <td> 1234817823</td>\n",
        "      <td> 1.5</td>\n",
        "      <td> 2.0</td>\n",
        "      <td> 2.5</td>\n",
        "      <td>        stcules</td>\n",
        "      <td>                     Hefeweizen</td>\n",
        "      <td> 1.5</td>\n",
        "      <td> 1.5</td>\n",
        "      <td>           Sausa Weizen</td>\n",
        "      <td> 5.0</td>\n",
        "      <td> 47986</td>\n",
        "    </tr>\n",
        "    <tr>\n",
        "      <th>1</th>\n",
        "      <td> 10325</td>\n",
        "      <td>         Vecchio Birraio</td>\n",
        "      <td> 1235915097</td>\n",
        "      <td> 3.0</td>\n",
        "      <td> 2.5</td>\n",
        "      <td> 3.0</td>\n",
        "      <td>        stcules</td>\n",
        "      <td>             English Strong Ale</td>\n",
        "      <td> 3.0</td>\n",
        "      <td> 3.0</td>\n",
        "      <td>               Red Moon</td>\n",
        "      <td> 6.2</td>\n",
        "      <td> 48213</td>\n",
        "    </tr>\n",
        "    <tr>\n",
        "      <th>2</th>\n",
        "      <td> 10325</td>\n",
        "      <td>         Vecchio Birraio</td>\n",
        "      <td> 1235916604</td>\n",
        "      <td> 3.0</td>\n",
        "      <td> 2.5</td>\n",
        "      <td> 3.0</td>\n",
        "      <td>        stcules</td>\n",
        "      <td>         Foreign / Export Stout</td>\n",
        "      <td> 3.0</td>\n",
        "      <td> 3.0</td>\n",
        "      <td> Black Horse Black Beer</td>\n",
        "      <td> 6.5</td>\n",
        "      <td> 48215</td>\n",
        "    </tr>\n",
        "    <tr>\n",
        "      <th>3</th>\n",
        "      <td> 10325</td>\n",
        "      <td>         Vecchio Birraio</td>\n",
        "      <td> 1234725145</td>\n",
        "      <td> 3.0</td>\n",
        "      <td> 3.0</td>\n",
        "      <td> 3.5</td>\n",
        "      <td>        stcules</td>\n",
        "      <td>                German Pilsener</td>\n",
        "      <td> 2.5</td>\n",
        "      <td> 3.0</td>\n",
        "      <td>             Sausa Pils</td>\n",
        "      <td> 5.0</td>\n",
        "      <td> 47969</td>\n",
        "    </tr>\n",
        "    <tr>\n",
        "      <th>4</th>\n",
        "      <td>  1075</td>\n",
        "      <td> Caldera Brewing Company</td>\n",
        "      <td> 1293735206</td>\n",
        "      <td> 4.0</td>\n",
        "      <td> 4.5</td>\n",
        "      <td> 4.0</td>\n",
        "      <td> johnmichaelsen</td>\n",
        "      <td> American Double / Imperial IPA</td>\n",
        "      <td> 4.0</td>\n",
        "      <td> 4.5</td>\n",
        "      <td>          Cauldron DIPA</td>\n",
        "      <td> 7.7</td>\n",
        "      <td> 64883</td>\n",
        "    </tr>\n",
        "  </tbody>\n",
        "</table>\n",
        "</div>"
       ],
       "metadata": {},
       "output_type": "pyout",
       "prompt_number": 8,
       "text": [
        "  beer_reviews/             brewery_name  review_time  review_overall  \\\n",
        "0         10325          Vecchio Birraio   1234817823             1.5   \n",
        "1         10325          Vecchio Birraio   1235915097             3.0   \n",
        "2         10325          Vecchio Birraio   1235916604             3.0   \n",
        "3         10325          Vecchio Birraio   1234725145             3.0   \n",
        "4          1075  Caldera Brewing Company   1293735206             4.0   \n",
        "\n",
        "   review_aroma  review_appearance review_profilename  \\\n",
        "0           2.0                2.5            stcules   \n",
        "1           2.5                3.0            stcules   \n",
        "2           2.5                3.0            stcules   \n",
        "3           3.0                3.5            stcules   \n",
        "4           4.5                4.0     johnmichaelsen   \n",
        "\n",
        "                       beer_style  review_palate  review_taste  \\\n",
        "0                      Hefeweizen            1.5           1.5   \n",
        "1              English Strong Ale            3.0           3.0   \n",
        "2          Foreign / Export Stout            3.0           3.0   \n",
        "3                 German Pilsener            2.5           3.0   \n",
        "4  American Double / Imperial IPA            4.0           4.5   \n",
        "\n",
        "                beer_name  beer_abv  beer_beerid  \n",
        "0            Sausa Weizen       5.0        47986  \n",
        "1                Red Moon       6.2        48213  \n",
        "2  Black Horse Black Beer       6.5        48215  \n",
        "3              Sausa Pils       5.0        47969  \n",
        "4           Cauldron DIPA       7.7        64883  "
       ]
      }
     ],
     "prompt_number": 8
    },
    {
     "cell_type": "markdown",
     "metadata": {},
     "source": [
      "Let's restrict this to the top 250 beers. Use the value_counts() method"
     ]
    },
    {
     "cell_type": "code",
     "collapsed": false,
     "input": [
      "n = 250\n",
      "top_n = df.beer_name.value_counts().index[:n]\n",
      "df = df[df.beer_name.isin(top_n)]\n",
      "df.head()\n",
      "\n",
      "df.info()"
     ],
     "language": "python",
     "metadata": {},
     "outputs": [
      {
       "output_type": "stream",
       "stream": "stdout",
       "text": [
        "<class 'pandas.core.frame.DataFrame'>\n",
        "Int64Index: 355275 entries, 798 to 1586564\n",
        "Data columns (total 13 columns):\n",
        "beer_reviews/         355275 non-null object\n",
        "brewery_name          355275 non-null object\n",
        "review_time           355275 non-null float64\n",
        "review_overall        355275 non-null float64\n",
        "review_aroma          355275 non-null float64\n",
        "review_appearance     355275 non-null float64\n",
        "review_profilename    355175 non-null object\n",
        "beer_style            355275 non-null object\n",
        "review_palate         355275 non-null float64\n",
        "review_taste          355275 non-null float64\n",
        "beer_name             355275 non-null object\n",
        "beer_abv              353477 non-null float64\n",
        "beer_beerid           355275 non-null float64\n",
        "dtypes: float64(8), object(5)"
       ]
      }
     ],
     "prompt_number": 29
    },
    {
     "cell_type": "markdown",
     "metadata": {},
     "source": [
      "How big is this dataset?"
     ]
    },
    {
     "cell_type": "code",
     "collapsed": false,
     "input": [
      "df.info()"
     ],
     "language": "python",
     "metadata": {},
     "outputs": [
      {
       "output_type": "stream",
       "stream": "stdout",
       "text": [
        "<class 'pandas.core.frame.DataFrame'>\n",
        "Int64Index: 355275 entries, 798 to 1586564\n",
        "Data columns (total 13 columns):\n",
        "beer_reviews/         355275 non-null object\n",
        "brewery_name          355275 non-null object\n",
        "review_time           355275 non-null float64\n",
        "review_overall        355275 non-null float64\n",
        "review_aroma          355275 non-null float64\n",
        "review_appearance     355275 non-null float64\n",
        "review_profilename    355175 non-null object\n",
        "beer_style            355275 non-null object\n",
        "review_palate         355275 non-null float64\n",
        "review_taste          355275 non-null float64\n",
        "beer_name             355275 non-null object\n",
        "beer_abv              353477 non-null float64\n",
        "beer_beerid           355275 non-null float64\n",
        "dtypes: float64(8), object(5)"
       ]
      }
     ],
     "prompt_number": 28
    },
    {
     "cell_type": "markdown",
     "metadata": {},
     "source": [
      "Aggregate the data in a pivot table using the pivot_table method. Display the mean review_overall for each beer_name aggregating the review_overall values by review_profilename. Use the mean as aggregator."
     ]
    },
    {
     "cell_type": "code",
     "collapsed": false,
     "input": [
      "df_wide = pd.pivot_table(df, values=[\"review_overall\"],\n",
      "        rows=[\"beer_name\", \"review_profilename\"],\n",
      "        aggfunc=np.mean).unstack()\n",
      "df_wide.shape"
     ],
     "language": "python",
     "metadata": {},
     "outputs": [
      {
       "metadata": {},
       "output_type": "pyout",
       "prompt_number": 35,
       "text": [
        "(250, 22140)"
       ]
      }
     ],
     "prompt_number": 35
    },
    {
     "cell_type": "markdown",
     "metadata": {},
     "source": [
      "Display the head of the pivot table, but only for 5 users (columns are users)"
     ]
    },
    {
     "cell_type": "code",
     "collapsed": false,
     "input": [
      "df_wide.head()"
     ],
     "language": "python",
     "metadata": {},
     "outputs": [
      {
       "html": [
        "<div style=\"max-height:1000px;max-width:1500px;overflow:auto;\">\n",
        "<table border=\"1\" class=\"dataframe\">\n",
        "  <thead>\n",
        "    <tr>\n",
        "      <th></th>\n",
        "      <th colspan=\"21\" halign=\"left\">review_overall</th>\n",
        "    </tr>\n",
        "    <tr>\n",
        "      <th>review_profilename</th>\n",
        "      <th>0110x011</th>\n",
        "      <th>02maxima</th>\n",
        "      <th>03SVTCobra</th>\n",
        "      <th>05Harley</th>\n",
        "      <th>0Naught0</th>\n",
        "      <th>0beerguy0</th>\n",
        "      <th>0runkp0s</th>\n",
        "      <th>0tt0</th>\n",
        "      <th>1000Bottles</th>\n",
        "      <th>1001111.0</th>\n",
        "      <th>...</th>\n",
        "      <th>zuker</th>\n",
        "      <th>zulufactor</th>\n",
        "      <th>zumicroom</th>\n",
        "      <th>zwalk8</th>\n",
        "      <th>zwoehr</th>\n",
        "      <th>zymrgy</th>\n",
        "      <th>zymurgy4all</th>\n",
        "      <th>zymurgywhiz</th>\n",
        "      <th>zythus</th>\n",
        "      <th>zyzygy</th>\n",
        "    </tr>\n",
        "    <tr>\n",
        "      <th>beer_name</th>\n",
        "      <th></th>\n",
        "      <th></th>\n",
        "      <th></th>\n",
        "      <th></th>\n",
        "      <th></th>\n",
        "      <th></th>\n",
        "      <th></th>\n",
        "      <th></th>\n",
        "      <th></th>\n",
        "      <th></th>\n",
        "      <th></th>\n",
        "      <th></th>\n",
        "      <th></th>\n",
        "      <th></th>\n",
        "      <th></th>\n",
        "      <th></th>\n",
        "      <th></th>\n",
        "      <th></th>\n",
        "      <th></th>\n",
        "      <th></th>\n",
        "      <th></th>\n",
        "    </tr>\n",
        "  </thead>\n",
        "  <tbody>\n",
        "    <tr>\n",
        "      <th>#9</th>\n",
        "      <td>NaN</td>\n",
        "      <td>NaN</td>\n",
        "      <td>NaN</td>\n",
        "      <td>NaN</td>\n",
        "      <td>NaN</td>\n",
        "      <td>NaN</td>\n",
        "      <td>NaN</td>\n",
        "      <td> NaN</td>\n",
        "      <td>NaN</td>\n",
        "      <td>NaN</td>\n",
        "      <td>...</td>\n",
        "      <td>NaN</td>\n",
        "      <td>NaN</td>\n",
        "      <td>NaN</td>\n",
        "      <td>NaN</td>\n",
        "      <td>NaN</td>\n",
        "      <td>NaN</td>\n",
        "      <td>NaN</td>\n",
        "      <td>NaN</td>\n",
        "      <td>NaN</td>\n",
        "      <td>NaN</td>\n",
        "    </tr>\n",
        "    <tr>\n",
        "      <th>120 Minute IPA</th>\n",
        "      <td>NaN</td>\n",
        "      <td>NaN</td>\n",
        "      <td>NaN</td>\n",
        "      <td>  4</td>\n",
        "      <td>NaN</td>\n",
        "      <td>NaN</td>\n",
        "      <td>NaN</td>\n",
        "      <td> 1.5</td>\n",
        "      <td>NaN</td>\n",
        "      <td>NaN</td>\n",
        "      <td>...</td>\n",
        "      <td>NaN</td>\n",
        "      <td>NaN</td>\n",
        "      <td>NaN</td>\n",
        "      <td>NaN</td>\n",
        "      <td>NaN</td>\n",
        "      <td>NaN</td>\n",
        "      <td>NaN</td>\n",
        "      <td>NaN</td>\n",
        "      <td>NaN</td>\n",
        "      <td>NaN</td>\n",
        "    </tr>\n",
        "    <tr>\n",
        "      <th>1554 Enlightened Black Ale</th>\n",
        "      <td>NaN</td>\n",
        "      <td>NaN</td>\n",
        "      <td>NaN</td>\n",
        "      <td>NaN</td>\n",
        "      <td>NaN</td>\n",
        "      <td>NaN</td>\n",
        "      <td>NaN</td>\n",
        "      <td> NaN</td>\n",
        "      <td>NaN</td>\n",
        "      <td>NaN</td>\n",
        "      <td>...</td>\n",
        "      <td>NaN</td>\n",
        "      <td>NaN</td>\n",
        "      <td>NaN</td>\n",
        "      <td>NaN</td>\n",
        "      <td>NaN</td>\n",
        "      <td>NaN</td>\n",
        "      <td>NaN</td>\n",
        "      <td>NaN</td>\n",
        "      <td>NaN</td>\n",
        "      <td>NaN</td>\n",
        "    </tr>\n",
        "    <tr>\n",
        "      <th>60 Minute IPA</th>\n",
        "      <td>NaN</td>\n",
        "      <td>NaN</td>\n",
        "      <td>NaN</td>\n",
        "      <td>NaN</td>\n",
        "      <td>NaN</td>\n",
        "      <td>NaN</td>\n",
        "      <td>NaN</td>\n",
        "      <td> NaN</td>\n",
        "      <td>NaN</td>\n",
        "      <td>NaN</td>\n",
        "      <td>...</td>\n",
        "      <td>NaN</td>\n",
        "      <td>NaN</td>\n",
        "      <td>NaN</td>\n",
        "      <td>NaN</td>\n",
        "      <td>NaN</td>\n",
        "      <td>NaN</td>\n",
        "      <td>NaN</td>\n",
        "      <td>NaN</td>\n",
        "      <td>NaN</td>\n",
        "      <td>NaN</td>\n",
        "    </tr>\n",
        "    <tr>\n",
        "      <th>90 Minute IPA</th>\n",
        "      <td>  5</td>\n",
        "      <td>NaN</td>\n",
        "      <td>NaN</td>\n",
        "      <td>  4</td>\n",
        "      <td>NaN</td>\n",
        "      <td>NaN</td>\n",
        "      <td>NaN</td>\n",
        "      <td> NaN</td>\n",
        "      <td>NaN</td>\n",
        "      <td>NaN</td>\n",
        "      <td>...</td>\n",
        "      <td>NaN</td>\n",
        "      <td>NaN</td>\n",
        "      <td>NaN</td>\n",
        "      <td>NaN</td>\n",
        "      <td>NaN</td>\n",
        "      <td>NaN</td>\n",
        "      <td>NaN</td>\n",
        "      <td>NaN</td>\n",
        "      <td>NaN</td>\n",
        "      <td>NaN</td>\n",
        "    </tr>\n",
        "  </tbody>\n",
        "</table>\n",
        "<p>5 rows \u00d7 22140 columns</p>\n",
        "</div>"
       ],
       "metadata": {},
       "output_type": "pyout",
       "prompt_number": 36,
       "text": [
        "                            review_overall                                  \\\n",
        "review_profilename                0110x011  02maxima  03SVTCobra  05Harley   \n",
        "beer_name                                                                    \n",
        "#9                                     NaN       NaN         NaN       NaN   \n",
        "120 Minute IPA                         NaN       NaN         NaN         4   \n",
        "1554 Enlightened Black Ale             NaN       NaN         NaN       NaN   \n",
        "60 Minute IPA                          NaN       NaN         NaN       NaN   \n",
        "90 Minute IPA                            5       NaN         NaN         4   \n",
        "\n",
        "                                                                              \\\n",
        "review_profilename          0Naught0  0beerguy0  0runkp0s  0tt0  1000Bottles   \n",
        "beer_name                                                                      \n",
        "#9                               NaN        NaN       NaN   NaN          NaN   \n",
        "120 Minute IPA                   NaN        NaN       NaN   1.5          NaN   \n",
        "1554 Enlightened Black Ale       NaN        NaN       NaN   NaN          NaN   \n",
        "60 Minute IPA                    NaN        NaN       NaN   NaN          NaN   \n",
        "90 Minute IPA                    NaN        NaN       NaN   NaN          NaN   \n",
        "\n",
        "                                         ...                         \\\n",
        "review_profilename          1001111.0    ...      zuker  zulufactor   \n",
        "beer_name                                ...                          \n",
        "#9                                NaN    ...        NaN         NaN   \n",
        "120 Minute IPA                    NaN    ...        NaN         NaN   \n",
        "1554 Enlightened Black Ale        NaN    ...        NaN         NaN   \n",
        "60 Minute IPA                     NaN    ...        NaN         NaN   \n",
        "90 Minute IPA                     NaN    ...        NaN         NaN   \n",
        "\n",
        "                                                                            \\\n",
        "review_profilename          zumicroom  zwalk8  zwoehr  zymrgy  zymurgy4all   \n",
        "beer_name                                                                    \n",
        "#9                                NaN     NaN     NaN     NaN          NaN   \n",
        "120 Minute IPA                    NaN     NaN     NaN     NaN          NaN   \n",
        "1554 Enlightened Black Ale        NaN     NaN     NaN     NaN          NaN   \n",
        "60 Minute IPA                     NaN     NaN     NaN     NaN          NaN   \n",
        "90 Minute IPA                     NaN     NaN     NaN     NaN          NaN   \n",
        "\n",
        "                                                         \n",
        "review_profilename          zymurgywhiz  zythus  zyzygy  \n",
        "beer_name                                                \n",
        "#9                                  NaN     NaN     NaN  \n",
        "120 Minute IPA                      NaN     NaN     NaN  \n",
        "1554 Enlightened Black Ale          NaN     NaN     NaN  \n",
        "60 Minute IPA                       NaN     NaN     NaN  \n",
        "90 Minute IPA                       NaN     NaN     NaN  \n",
        "\n",
        "[5 rows x 22140 columns]"
       ]
      }
     ],
     "prompt_number": 36
    },
    {
     "cell_type": "markdown",
     "metadata": {},
     "source": [
      "### Discussion: what do you notice in this table?"
     ]
    },
    {
     "cell_type": "markdown",
     "metadata": {},
     "source": [
      "Set Nans to zero"
     ]
    },
    {
     "cell_type": "code",
     "collapsed": false,
     "input": [
      "df_wide.fillna(0)"
     ],
     "language": "python",
     "metadata": {},
     "outputs": [
      {
       "html": [
        "<div style=\"max-height:1000px;max-width:1500px;overflow:auto;\">\n",
        "<table border=\"1\" class=\"dataframe\">\n",
        "  <thead>\n",
        "    <tr>\n",
        "      <th></th>\n",
        "      <th colspan=\"21\" halign=\"left\">review_overall</th>\n",
        "    </tr>\n",
        "    <tr>\n",
        "      <th>review_profilename</th>\n",
        "      <th>0110x011</th>\n",
        "      <th>02maxima</th>\n",
        "      <th>03SVTCobra</th>\n",
        "      <th>05Harley</th>\n",
        "      <th>0Naught0</th>\n",
        "      <th>0beerguy0</th>\n",
        "      <th>0runkp0s</th>\n",
        "      <th>0tt0</th>\n",
        "      <th>1000Bottles</th>\n",
        "      <th>1001111.0</th>\n",
        "      <th>...</th>\n",
        "      <th>zuker</th>\n",
        "      <th>zulufactor</th>\n",
        "      <th>zumicroom</th>\n",
        "      <th>zwalk8</th>\n",
        "      <th>zwoehr</th>\n",
        "      <th>zymrgy</th>\n",
        "      <th>zymurgy4all</th>\n",
        "      <th>zymurgywhiz</th>\n",
        "      <th>zythus</th>\n",
        "      <th>zyzygy</th>\n",
        "    </tr>\n",
        "    <tr>\n",
        "      <th>beer_name</th>\n",
        "      <th></th>\n",
        "      <th></th>\n",
        "      <th></th>\n",
        "      <th></th>\n",
        "      <th></th>\n",
        "      <th></th>\n",
        "      <th></th>\n",
        "      <th></th>\n",
        "      <th></th>\n",
        "      <th></th>\n",
        "      <th></th>\n",
        "      <th></th>\n",
        "      <th></th>\n",
        "      <th></th>\n",
        "      <th></th>\n",
        "      <th></th>\n",
        "      <th></th>\n",
        "      <th></th>\n",
        "      <th></th>\n",
        "      <th></th>\n",
        "      <th></th>\n",
        "    </tr>\n",
        "  </thead>\n",
        "  <tbody>\n",
        "    <tr>\n",
        "      <th>#9</th>\n",
        "      <td> 0.0</td>\n",
        "      <td> 0</td>\n",
        "      <td> 0</td>\n",
        "      <td> 0.0</td>\n",
        "      <td> 0.0</td>\n",
        "      <td> 0</td>\n",
        "      <td> 0</td>\n",
        "      <td> 0.0</td>\n",
        "      <td> 0.0</td>\n",
        "      <td> 0</td>\n",
        "      <td>...</td>\n",
        "      <td> 0</td>\n",
        "      <td> 0</td>\n",
        "      <td> 0</td>\n",
        "      <td> 0.0</td>\n",
        "      <td> 0</td>\n",
        "      <td> 0</td>\n",
        "      <td> 0.0</td>\n",
        "      <td> 0</td>\n",
        "      <td> 0</td>\n",
        "      <td> 0</td>\n",
        "    </tr>\n",
        "    <tr>\n",
        "      <th>120 Minute IPA</th>\n",
        "      <td> 0.0</td>\n",
        "      <td> 0</td>\n",
        "      <td> 0</td>\n",
        "      <td> 4.0</td>\n",
        "      <td> 0.0</td>\n",
        "      <td> 0</td>\n",
        "      <td> 0</td>\n",
        "      <td> 1.5</td>\n",
        "      <td> 0.0</td>\n",
        "      <td> 0</td>\n",
        "      <td>...</td>\n",
        "      <td> 0</td>\n",
        "      <td> 0</td>\n",
        "      <td> 0</td>\n",
        "      <td> 0.0</td>\n",
        "      <td> 0</td>\n",
        "      <td> 0</td>\n",
        "      <td> 0.0</td>\n",
        "      <td> 0</td>\n",
        "      <td> 0</td>\n",
        "      <td> 0</td>\n",
        "    </tr>\n",
        "    <tr>\n",
        "      <th>1554 Enlightened Black Ale</th>\n",
        "      <td> 0.0</td>\n",
        "      <td> 0</td>\n",
        "      <td> 0</td>\n",
        "      <td> 0.0</td>\n",
        "      <td> 0.0</td>\n",
        "      <td> 0</td>\n",
        "      <td> 0</td>\n",
        "      <td> 0.0</td>\n",
        "      <td> 0.0</td>\n",
        "      <td> 0</td>\n",
        "      <td>...</td>\n",
        "      <td> 0</td>\n",
        "      <td> 0</td>\n",
        "      <td> 0</td>\n",
        "      <td> 0.0</td>\n",
        "      <td> 0</td>\n",
        "      <td> 0</td>\n",
        "      <td> 0.0</td>\n",
        "      <td> 0</td>\n",
        "      <td> 0</td>\n",
        "      <td> 0</td>\n",
        "    </tr>\n",
        "    <tr>\n",
        "      <th>60 Minute IPA</th>\n",
        "      <td> 0.0</td>\n",
        "      <td> 0</td>\n",
        "      <td> 0</td>\n",
        "      <td> 0.0</td>\n",
        "      <td> 0.0</td>\n",
        "      <td> 0</td>\n",
        "      <td> 0</td>\n",
        "      <td> 0.0</td>\n",
        "      <td> 0.0</td>\n",
        "      <td> 0</td>\n",
        "      <td>...</td>\n",
        "      <td> 0</td>\n",
        "      <td> 0</td>\n",
        "      <td> 0</td>\n",
        "      <td> 0.0</td>\n",
        "      <td> 0</td>\n",
        "      <td> 0</td>\n",
        "      <td> 0.0</td>\n",
        "      <td> 0</td>\n",
        "      <td> 0</td>\n",
        "      <td> 0</td>\n",
        "    </tr>\n",
        "    <tr>\n",
        "      <th>90 Minute IPA</th>\n",
        "      <td> 5.0</td>\n",
        "      <td> 0</td>\n",
        "      <td> 0</td>\n",
        "      <td> 4.0</td>\n",
        "      <td> 0.0</td>\n",
        "      <td> 0</td>\n",
        "      <td> 0</td>\n",
        "      <td> 0.0</td>\n",
        "      <td> 0.0</td>\n",
        "      <td> 0</td>\n",
        "      <td>...</td>\n",
        "      <td> 0</td>\n",
        "      <td> 0</td>\n",
        "      <td> 0</td>\n",
        "      <td> 0.0</td>\n",
        "      <td> 0</td>\n",
        "      <td> 0</td>\n",
        "      <td> 0.0</td>\n",
        "      <td> 0</td>\n",
        "      <td> 0</td>\n",
        "      <td> 0</td>\n",
        "    </tr>\n",
        "    <tr>\n",
        "      <th>Aecht Schlenkerla Rauchbier M\u00e4rzen</th>\n",
        "      <td> 0.0</td>\n",
        "      <td> 0</td>\n",
        "      <td> 0</td>\n",
        "      <td> 0.0</td>\n",
        "      <td> 0.0</td>\n",
        "      <td> 0</td>\n",
        "      <td> 0</td>\n",
        "      <td> 0.0</td>\n",
        "      <td> 0.0</td>\n",
        "      <td> 0</td>\n",
        "      <td>...</td>\n",
        "      <td> 0</td>\n",
        "      <td> 0</td>\n",
        "      <td> 0</td>\n",
        "      <td> 0.0</td>\n",
        "      <td> 0</td>\n",
        "      <td> 0</td>\n",
        "      <td> 0.0</td>\n",
        "      <td> 0</td>\n",
        "      <td> 0</td>\n",
        "      <td> 0</td>\n",
        "    </tr>\n",
        "    <tr>\n",
        "      <th>AleSmith IPA</th>\n",
        "      <td> 5.0</td>\n",
        "      <td> 0</td>\n",
        "      <td> 0</td>\n",
        "      <td> 4.0</td>\n",
        "      <td> 0.0</td>\n",
        "      <td> 0</td>\n",
        "      <td> 0</td>\n",
        "      <td> 0.0</td>\n",
        "      <td> 0.0</td>\n",
        "      <td> 0</td>\n",
        "      <td>...</td>\n",
        "      <td> 0</td>\n",
        "      <td> 0</td>\n",
        "      <td> 0</td>\n",
        "      <td> 0.0</td>\n",
        "      <td> 0</td>\n",
        "      <td> 0</td>\n",
        "      <td> 0.0</td>\n",
        "      <td> 0</td>\n",
        "      <td> 0</td>\n",
        "      <td> 0</td>\n",
        "    </tr>\n",
        "    <tr>\n",
        "      <th>AleSmith Speedway Stout</th>\n",
        "      <td> 4.5</td>\n",
        "      <td> 0</td>\n",
        "      <td> 0</td>\n",
        "      <td> 4.0</td>\n",
        "      <td> 0.0</td>\n",
        "      <td> 0</td>\n",
        "      <td> 0</td>\n",
        "      <td> 0.0</td>\n",
        "      <td> 0.0</td>\n",
        "      <td> 0</td>\n",
        "      <td>...</td>\n",
        "      <td> 0</td>\n",
        "      <td> 0</td>\n",
        "      <td> 0</td>\n",
        "      <td> 0.0</td>\n",
        "      <td> 0</td>\n",
        "      <td> 0</td>\n",
        "      <td> 0.0</td>\n",
        "      <td> 0</td>\n",
        "      <td> 0</td>\n",
        "      <td> 0</td>\n",
        "    </tr>\n",
        "    <tr>\n",
        "      <th>Allagash White</th>\n",
        "      <td> 0.0</td>\n",
        "      <td> 0</td>\n",
        "      <td> 0</td>\n",
        "      <td> 0.0</td>\n",
        "      <td> 0.0</td>\n",
        "      <td> 0</td>\n",
        "      <td> 0</td>\n",
        "      <td> 0.0</td>\n",
        "      <td> 0.0</td>\n",
        "      <td> 0</td>\n",
        "      <td>...</td>\n",
        "      <td> 0</td>\n",
        "      <td> 0</td>\n",
        "      <td> 0</td>\n",
        "      <td> 0.0</td>\n",
        "      <td> 0</td>\n",
        "      <td> 0</td>\n",
        "      <td> 0.0</td>\n",
        "      <td> 0</td>\n",
        "      <td> 0</td>\n",
        "      <td> 0</td>\n",
        "    </tr>\n",
        "    <tr>\n",
        "      <th>Alpha King Pale Ale</th>\n",
        "      <td> 5.0</td>\n",
        "      <td> 0</td>\n",
        "      <td> 0</td>\n",
        "      <td> 0.0</td>\n",
        "      <td> 0.0</td>\n",
        "      <td> 0</td>\n",
        "      <td> 0</td>\n",
        "      <td> 0.0</td>\n",
        "      <td> 0.0</td>\n",
        "      <td> 0</td>\n",
        "      <td>...</td>\n",
        "      <td> 0</td>\n",
        "      <td> 0</td>\n",
        "      <td> 0</td>\n",
        "      <td> 0.0</td>\n",
        "      <td> 0</td>\n",
        "      <td> 0</td>\n",
        "      <td> 0.0</td>\n",
        "      <td> 0</td>\n",
        "      <td> 0</td>\n",
        "      <td> 0</td>\n",
        "    </tr>\n",
        "    <tr>\n",
        "      <th>Anchor Liberty Ale</th>\n",
        "      <td> 0.0</td>\n",
        "      <td> 0</td>\n",
        "      <td> 0</td>\n",
        "      <td> 0.0</td>\n",
        "      <td> 0.0</td>\n",
        "      <td> 3</td>\n",
        "      <td> 0</td>\n",
        "      <td> 0.0</td>\n",
        "      <td> 0.0</td>\n",
        "      <td> 0</td>\n",
        "      <td>...</td>\n",
        "      <td> 0</td>\n",
        "      <td> 0</td>\n",
        "      <td> 0</td>\n",
        "      <td> 0.0</td>\n",
        "      <td> 0</td>\n",
        "      <td> 0</td>\n",
        "      <td> 0.0</td>\n",
        "      <td> 0</td>\n",
        "      <td> 0</td>\n",
        "      <td> 0</td>\n",
        "    </tr>\n",
        "    <tr>\n",
        "      <th>Anchor Old Foghorn</th>\n",
        "      <td> 0.0</td>\n",
        "      <td> 0</td>\n",
        "      <td> 0</td>\n",
        "      <td> 0.0</td>\n",
        "      <td> 0.0</td>\n",
        "      <td> 0</td>\n",
        "      <td> 0</td>\n",
        "      <td> 0.0</td>\n",
        "      <td> 0.0</td>\n",
        "      <td> 0</td>\n",
        "      <td>...</td>\n",
        "      <td> 0</td>\n",
        "      <td> 0</td>\n",
        "      <td> 0</td>\n",
        "      <td> 0.0</td>\n",
        "      <td> 0</td>\n",
        "      <td> 0</td>\n",
        "      <td> 0.0</td>\n",
        "      <td> 0</td>\n",
        "      <td> 0</td>\n",
        "      <td> 0</td>\n",
        "    </tr>\n",
        "    <tr>\n",
        "      <th>Anchor Porter</th>\n",
        "      <td> 0.0</td>\n",
        "      <td> 0</td>\n",
        "      <td> 0</td>\n",
        "      <td> 0.0</td>\n",
        "      <td> 0.0</td>\n",
        "      <td> 0</td>\n",
        "      <td> 0</td>\n",
        "      <td> 0.0</td>\n",
        "      <td> 0.0</td>\n",
        "      <td> 0</td>\n",
        "      <td>...</td>\n",
        "      <td> 0</td>\n",
        "      <td> 0</td>\n",
        "      <td> 0</td>\n",
        "      <td> 0.0</td>\n",
        "      <td> 0</td>\n",
        "      <td> 0</td>\n",
        "      <td> 0.0</td>\n",
        "      <td> 0</td>\n",
        "      <td> 0</td>\n",
        "      <td> 0</td>\n",
        "    </tr>\n",
        "    <tr>\n",
        "      <th>Anchor Steam Beer</th>\n",
        "      <td> 0.0</td>\n",
        "      <td> 0</td>\n",
        "      <td> 0</td>\n",
        "      <td> 0.0</td>\n",
        "      <td> 0.0</td>\n",
        "      <td> 0</td>\n",
        "      <td> 0</td>\n",
        "      <td> 0.0</td>\n",
        "      <td> 0.0</td>\n",
        "      <td> 0</td>\n",
        "      <td>...</td>\n",
        "      <td> 0</td>\n",
        "      <td> 0</td>\n",
        "      <td> 0</td>\n",
        "      <td> 0.0</td>\n",
        "      <td> 0</td>\n",
        "      <td> 0</td>\n",
        "      <td> 0.0</td>\n",
        "      <td> 0</td>\n",
        "      <td> 0</td>\n",
        "      <td> 0</td>\n",
        "    </tr>\n",
        "    <tr>\n",
        "      <th>ApriHop</th>\n",
        "      <td> 0.0</td>\n",
        "      <td> 0</td>\n",
        "      <td> 0</td>\n",
        "      <td> 0.0</td>\n",
        "      <td> 0.0</td>\n",
        "      <td> 0</td>\n",
        "      <td> 0</td>\n",
        "      <td> 4.0</td>\n",
        "      <td> 3.5</td>\n",
        "      <td> 0</td>\n",
        "      <td>...</td>\n",
        "      <td> 0</td>\n",
        "      <td> 0</td>\n",
        "      <td> 0</td>\n",
        "      <td> 0.0</td>\n",
        "      <td> 0</td>\n",
        "      <td> 0</td>\n",
        "      <td> 0.0</td>\n",
        "      <td> 0</td>\n",
        "      <td> 0</td>\n",
        "      <td> 0</td>\n",
        "    </tr>\n",
        "    <tr>\n",
        "      <th>Arrogant Bastard Ale</th>\n",
        "      <td> 0.0</td>\n",
        "      <td> 0</td>\n",
        "      <td> 0</td>\n",
        "      <td> 0.0</td>\n",
        "      <td> 0.0</td>\n",
        "      <td> 0</td>\n",
        "      <td> 0</td>\n",
        "      <td> 0.0</td>\n",
        "      <td> 0.0</td>\n",
        "      <td> 0</td>\n",
        "      <td>...</td>\n",
        "      <td> 0</td>\n",
        "      <td> 0</td>\n",
        "      <td> 0</td>\n",
        "      <td> 0.0</td>\n",
        "      <td> 0</td>\n",
        "      <td> 0</td>\n",
        "      <td> 0.0</td>\n",
        "      <td> 0</td>\n",
        "      <td> 0</td>\n",
        "      <td> 0</td>\n",
        "    </tr>\n",
        "    <tr>\n",
        "      <th>Ayinger Celebrator Doppelbock</th>\n",
        "      <td> 0.0</td>\n",
        "      <td> 0</td>\n",
        "      <td> 0</td>\n",
        "      <td> 4.0</td>\n",
        "      <td> 0.0</td>\n",
        "      <td> 0</td>\n",
        "      <td> 0</td>\n",
        "      <td> 0.0</td>\n",
        "      <td> 0.0</td>\n",
        "      <td> 0</td>\n",
        "      <td>...</td>\n",
        "      <td> 0</td>\n",
        "      <td> 0</td>\n",
        "      <td> 0</td>\n",
        "      <td> 0.0</td>\n",
        "      <td> 0</td>\n",
        "      <td> 0</td>\n",
        "      <td> 0.0</td>\n",
        "      <td> 0</td>\n",
        "      <td> 0</td>\n",
        "      <td> 0</td>\n",
        "    </tr>\n",
        "    <tr>\n",
        "      <th>Bass Pale Ale</th>\n",
        "      <td> 0.0</td>\n",
        "      <td> 0</td>\n",
        "      <td> 0</td>\n",
        "      <td> 0.0</td>\n",
        "      <td> 0.0</td>\n",
        "      <td> 0</td>\n",
        "      <td> 0</td>\n",
        "      <td> 0.0</td>\n",
        "      <td> 0.0</td>\n",
        "      <td> 0</td>\n",
        "      <td>...</td>\n",
        "      <td> 0</td>\n",
        "      <td> 0</td>\n",
        "      <td> 0</td>\n",
        "      <td> 0.0</td>\n",
        "      <td> 0</td>\n",
        "      <td> 0</td>\n",
        "      <td> 0.0</td>\n",
        "      <td> 0</td>\n",
        "      <td> 0</td>\n",
        "      <td> 0</td>\n",
        "    </tr>\n",
        "    <tr>\n",
        "      <th>Bell's Expedition Stout</th>\n",
        "      <td> 4.0</td>\n",
        "      <td> 0</td>\n",
        "      <td> 0</td>\n",
        "      <td> 4.0</td>\n",
        "      <td> 0.0</td>\n",
        "      <td> 0</td>\n",
        "      <td> 0</td>\n",
        "      <td> 0.0</td>\n",
        "      <td> 0.0</td>\n",
        "      <td> 0</td>\n",
        "      <td>...</td>\n",
        "      <td> 0</td>\n",
        "      <td> 0</td>\n",
        "      <td> 0</td>\n",
        "      <td> 0.0</td>\n",
        "      <td> 0</td>\n",
        "      <td> 0</td>\n",
        "      <td> 0.0</td>\n",
        "      <td> 0</td>\n",
        "      <td> 0</td>\n",
        "      <td> 0</td>\n",
        "    </tr>\n",
        "    <tr>\n",
        "      <th>Bell's Hopslam Ale</th>\n",
        "      <td> 4.5</td>\n",
        "      <td> 0</td>\n",
        "      <td> 0</td>\n",
        "      <td> 5.0</td>\n",
        "      <td> 0.0</td>\n",
        "      <td> 0</td>\n",
        "      <td> 0</td>\n",
        "      <td> 0.0</td>\n",
        "      <td> 0.0</td>\n",
        "      <td> 0</td>\n",
        "      <td>...</td>\n",
        "      <td> 0</td>\n",
        "      <td> 0</td>\n",
        "      <td> 0</td>\n",
        "      <td> 0.0</td>\n",
        "      <td> 0</td>\n",
        "      <td> 0</td>\n",
        "      <td> 0.0</td>\n",
        "      <td> 0</td>\n",
        "      <td> 0</td>\n",
        "      <td> 0</td>\n",
        "    </tr>\n",
        "    <tr>\n",
        "      <th>Bell's Java Stout</th>\n",
        "      <td> 0.0</td>\n",
        "      <td> 0</td>\n",
        "      <td> 0</td>\n",
        "      <td> 0.0</td>\n",
        "      <td> 0.0</td>\n",
        "      <td> 0</td>\n",
        "      <td> 0</td>\n",
        "      <td> 0.0</td>\n",
        "      <td> 0.0</td>\n",
        "      <td> 0</td>\n",
        "      <td>...</td>\n",
        "      <td> 0</td>\n",
        "      <td> 0</td>\n",
        "      <td> 0</td>\n",
        "      <td> 0.0</td>\n",
        "      <td> 0</td>\n",
        "      <td> 0</td>\n",
        "      <td> 0.0</td>\n",
        "      <td> 0</td>\n",
        "      <td> 0</td>\n",
        "      <td> 0</td>\n",
        "    </tr>\n",
        "    <tr>\n",
        "      <th>Bell's Kalamazoo Stout</th>\n",
        "      <td> 0.0</td>\n",
        "      <td> 0</td>\n",
        "      <td> 0</td>\n",
        "      <td> 0.0</td>\n",
        "      <td> 0.0</td>\n",
        "      <td> 0</td>\n",
        "      <td> 0</td>\n",
        "      <td> 0.0</td>\n",
        "      <td> 0.0</td>\n",
        "      <td> 0</td>\n",
        "      <td>...</td>\n",
        "      <td> 0</td>\n",
        "      <td> 0</td>\n",
        "      <td> 0</td>\n",
        "      <td> 0.0</td>\n",
        "      <td> 0</td>\n",
        "      <td> 0</td>\n",
        "      <td> 0.0</td>\n",
        "      <td> 0</td>\n",
        "      <td> 0</td>\n",
        "      <td> 0</td>\n",
        "    </tr>\n",
        "    <tr>\n",
        "      <th>Bell's Oberon Ale</th>\n",
        "      <td> 0.0</td>\n",
        "      <td> 0</td>\n",
        "      <td> 0</td>\n",
        "      <td> 0.0</td>\n",
        "      <td> 0.0</td>\n",
        "      <td> 0</td>\n",
        "      <td> 0</td>\n",
        "      <td> 0.0</td>\n",
        "      <td> 0.0</td>\n",
        "      <td> 0</td>\n",
        "      <td>...</td>\n",
        "      <td> 0</td>\n",
        "      <td> 0</td>\n",
        "      <td> 0</td>\n",
        "      <td> 0.0</td>\n",
        "      <td> 0</td>\n",
        "      <td> 0</td>\n",
        "      <td> 0.0</td>\n",
        "      <td> 0</td>\n",
        "      <td> 0</td>\n",
        "      <td> 0</td>\n",
        "    </tr>\n",
        "    <tr>\n",
        "      <th>Bell's Special Double Cream Stout</th>\n",
        "      <td> 0.0</td>\n",
        "      <td> 0</td>\n",
        "      <td> 0</td>\n",
        "      <td> 0.0</td>\n",
        "      <td> 0.0</td>\n",
        "      <td> 0</td>\n",
        "      <td> 0</td>\n",
        "      <td> 0.0</td>\n",
        "      <td> 0.0</td>\n",
        "      <td> 0</td>\n",
        "      <td>...</td>\n",
        "      <td> 0</td>\n",
        "      <td> 0</td>\n",
        "      <td> 0</td>\n",
        "      <td> 0.0</td>\n",
        "      <td> 0</td>\n",
        "      <td> 0</td>\n",
        "      <td> 0.0</td>\n",
        "      <td> 0</td>\n",
        "      <td> 0</td>\n",
        "      <td> 0</td>\n",
        "    </tr>\n",
        "    <tr>\n",
        "      <th>Big Bear Black Stout</th>\n",
        "      <td> 0.0</td>\n",
        "      <td> 0</td>\n",
        "      <td> 0</td>\n",
        "      <td> 0.0</td>\n",
        "      <td> 0.0</td>\n",
        "      <td> 0</td>\n",
        "      <td> 0</td>\n",
        "      <td> 0.0</td>\n",
        "      <td> 0.0</td>\n",
        "      <td> 0</td>\n",
        "      <td>...</td>\n",
        "      <td> 0</td>\n",
        "      <td> 0</td>\n",
        "      <td> 0</td>\n",
        "      <td> 0.0</td>\n",
        "      <td> 0</td>\n",
        "      <td> 0</td>\n",
        "      <td> 0.0</td>\n",
        "      <td> 0</td>\n",
        "      <td> 0</td>\n",
        "      <td> 0</td>\n",
        "    </tr>\n",
        "    <tr>\n",
        "      <th>Black Butte Porter</th>\n",
        "      <td> 0.0</td>\n",
        "      <td> 0</td>\n",
        "      <td> 0</td>\n",
        "      <td> 0.0</td>\n",
        "      <td> 0.0</td>\n",
        "      <td> 0</td>\n",
        "      <td> 0</td>\n",
        "      <td> 0.0</td>\n",
        "      <td> 0.0</td>\n",
        "      <td> 0</td>\n",
        "      <td>...</td>\n",
        "      <td> 0</td>\n",
        "      <td> 0</td>\n",
        "      <td> 0</td>\n",
        "      <td> 0.0</td>\n",
        "      <td> 0</td>\n",
        "      <td> 0</td>\n",
        "      <td> 0.0</td>\n",
        "      <td> 0</td>\n",
        "      <td> 0</td>\n",
        "      <td> 0</td>\n",
        "    </tr>\n",
        "    <tr>\n",
        "      <th>Blanche De Chambly</th>\n",
        "      <td> 0.0</td>\n",
        "      <td> 0</td>\n",
        "      <td> 0</td>\n",
        "      <td> 0.0</td>\n",
        "      <td> 0.0</td>\n",
        "      <td> 0</td>\n",
        "      <td> 0</td>\n",
        "      <td> 0.0</td>\n",
        "      <td> 0.0</td>\n",
        "      <td> 0</td>\n",
        "      <td>...</td>\n",
        "      <td> 0</td>\n",
        "      <td> 0</td>\n",
        "      <td> 0</td>\n",
        "      <td> 0.0</td>\n",
        "      <td> 0</td>\n",
        "      <td> 0</td>\n",
        "      <td> 0.0</td>\n",
        "      <td> 0</td>\n",
        "      <td> 0</td>\n",
        "      <td> 0</td>\n",
        "    </tr>\n",
        "    <tr>\n",
        "      <th>Blind Pig IPA</th>\n",
        "      <td> 4.5</td>\n",
        "      <td> 0</td>\n",
        "      <td> 0</td>\n",
        "      <td> 0.0</td>\n",
        "      <td> 0.0</td>\n",
        "      <td> 0</td>\n",
        "      <td> 0</td>\n",
        "      <td> 0.0</td>\n",
        "      <td> 0.0</td>\n",
        "      <td> 0</td>\n",
        "      <td>...</td>\n",
        "      <td> 0</td>\n",
        "      <td> 0</td>\n",
        "      <td> 0</td>\n",
        "      <td> 0.0</td>\n",
        "      <td> 0</td>\n",
        "      <td> 0</td>\n",
        "      <td> 0.0</td>\n",
        "      <td> 0</td>\n",
        "      <td> 0</td>\n",
        "      <td> 0</td>\n",
        "    </tr>\n",
        "    <tr>\n",
        "      <th>Blue Moon Belgian White</th>\n",
        "      <td> 0.0</td>\n",
        "      <td> 0</td>\n",
        "      <td> 0</td>\n",
        "      <td> 0.0</td>\n",
        "      <td> 0.0</td>\n",
        "      <td> 0</td>\n",
        "      <td> 0</td>\n",
        "      <td> 0.0</td>\n",
        "      <td> 0.0</td>\n",
        "      <td> 0</td>\n",
        "      <td>...</td>\n",
        "      <td> 0</td>\n",
        "      <td> 0</td>\n",
        "      <td> 0</td>\n",
        "      <td> 0.0</td>\n",
        "      <td> 0</td>\n",
        "      <td> 0</td>\n",
        "      <td> 4.0</td>\n",
        "      <td> 0</td>\n",
        "      <td> 0</td>\n",
        "      <td> 0</td>\n",
        "    </tr>\n",
        "    <tr>\n",
        "      <th>Boddingtons Pub Ale</th>\n",
        "      <td> 0.0</td>\n",
        "      <td> 0</td>\n",
        "      <td> 0</td>\n",
        "      <td> 0.0</td>\n",
        "      <td> 0.0</td>\n",
        "      <td> 0</td>\n",
        "      <td> 0</td>\n",
        "      <td> 0.0</td>\n",
        "      <td> 0.0</td>\n",
        "      <td> 0</td>\n",
        "      <td>...</td>\n",
        "      <td> 0</td>\n",
        "      <td> 0</td>\n",
        "      <td> 0</td>\n",
        "      <td> 0.0</td>\n",
        "      <td> 0</td>\n",
        "      <td> 0</td>\n",
        "      <td> 0.0</td>\n",
        "      <td> 0</td>\n",
        "      <td> 0</td>\n",
        "      <td> 0</td>\n",
        "    </tr>\n",
        "    <tr>\n",
        "      <th>...</th>\n",
        "      <td>...</td>\n",
        "      <td>...</td>\n",
        "      <td>...</td>\n",
        "      <td>...</td>\n",
        "      <td>...</td>\n",
        "      <td>...</td>\n",
        "      <td>...</td>\n",
        "      <td>...</td>\n",
        "      <td>...</td>\n",
        "      <td>...</td>\n",
        "      <td>...</td>\n",
        "      <td>...</td>\n",
        "      <td>...</td>\n",
        "      <td>...</td>\n",
        "      <td>...</td>\n",
        "      <td>...</td>\n",
        "      <td>...</td>\n",
        "      <td>...</td>\n",
        "      <td>...</td>\n",
        "      <td>...</td>\n",
        "      <td>...</td>\n",
        "    </tr>\n",
        "    <tr>\n",
        "      <th>Stone Smoked Porter</th>\n",
        "      <td> 0.0</td>\n",
        "      <td> 0</td>\n",
        "      <td> 0</td>\n",
        "      <td> 0.0</td>\n",
        "      <td> 0.0</td>\n",
        "      <td> 4</td>\n",
        "      <td> 0</td>\n",
        "      <td> 0.0</td>\n",
        "      <td> 0.0</td>\n",
        "      <td> 0</td>\n",
        "      <td>...</td>\n",
        "      <td> 0</td>\n",
        "      <td> 0</td>\n",
        "      <td> 0</td>\n",
        "      <td> 0.0</td>\n",
        "      <td> 0</td>\n",
        "      <td> 0</td>\n",
        "      <td> 4.5</td>\n",
        "      <td> 0</td>\n",
        "      <td> 0</td>\n",
        "      <td> 0</td>\n",
        "    </tr>\n",
        "    <tr>\n",
        "      <th>Stone Sublimely Self-Righteous Ale</th>\n",
        "      <td> 5.0</td>\n",
        "      <td> 0</td>\n",
        "      <td> 0</td>\n",
        "      <td> 0.0</td>\n",
        "      <td> 0.0</td>\n",
        "      <td> 0</td>\n",
        "      <td> 0</td>\n",
        "      <td> 0.0</td>\n",
        "      <td> 0.0</td>\n",
        "      <td> 0</td>\n",
        "      <td>...</td>\n",
        "      <td> 0</td>\n",
        "      <td> 0</td>\n",
        "      <td> 0</td>\n",
        "      <td> 0.0</td>\n",
        "      <td> 0</td>\n",
        "      <td> 0</td>\n",
        "      <td> 0.0</td>\n",
        "      <td> 0</td>\n",
        "      <td> 0</td>\n",
        "      <td> 0</td>\n",
        "    </tr>\n",
        "    <tr>\n",
        "      <th>Storm King Stout</th>\n",
        "      <td> 4.0</td>\n",
        "      <td> 0</td>\n",
        "      <td> 0</td>\n",
        "      <td> 4.0</td>\n",
        "      <td> 0.0</td>\n",
        "      <td> 0</td>\n",
        "      <td> 0</td>\n",
        "      <td> 4.5</td>\n",
        "      <td> 0.0</td>\n",
        "      <td> 0</td>\n",
        "      <td>...</td>\n",
        "      <td> 0</td>\n",
        "      <td> 0</td>\n",
        "      <td> 0</td>\n",
        "      <td> 0.0</td>\n",
        "      <td> 0</td>\n",
        "      <td> 0</td>\n",
        "      <td> 0.0</td>\n",
        "      <td> 0</td>\n",
        "      <td> 0</td>\n",
        "      <td> 0</td>\n",
        "    </tr>\n",
        "    <tr>\n",
        "      <th>Supplication</th>\n",
        "      <td> 4.0</td>\n",
        "      <td> 0</td>\n",
        "      <td> 0</td>\n",
        "      <td> 0.0</td>\n",
        "      <td> 0.0</td>\n",
        "      <td> 0</td>\n",
        "      <td> 0</td>\n",
        "      <td> 0.0</td>\n",
        "      <td> 0.0</td>\n",
        "      <td> 0</td>\n",
        "      <td>...</td>\n",
        "      <td> 0</td>\n",
        "      <td> 0</td>\n",
        "      <td> 0</td>\n",
        "      <td> 0.0</td>\n",
        "      <td> 0</td>\n",
        "      <td> 0</td>\n",
        "      <td> 0.0</td>\n",
        "      <td> 0</td>\n",
        "      <td> 0</td>\n",
        "      <td> 0</td>\n",
        "    </tr>\n",
        "    <tr>\n",
        "      <th>Ten FIDY</th>\n",
        "      <td> 4.0</td>\n",
        "      <td> 0</td>\n",
        "      <td> 0</td>\n",
        "      <td> 4.0</td>\n",
        "      <td> 0.0</td>\n",
        "      <td> 0</td>\n",
        "      <td> 0</td>\n",
        "      <td> 0.0</td>\n",
        "      <td> 0.0</td>\n",
        "      <td> 0</td>\n",
        "      <td>...</td>\n",
        "      <td> 0</td>\n",
        "      <td> 0</td>\n",
        "      <td> 0</td>\n",
        "      <td> 0.0</td>\n",
        "      <td> 0</td>\n",
        "      <td> 0</td>\n",
        "      <td> 0.0</td>\n",
        "      <td> 0</td>\n",
        "      <td> 0</td>\n",
        "      <td> 0</td>\n",
        "    </tr>\n",
        "    <tr>\n",
        "      <th>Terrapin Coffee Oatmeal Imperial Stout</th>\n",
        "      <td> 0.0</td>\n",
        "      <td> 0</td>\n",
        "      <td> 0</td>\n",
        "      <td> 0.0</td>\n",
        "      <td> 0.0</td>\n",
        "      <td> 0</td>\n",
        "      <td> 0</td>\n",
        "      <td> 0.0</td>\n",
        "      <td> 0.0</td>\n",
        "      <td> 0</td>\n",
        "      <td>...</td>\n",
        "      <td> 0</td>\n",
        "      <td> 0</td>\n",
        "      <td> 0</td>\n",
        "      <td> 0.0</td>\n",
        "      <td> 0</td>\n",
        "      <td> 0</td>\n",
        "      <td> 0.0</td>\n",
        "      <td> 0</td>\n",
        "      <td> 0</td>\n",
        "      <td> 0</td>\n",
        "    </tr>\n",
        "    <tr>\n",
        "      <th>The Abyss</th>\n",
        "      <td> 4.5</td>\n",
        "      <td> 0</td>\n",
        "      <td> 0</td>\n",
        "      <td> 0.0</td>\n",
        "      <td> 0.0</td>\n",
        "      <td> 0</td>\n",
        "      <td> 0</td>\n",
        "      <td> 0.0</td>\n",
        "      <td> 0.0</td>\n",
        "      <td> 0</td>\n",
        "      <td>...</td>\n",
        "      <td> 0</td>\n",
        "      <td> 0</td>\n",
        "      <td> 0</td>\n",
        "      <td> 0.0</td>\n",
        "      <td> 0</td>\n",
        "      <td> 0</td>\n",
        "      <td> 4.0</td>\n",
        "      <td> 0</td>\n",
        "      <td> 0</td>\n",
        "      <td> 0</td>\n",
        "    </tr>\n",
        "    <tr>\n",
        "      <th>Three Philosophers Belgian Style Blend (Quadrupel)</th>\n",
        "      <td> 0.0</td>\n",
        "      <td> 0</td>\n",
        "      <td> 0</td>\n",
        "      <td> 0.0</td>\n",
        "      <td> 0.0</td>\n",
        "      <td> 0</td>\n",
        "      <td> 0</td>\n",
        "      <td> 0.0</td>\n",
        "      <td> 0.0</td>\n",
        "      <td> 0</td>\n",
        "      <td>...</td>\n",
        "      <td> 0</td>\n",
        "      <td> 0</td>\n",
        "      <td> 0</td>\n",
        "      <td> 0.0</td>\n",
        "      <td> 0</td>\n",
        "      <td> 0</td>\n",
        "      <td> 0.0</td>\n",
        "      <td> 0</td>\n",
        "      <td> 0</td>\n",
        "      <td> 0</td>\n",
        "    </tr>\n",
        "    <tr>\n",
        "      <th>Titan IPA</th>\n",
        "      <td> 0.0</td>\n",
        "      <td> 0</td>\n",
        "      <td> 0</td>\n",
        "      <td> 0.0</td>\n",
        "      <td> 0.0</td>\n",
        "      <td> 0</td>\n",
        "      <td> 0</td>\n",
        "      <td> 0.0</td>\n",
        "      <td> 0.0</td>\n",
        "      <td> 0</td>\n",
        "      <td>...</td>\n",
        "      <td> 0</td>\n",
        "      <td> 0</td>\n",
        "      <td> 0</td>\n",
        "      <td> 0.0</td>\n",
        "      <td> 0</td>\n",
        "      <td> 0</td>\n",
        "      <td> 0.0</td>\n",
        "      <td> 0</td>\n",
        "      <td> 0</td>\n",
        "      <td> 0</td>\n",
        "    </tr>\n",
        "    <tr>\n",
        "      <th>Trappist Westvleteren 12</th>\n",
        "      <td> 4.5</td>\n",
        "      <td> 0</td>\n",
        "      <td> 0</td>\n",
        "      <td> 4.0</td>\n",
        "      <td> 0.0</td>\n",
        "      <td> 0</td>\n",
        "      <td> 0</td>\n",
        "      <td> 0.0</td>\n",
        "      <td> 0.0</td>\n",
        "      <td> 0</td>\n",
        "      <td>...</td>\n",
        "      <td> 0</td>\n",
        "      <td> 0</td>\n",
        "      <td> 0</td>\n",
        "      <td> 4.5</td>\n",
        "      <td> 0</td>\n",
        "      <td> 0</td>\n",
        "      <td> 0.0</td>\n",
        "      <td> 0</td>\n",
        "      <td> 0</td>\n",
        "      <td> 0</td>\n",
        "    </tr>\n",
        "    <tr>\n",
        "      <th>Trappistes Rochefort 10</th>\n",
        "      <td> 0.0</td>\n",
        "      <td> 0</td>\n",
        "      <td> 0</td>\n",
        "      <td> 4.5</td>\n",
        "      <td> 0.0</td>\n",
        "      <td> 0</td>\n",
        "      <td> 0</td>\n",
        "      <td> 0.0</td>\n",
        "      <td> 0.0</td>\n",
        "      <td> 0</td>\n",
        "      <td>...</td>\n",
        "      <td> 0</td>\n",
        "      <td> 0</td>\n",
        "      <td> 0</td>\n",
        "      <td> 0.0</td>\n",
        "      <td> 0</td>\n",
        "      <td> 0</td>\n",
        "      <td> 0.0</td>\n",
        "      <td> 0</td>\n",
        "      <td> 0</td>\n",
        "      <td> 0</td>\n",
        "    </tr>\n",
        "    <tr>\n",
        "      <th>Trappistes Rochefort 8</th>\n",
        "      <td> 0.0</td>\n",
        "      <td> 0</td>\n",
        "      <td> 0</td>\n",
        "      <td> 0.0</td>\n",
        "      <td> 0.0</td>\n",
        "      <td> 0</td>\n",
        "      <td> 0</td>\n",
        "      <td> 0.0</td>\n",
        "      <td> 0.0</td>\n",
        "      <td> 0</td>\n",
        "      <td>...</td>\n",
        "      <td> 0</td>\n",
        "      <td> 0</td>\n",
        "      <td> 0</td>\n",
        "      <td> 0.0</td>\n",
        "      <td> 0</td>\n",
        "      <td> 0</td>\n",
        "      <td> 0.0</td>\n",
        "      <td> 0</td>\n",
        "      <td> 0</td>\n",
        "      <td> 0</td>\n",
        "    </tr>\n",
        "    <tr>\n",
        "      <th>Tripel Karmeliet</th>\n",
        "      <td> 0.0</td>\n",
        "      <td> 0</td>\n",
        "      <td> 0</td>\n",
        "      <td> 0.0</td>\n",
        "      <td> 4.5</td>\n",
        "      <td> 0</td>\n",
        "      <td> 0</td>\n",
        "      <td> 0.0</td>\n",
        "      <td> 0.0</td>\n",
        "      <td> 0</td>\n",
        "      <td>...</td>\n",
        "      <td> 0</td>\n",
        "      <td> 0</td>\n",
        "      <td> 0</td>\n",
        "      <td> 0.0</td>\n",
        "      <td> 0</td>\n",
        "      <td> 0</td>\n",
        "      <td> 0.0</td>\n",
        "      <td> 0</td>\n",
        "      <td> 0</td>\n",
        "      <td> 0</td>\n",
        "    </tr>\n",
        "    <tr>\n",
        "      <th>Troegenator Double Bock</th>\n",
        "      <td> 0.0</td>\n",
        "      <td> 0</td>\n",
        "      <td> 0</td>\n",
        "      <td> 0.0</td>\n",
        "      <td> 0.0</td>\n",
        "      <td> 0</td>\n",
        "      <td> 0</td>\n",
        "      <td> 0.0</td>\n",
        "      <td> 0.0</td>\n",
        "      <td> 0</td>\n",
        "      <td>...</td>\n",
        "      <td> 0</td>\n",
        "      <td> 0</td>\n",
        "      <td> 0</td>\n",
        "      <td> 0.0</td>\n",
        "      <td> 0</td>\n",
        "      <td> 0</td>\n",
        "      <td> 0.0</td>\n",
        "      <td> 0</td>\n",
        "      <td> 0</td>\n",
        "      <td> 0</td>\n",
        "    </tr>\n",
        "    <tr>\n",
        "      <th>Trois Pistoles</th>\n",
        "      <td> 0.0</td>\n",
        "      <td> 0</td>\n",
        "      <td> 0</td>\n",
        "      <td> 0.0</td>\n",
        "      <td> 0.0</td>\n",
        "      <td> 0</td>\n",
        "      <td> 0</td>\n",
        "      <td> 0.0</td>\n",
        "      <td> 0.0</td>\n",
        "      <td> 0</td>\n",
        "      <td>...</td>\n",
        "      <td> 0</td>\n",
        "      <td> 0</td>\n",
        "      <td> 0</td>\n",
        "      <td> 0.0</td>\n",
        "      <td> 0</td>\n",
        "      <td> 0</td>\n",
        "      <td> 0.0</td>\n",
        "      <td> 0</td>\n",
        "      <td> 0</td>\n",
        "      <td> 0</td>\n",
        "    </tr>\n",
        "    <tr>\n",
        "      <th>Tr\u00f6egs Hopback Amber Ale</th>\n",
        "      <td> 0.0</td>\n",
        "      <td> 0</td>\n",
        "      <td> 0</td>\n",
        "      <td> 0.0</td>\n",
        "      <td> 0.0</td>\n",
        "      <td> 0</td>\n",
        "      <td> 0</td>\n",
        "      <td> 0.0</td>\n",
        "      <td> 0.0</td>\n",
        "      <td> 0</td>\n",
        "      <td>...</td>\n",
        "      <td> 0</td>\n",
        "      <td> 0</td>\n",
        "      <td> 0</td>\n",
        "      <td> 0.0</td>\n",
        "      <td> 0</td>\n",
        "      <td> 0</td>\n",
        "      <td> 0.0</td>\n",
        "      <td> 0</td>\n",
        "      <td> 0</td>\n",
        "      <td> 0</td>\n",
        "    </tr>\n",
        "    <tr>\n",
        "      <th>Tr\u00f6egs Mad Elf</th>\n",
        "      <td> 4.5</td>\n",
        "      <td> 0</td>\n",
        "      <td> 0</td>\n",
        "      <td> 0.0</td>\n",
        "      <td> 0.0</td>\n",
        "      <td> 0</td>\n",
        "      <td> 0</td>\n",
        "      <td> 0.0</td>\n",
        "      <td> 0.0</td>\n",
        "      <td> 0</td>\n",
        "      <td>...</td>\n",
        "      <td> 0</td>\n",
        "      <td> 0</td>\n",
        "      <td> 0</td>\n",
        "      <td> 0.0</td>\n",
        "      <td> 0</td>\n",
        "      <td> 0</td>\n",
        "      <td> 0.0</td>\n",
        "      <td> 0</td>\n",
        "      <td> 0</td>\n",
        "      <td> 0</td>\n",
        "    </tr>\n",
        "    <tr>\n",
        "      <th>Tr\u00f6egs Nugget Nectar</th>\n",
        "      <td> 4.5</td>\n",
        "      <td> 0</td>\n",
        "      <td> 0</td>\n",
        "      <td> 0.0</td>\n",
        "      <td> 0.0</td>\n",
        "      <td> 0</td>\n",
        "      <td> 0</td>\n",
        "      <td> 0.0</td>\n",
        "      <td> 0.0</td>\n",
        "      <td> 0</td>\n",
        "      <td>...</td>\n",
        "      <td> 0</td>\n",
        "      <td> 0</td>\n",
        "      <td> 0</td>\n",
        "      <td> 0.0</td>\n",
        "      <td> 0</td>\n",
        "      <td> 0</td>\n",
        "      <td> 0.0</td>\n",
        "      <td> 0</td>\n",
        "      <td> 0</td>\n",
        "      <td> 0</td>\n",
        "    </tr>\n",
        "    <tr>\n",
        "      <th>Two Hearted Ale</th>\n",
        "      <td> 4.0</td>\n",
        "      <td> 0</td>\n",
        "      <td> 0</td>\n",
        "      <td> 0.0</td>\n",
        "      <td> 0.0</td>\n",
        "      <td> 0</td>\n",
        "      <td> 0</td>\n",
        "      <td> 0.0</td>\n",
        "      <td> 0.0</td>\n",
        "      <td> 0</td>\n",
        "      <td>...</td>\n",
        "      <td> 0</td>\n",
        "      <td> 0</td>\n",
        "      <td> 0</td>\n",
        "      <td> 0.0</td>\n",
        "      <td> 0</td>\n",
        "      <td> 0</td>\n",
        "      <td> 0.0</td>\n",
        "      <td> 0</td>\n",
        "      <td> 0</td>\n",
        "      <td> 0</td>\n",
        "    </tr>\n",
        "    <tr>\n",
        "      <th>Unearthly (Imperial India Pale Ale)</th>\n",
        "      <td> 0.0</td>\n",
        "      <td> 0</td>\n",
        "      <td> 0</td>\n",
        "      <td> 0.0</td>\n",
        "      <td> 0.0</td>\n",
        "      <td> 0</td>\n",
        "      <td> 0</td>\n",
        "      <td> 0.0</td>\n",
        "      <td> 0.0</td>\n",
        "      <td> 0</td>\n",
        "      <td>...</td>\n",
        "      <td> 0</td>\n",
        "      <td> 0</td>\n",
        "      <td> 0</td>\n",
        "      <td> 0.0</td>\n",
        "      <td> 0</td>\n",
        "      <td> 0</td>\n",
        "      <td> 0.0</td>\n",
        "      <td> 0</td>\n",
        "      <td> 0</td>\n",
        "      <td> 0</td>\n",
        "    </tr>\n",
        "    <tr>\n",
        "      <th>Vanilla Porter</th>\n",
        "      <td> 0.0</td>\n",
        "      <td> 0</td>\n",
        "      <td> 0</td>\n",
        "      <td> 0.0</td>\n",
        "      <td> 0.0</td>\n",
        "      <td> 0</td>\n",
        "      <td> 0</td>\n",
        "      <td> 0.0</td>\n",
        "      <td> 0.0</td>\n",
        "      <td> 0</td>\n",
        "      <td>...</td>\n",
        "      <td> 0</td>\n",
        "      <td> 0</td>\n",
        "      <td> 0</td>\n",
        "      <td> 0.0</td>\n",
        "      <td> 0</td>\n",
        "      <td> 0</td>\n",
        "      <td> 0.0</td>\n",
        "      <td> 0</td>\n",
        "      <td> 0</td>\n",
        "      <td> 0</td>\n",
        "    </tr>\n",
        "    <tr>\n",
        "      <th>Weihenstephaner Hefeweissbier</th>\n",
        "      <td> 5.0</td>\n",
        "      <td> 0</td>\n",
        "      <td> 0</td>\n",
        "      <td> 0.0</td>\n",
        "      <td> 0.0</td>\n",
        "      <td> 0</td>\n",
        "      <td> 0</td>\n",
        "      <td> 0.0</td>\n",
        "      <td> 0.0</td>\n",
        "      <td> 0</td>\n",
        "      <td>...</td>\n",
        "      <td> 0</td>\n",
        "      <td> 0</td>\n",
        "      <td> 0</td>\n",
        "      <td> 0.0</td>\n",
        "      <td> 0</td>\n",
        "      <td> 0</td>\n",
        "      <td> 0.0</td>\n",
        "      <td> 0</td>\n",
        "      <td> 0</td>\n",
        "      <td> 0</td>\n",
        "    </tr>\n",
        "    <tr>\n",
        "      <th>Weihenstephaner Korbinian</th>\n",
        "      <td> 0.0</td>\n",
        "      <td> 0</td>\n",
        "      <td> 0</td>\n",
        "      <td> 4.0</td>\n",
        "      <td> 0.0</td>\n",
        "      <td> 0</td>\n",
        "      <td> 0</td>\n",
        "      <td> 0.0</td>\n",
        "      <td> 0.0</td>\n",
        "      <td> 0</td>\n",
        "      <td>...</td>\n",
        "      <td> 0</td>\n",
        "      <td> 0</td>\n",
        "      <td> 0</td>\n",
        "      <td> 0.0</td>\n",
        "      <td> 0</td>\n",
        "      <td> 0</td>\n",
        "      <td> 0.0</td>\n",
        "      <td> 0</td>\n",
        "      <td> 0</td>\n",
        "      <td> 0</td>\n",
        "    </tr>\n",
        "    <tr>\n",
        "      <th>Westmalle Trappist Dubbel</th>\n",
        "      <td> 0.0</td>\n",
        "      <td> 0</td>\n",
        "      <td> 0</td>\n",
        "      <td> 0.0</td>\n",
        "      <td> 0.0</td>\n",
        "      <td> 0</td>\n",
        "      <td> 0</td>\n",
        "      <td> 0.0</td>\n",
        "      <td> 0.0</td>\n",
        "      <td> 0</td>\n",
        "      <td>...</td>\n",
        "      <td> 0</td>\n",
        "      <td> 0</td>\n",
        "      <td> 0</td>\n",
        "      <td> 0.0</td>\n",
        "      <td> 0</td>\n",
        "      <td> 0</td>\n",
        "      <td> 0.0</td>\n",
        "      <td> 0</td>\n",
        "      <td> 0</td>\n",
        "      <td> 0</td>\n",
        "    </tr>\n",
        "    <tr>\n",
        "      <th>Westmalle Trappist Tripel</th>\n",
        "      <td> 0.0</td>\n",
        "      <td> 0</td>\n",
        "      <td> 0</td>\n",
        "      <td> 0.0</td>\n",
        "      <td> 0.0</td>\n",
        "      <td> 0</td>\n",
        "      <td> 0</td>\n",
        "      <td> 0.0</td>\n",
        "      <td> 0.0</td>\n",
        "      <td> 0</td>\n",
        "      <td>...</td>\n",
        "      <td> 0</td>\n",
        "      <td> 0</td>\n",
        "      <td> 0</td>\n",
        "      <td> 0.0</td>\n",
        "      <td> 0</td>\n",
        "      <td> 0</td>\n",
        "      <td> 0.0</td>\n",
        "      <td> 0</td>\n",
        "      <td> 0</td>\n",
        "      <td> 0</td>\n",
        "    </tr>\n",
        "    <tr>\n",
        "      <th>World Wide Stout</th>\n",
        "      <td> 0.0</td>\n",
        "      <td> 0</td>\n",
        "      <td> 0</td>\n",
        "      <td> 4.0</td>\n",
        "      <td> 0.0</td>\n",
        "      <td> 0</td>\n",
        "      <td> 0</td>\n",
        "      <td> 0.0</td>\n",
        "      <td> 0.0</td>\n",
        "      <td> 0</td>\n",
        "      <td>...</td>\n",
        "      <td> 0</td>\n",
        "      <td> 0</td>\n",
        "      <td> 0</td>\n",
        "      <td> 0.0</td>\n",
        "      <td> 0</td>\n",
        "      <td> 3</td>\n",
        "      <td> 0.0</td>\n",
        "      <td> 0</td>\n",
        "      <td> 0</td>\n",
        "      <td> 0</td>\n",
        "    </tr>\n",
        "    <tr>\n",
        "      <th>Yeti Imperial Stout</th>\n",
        "      <td> 0.0</td>\n",
        "      <td> 0</td>\n",
        "      <td> 0</td>\n",
        "      <td> 0.0</td>\n",
        "      <td> 0.0</td>\n",
        "      <td> 0</td>\n",
        "      <td> 0</td>\n",
        "      <td> 0.0</td>\n",
        "      <td> 0.0</td>\n",
        "      <td> 0</td>\n",
        "      <td>...</td>\n",
        "      <td> 0</td>\n",
        "      <td> 0</td>\n",
        "      <td> 0</td>\n",
        "      <td> 0.0</td>\n",
        "      <td> 0</td>\n",
        "      <td> 0</td>\n",
        "      <td> 0.0</td>\n",
        "      <td> 0</td>\n",
        "      <td> 0</td>\n",
        "      <td> 0</td>\n",
        "    </tr>\n",
        "    <tr>\n",
        "      <th>Young's Double Chocolate Stout</th>\n",
        "      <td> 0.0</td>\n",
        "      <td> 0</td>\n",
        "      <td> 0</td>\n",
        "      <td> 0.0</td>\n",
        "      <td> 0.0</td>\n",
        "      <td> 0</td>\n",
        "      <td> 0</td>\n",
        "      <td> 0.0</td>\n",
        "      <td> 0.0</td>\n",
        "      <td> 0</td>\n",
        "      <td>...</td>\n",
        "      <td> 0</td>\n",
        "      <td> 0</td>\n",
        "      <td> 0</td>\n",
        "      <td> 0.0</td>\n",
        "      <td> 0</td>\n",
        "      <td> 0</td>\n",
        "      <td> 0.0</td>\n",
        "      <td> 0</td>\n",
        "      <td> 0</td>\n",
        "      <td> 0</td>\n",
        "    </tr>\n",
        "    <tr>\n",
        "      <th>Yuengling Traditional Lager</th>\n",
        "      <td> 0.0</td>\n",
        "      <td> 0</td>\n",
        "      <td> 0</td>\n",
        "      <td> 0.0</td>\n",
        "      <td> 0.0</td>\n",
        "      <td> 0</td>\n",
        "      <td> 0</td>\n",
        "      <td> 0.0</td>\n",
        "      <td> 0.0</td>\n",
        "      <td> 0</td>\n",
        "      <td>...</td>\n",
        "      <td> 0</td>\n",
        "      <td> 0</td>\n",
        "      <td> 0</td>\n",
        "      <td> 0.0</td>\n",
        "      <td> 0</td>\n",
        "      <td> 0</td>\n",
        "      <td> 5.0</td>\n",
        "      <td> 0</td>\n",
        "      <td> 0</td>\n",
        "      <td> 0</td>\n",
        "    </tr>\n",
        "    <tr>\n",
        "      <th>\u00c9ph\u00e9m\u00e8re (Apple)</th>\n",
        "      <td> 0.0</td>\n",
        "      <td> 0</td>\n",
        "      <td> 0</td>\n",
        "      <td> 0.0</td>\n",
        "      <td> 0.0</td>\n",
        "      <td> 0</td>\n",
        "      <td> 0</td>\n",
        "      <td> 0.0</td>\n",
        "      <td> 0.0</td>\n",
        "      <td> 0</td>\n",
        "      <td>...</td>\n",
        "      <td> 0</td>\n",
        "      <td> 0</td>\n",
        "      <td> 0</td>\n",
        "      <td> 0.0</td>\n",
        "      <td> 0</td>\n",
        "      <td> 0</td>\n",
        "      <td> 0.0</td>\n",
        "      <td> 0</td>\n",
        "      <td> 3</td>\n",
        "      <td> 0</td>\n",
        "    </tr>\n",
        "  </tbody>\n",
        "</table>\n",
        "<p>250 rows \u00d7 22140 columns</p>\n",
        "</div>"
       ],
       "metadata": {},
       "output_type": "pyout",
       "prompt_number": 38,
       "text": [
        "                                                    review_overall            \\\n",
        "review_profilename                                        0110x011  02maxima   \n",
        "beer_name                                                                      \n",
        "#9                                                             0.0         0   \n",
        "120 Minute IPA                                                 0.0         0   \n",
        "1554 Enlightened Black Ale                                     0.0         0   \n",
        "60 Minute IPA                                                  0.0         0   \n",
        "90 Minute IPA                                                  5.0         0   \n",
        "Aecht Schlenkerla Rauchbier M\u00e4rzen                             0.0         0   \n",
        "AleSmith IPA                                                   5.0         0   \n",
        "AleSmith Speedway Stout                                        4.5         0   \n",
        "Allagash White                                                 0.0         0   \n",
        "Alpha King Pale Ale                                            5.0         0   \n",
        "Anchor Liberty Ale                                             0.0         0   \n",
        "Anchor Old Foghorn                                             0.0         0   \n",
        "Anchor Porter                                                  0.0         0   \n",
        "Anchor Steam Beer                                              0.0         0   \n",
        "ApriHop                                                        0.0         0   \n",
        "Arrogant Bastard Ale                                           0.0         0   \n",
        "Ayinger Celebrator Doppelbock                                  0.0         0   \n",
        "Bass Pale Ale                                                  0.0         0   \n",
        "Bell's Expedition Stout                                        4.0         0   \n",
        "Bell's Hopslam Ale                                             4.5         0   \n",
        "Bell's Java Stout                                              0.0         0   \n",
        "Bell's Kalamazoo Stout                                         0.0         0   \n",
        "Bell's Oberon Ale                                              0.0         0   \n",
        "Bell's Special Double Cream Stout                              0.0         0   \n",
        "Big Bear Black Stout                                           0.0         0   \n",
        "Black Butte Porter                                             0.0         0   \n",
        "Blanche De Chambly                                             0.0         0   \n",
        "Blind Pig IPA                                                  4.5         0   \n",
        "Blue Moon Belgian White                                        0.0         0   \n",
        "Boddingtons Pub Ale                                            0.0         0   \n",
        "...                                                            ...       ...   \n",
        "Stone Smoked Porter                                            0.0         0   \n",
        "Stone Sublimely Self-Righteous Ale                             5.0         0   \n",
        "Storm King Stout                                               4.0         0   \n",
        "Supplication                                                   4.0         0   \n",
        "Ten FIDY                                                       4.0         0   \n",
        "Terrapin Coffee Oatmeal Imperial Stout                         0.0         0   \n",
        "The Abyss                                                      4.5         0   \n",
        "Three Philosophers Belgian Style Blend (Quadrupel)             0.0         0   \n",
        "Titan IPA                                                      0.0         0   \n",
        "Trappist Westvleteren 12                                       4.5         0   \n",
        "Trappistes Rochefort 10                                        0.0         0   \n",
        "Trappistes Rochefort 8                                         0.0         0   \n",
        "Tripel Karmeliet                                               0.0         0   \n",
        "Troegenator Double Bock                                        0.0         0   \n",
        "Trois Pistoles                                                 0.0         0   \n",
        "Tr\u00f6egs Hopback Amber Ale                                       0.0         0   \n",
        "Tr\u00f6egs Mad Elf                                                 4.5         0   \n",
        "Tr\u00f6egs Nugget Nectar                                           4.5         0   \n",
        "Two Hearted Ale                                                4.0         0   \n",
        "Unearthly (Imperial India Pale Ale)                            0.0         0   \n",
        "Vanilla Porter                                                 0.0         0   \n",
        "Weihenstephaner Hefeweissbier                                  5.0         0   \n",
        "Weihenstephaner Korbinian                                      0.0         0   \n",
        "Westmalle Trappist Dubbel                                      0.0         0   \n",
        "Westmalle Trappist Tripel                                      0.0         0   \n",
        "World Wide Stout                                               0.0         0   \n",
        "Yeti Imperial Stout                                            0.0         0   \n",
        "Young's Double Chocolate Stout                                 0.0         0   \n",
        "Yuengling Traditional Lager                                    0.0         0   \n",
        "\u00c9ph\u00e9m\u00e8re (Apple)                                               0.0         0   \n",
        "\n",
        "                                                                          \\\n",
        "review_profilename                                  03SVTCobra  05Harley   \n",
        "beer_name                                                                  \n",
        "#9                                                           0       0.0   \n",
        "120 Minute IPA                                               0       4.0   \n",
        "1554 Enlightened Black Ale                                   0       0.0   \n",
        "60 Minute IPA                                                0       0.0   \n",
        "90 Minute IPA                                                0       4.0   \n",
        "Aecht Schlenkerla Rauchbier M\u00e4rzen                           0       0.0   \n",
        "AleSmith IPA                                                 0       4.0   \n",
        "AleSmith Speedway Stout                                      0       4.0   \n",
        "Allagash White                                               0       0.0   \n",
        "Alpha King Pale Ale                                          0       0.0   \n",
        "Anchor Liberty Ale                                           0       0.0   \n",
        "Anchor Old Foghorn                                           0       0.0   \n",
        "Anchor Porter                                                0       0.0   \n",
        "Anchor Steam Beer                                            0       0.0   \n",
        "ApriHop                                                      0       0.0   \n",
        "Arrogant Bastard Ale                                         0       0.0   \n",
        "Ayinger Celebrator Doppelbock                                0       4.0   \n",
        "Bass Pale Ale                                                0       0.0   \n",
        "Bell's Expedition Stout                                      0       4.0   \n",
        "Bell's Hopslam Ale                                           0       5.0   \n",
        "Bell's Java Stout                                            0       0.0   \n",
        "Bell's Kalamazoo Stout                                       0       0.0   \n",
        "Bell's Oberon Ale                                            0       0.0   \n",
        "Bell's Special Double Cream Stout                            0       0.0   \n",
        "Big Bear Black Stout                                         0       0.0   \n",
        "Black Butte Porter                                           0       0.0   \n",
        "Blanche De Chambly                                           0       0.0   \n",
        "Blind Pig IPA                                                0       0.0   \n",
        "Blue Moon Belgian White                                      0       0.0   \n",
        "Boddingtons Pub Ale                                          0       0.0   \n",
        "...                                                        ...       ...   \n",
        "Stone Smoked Porter                                          0       0.0   \n",
        "Stone Sublimely Self-Righteous Ale                           0       0.0   \n",
        "Storm King Stout                                             0       4.0   \n",
        "Supplication                                                 0       0.0   \n",
        "Ten FIDY                                                     0       4.0   \n",
        "Terrapin Coffee Oatmeal Imperial Stout                       0       0.0   \n",
        "The Abyss                                                    0       0.0   \n",
        "Three Philosophers Belgian Style Blend (Quadrupel)           0       0.0   \n",
        "Titan IPA                                                    0       0.0   \n",
        "Trappist Westvleteren 12                                     0       4.0   \n",
        "Trappistes Rochefort 10                                      0       4.5   \n",
        "Trappistes Rochefort 8                                       0       0.0   \n",
        "Tripel Karmeliet                                             0       0.0   \n",
        "Troegenator Double Bock                                      0       0.0   \n",
        "Trois Pistoles                                               0       0.0   \n",
        "Tr\u00f6egs Hopback Amber Ale                                     0       0.0   \n",
        "Tr\u00f6egs Mad Elf                                               0       0.0   \n",
        "Tr\u00f6egs Nugget Nectar                                         0       0.0   \n",
        "Two Hearted Ale                                              0       0.0   \n",
        "Unearthly (Imperial India Pale Ale)                          0       0.0   \n",
        "Vanilla Porter                                               0       0.0   \n",
        "Weihenstephaner Hefeweissbier                                0       0.0   \n",
        "Weihenstephaner Korbinian                                    0       4.0   \n",
        "Westmalle Trappist Dubbel                                    0       0.0   \n",
        "Westmalle Trappist Tripel                                    0       0.0   \n",
        "World Wide Stout                                             0       4.0   \n",
        "Yeti Imperial Stout                                          0       0.0   \n",
        "Young's Double Chocolate Stout                               0       0.0   \n",
        "Yuengling Traditional Lager                                  0       0.0   \n",
        "\u00c9ph\u00e9m\u00e8re (Apple)                                             0       0.0   \n",
        "\n",
        "                                                                         \\\n",
        "review_profilename                                  0Naught0  0beerguy0   \n",
        "beer_name                                                                 \n",
        "#9                                                       0.0          0   \n",
        "120 Minute IPA                                           0.0          0   \n",
        "1554 Enlightened Black Ale                               0.0          0   \n",
        "60 Minute IPA                                            0.0          0   \n",
        "90 Minute IPA                                            0.0          0   \n",
        "Aecht Schlenkerla Rauchbier M\u00e4rzen                       0.0          0   \n",
        "AleSmith IPA                                             0.0          0   \n",
        "AleSmith Speedway Stout                                  0.0          0   \n",
        "Allagash White                                           0.0          0   \n",
        "Alpha King Pale Ale                                      0.0          0   \n",
        "Anchor Liberty Ale                                       0.0          3   \n",
        "Anchor Old Foghorn                                       0.0          0   \n",
        "Anchor Porter                                            0.0          0   \n",
        "Anchor Steam Beer                                        0.0          0   \n",
        "ApriHop                                                  0.0          0   \n",
        "Arrogant Bastard Ale                                     0.0          0   \n",
        "Ayinger Celebrator Doppelbock                            0.0          0   \n",
        "Bass Pale Ale                                            0.0          0   \n",
        "Bell's Expedition Stout                                  0.0          0   \n",
        "Bell's Hopslam Ale                                       0.0          0   \n",
        "Bell's Java Stout                                        0.0          0   \n",
        "Bell's Kalamazoo Stout                                   0.0          0   \n",
        "Bell's Oberon Ale                                        0.0          0   \n",
        "Bell's Special Double Cream Stout                        0.0          0   \n",
        "Big Bear Black Stout                                     0.0          0   \n",
        "Black Butte Porter                                       0.0          0   \n",
        "Blanche De Chambly                                       0.0          0   \n",
        "Blind Pig IPA                                            0.0          0   \n",
        "Blue Moon Belgian White                                  0.0          0   \n",
        "Boddingtons Pub Ale                                      0.0          0   \n",
        "...                                                      ...        ...   \n",
        "Stone Smoked Porter                                      0.0          4   \n",
        "Stone Sublimely Self-Righteous Ale                       0.0          0   \n",
        "Storm King Stout                                         0.0          0   \n",
        "Supplication                                             0.0          0   \n",
        "Ten FIDY                                                 0.0          0   \n",
        "Terrapin Coffee Oatmeal Imperial Stout                   0.0          0   \n",
        "The Abyss                                                0.0          0   \n",
        "Three Philosophers Belgian Style Blend (Quadrupel)       0.0          0   \n",
        "Titan IPA                                                0.0          0   \n",
        "Trappist Westvleteren 12                                 0.0          0   \n",
        "Trappistes Rochefort 10                                  0.0          0   \n",
        "Trappistes Rochefort 8                                   0.0          0   \n",
        "Tripel Karmeliet                                         4.5          0   \n",
        "Troegenator Double Bock                                  0.0          0   \n",
        "Trois Pistoles                                           0.0          0   \n",
        "Tr\u00f6egs Hopback Amber Ale                                 0.0          0   \n",
        "Tr\u00f6egs Mad Elf                                           0.0          0   \n",
        "Tr\u00f6egs Nugget Nectar                                     0.0          0   \n",
        "Two Hearted Ale                                          0.0          0   \n",
        "Unearthly (Imperial India Pale Ale)                      0.0          0   \n",
        "Vanilla Porter                                           0.0          0   \n",
        "Weihenstephaner Hefeweissbier                            0.0          0   \n",
        "Weihenstephaner Korbinian                                0.0          0   \n",
        "Westmalle Trappist Dubbel                                0.0          0   \n",
        "Westmalle Trappist Tripel                                0.0          0   \n",
        "World Wide Stout                                         0.0          0   \n",
        "Yeti Imperial Stout                                      0.0          0   \n",
        "Young's Double Chocolate Stout                           0.0          0   \n",
        "Yuengling Traditional Lager                              0.0          0   \n",
        "\u00c9ph\u00e9m\u00e8re (Apple)                                         0.0          0   \n",
        "\n",
        "                                                                    \\\n",
        "review_profilename                                  0runkp0s  0tt0   \n",
        "beer_name                                                            \n",
        "#9                                                         0   0.0   \n",
        "120 Minute IPA                                             0   1.5   \n",
        "1554 Enlightened Black Ale                                 0   0.0   \n",
        "60 Minute IPA                                              0   0.0   \n",
        "90 Minute IPA                                              0   0.0   \n",
        "Aecht Schlenkerla Rauchbier M\u00e4rzen                         0   0.0   \n",
        "AleSmith IPA                                               0   0.0   \n",
        "AleSmith Speedway Stout                                    0   0.0   \n",
        "Allagash White                                             0   0.0   \n",
        "Alpha King Pale Ale                                        0   0.0   \n",
        "Anchor Liberty Ale                                         0   0.0   \n",
        "Anchor Old Foghorn                                         0   0.0   \n",
        "Anchor Porter                                              0   0.0   \n",
        "Anchor Steam Beer                                          0   0.0   \n",
        "ApriHop                                                    0   4.0   \n",
        "Arrogant Bastard Ale                                       0   0.0   \n",
        "Ayinger Celebrator Doppelbock                              0   0.0   \n",
        "Bass Pale Ale                                              0   0.0   \n",
        "Bell's Expedition Stout                                    0   0.0   \n",
        "Bell's Hopslam Ale                                         0   0.0   \n",
        "Bell's Java Stout                                          0   0.0   \n",
        "Bell's Kalamazoo Stout                                     0   0.0   \n",
        "Bell's Oberon Ale                                          0   0.0   \n",
        "Bell's Special Double Cream Stout                          0   0.0   \n",
        "Big Bear Black Stout                                       0   0.0   \n",
        "Black Butte Porter                                         0   0.0   \n",
        "Blanche De Chambly                                         0   0.0   \n",
        "Blind Pig IPA                                              0   0.0   \n",
        "Blue Moon Belgian White                                    0   0.0   \n",
        "Boddingtons Pub Ale                                        0   0.0   \n",
        "...                                                      ...   ...   \n",
        "Stone Smoked Porter                                        0   0.0   \n",
        "Stone Sublimely Self-Righteous Ale                         0   0.0   \n",
        "Storm King Stout                                           0   4.5   \n",
        "Supplication                                               0   0.0   \n",
        "Ten FIDY                                                   0   0.0   \n",
        "Terrapin Coffee Oatmeal Imperial Stout                     0   0.0   \n",
        "The Abyss                                                  0   0.0   \n",
        "Three Philosophers Belgian Style Blend (Quadrupel)         0   0.0   \n",
        "Titan IPA                                                  0   0.0   \n",
        "Trappist Westvleteren 12                                   0   0.0   \n",
        "Trappistes Rochefort 10                                    0   0.0   \n",
        "Trappistes Rochefort 8                                     0   0.0   \n",
        "Tripel Karmeliet                                           0   0.0   \n",
        "Troegenator Double Bock                                    0   0.0   \n",
        "Trois Pistoles                                             0   0.0   \n",
        "Tr\u00f6egs Hopback Amber Ale                                   0   0.0   \n",
        "Tr\u00f6egs Mad Elf                                             0   0.0   \n",
        "Tr\u00f6egs Nugget Nectar                                       0   0.0   \n",
        "Two Hearted Ale                                            0   0.0   \n",
        "Unearthly (Imperial India Pale Ale)                        0   0.0   \n",
        "Vanilla Porter                                             0   0.0   \n",
        "Weihenstephaner Hefeweissbier                              0   0.0   \n",
        "Weihenstephaner Korbinian                                  0   0.0   \n",
        "Westmalle Trappist Dubbel                                  0   0.0   \n",
        "Westmalle Trappist Tripel                                  0   0.0   \n",
        "World Wide Stout                                           0   0.0   \n",
        "Yeti Imperial Stout                                        0   0.0   \n",
        "Young's Double Chocolate Stout                             0   0.0   \n",
        "Yuengling Traditional Lager                                0   0.0   \n",
        "\u00c9ph\u00e9m\u00e8re (Apple)                                           0   0.0   \n",
        "\n",
        "                                                                            \\\n",
        "review_profilename                                  1000Bottles  1001111.0   \n",
        "beer_name                                                                    \n",
        "#9                                                          0.0          0   \n",
        "120 Minute IPA                                              0.0          0   \n",
        "1554 Enlightened Black Ale                                  0.0          0   \n",
        "60 Minute IPA                                               0.0          0   \n",
        "90 Minute IPA                                               0.0          0   \n",
        "Aecht Schlenkerla Rauchbier M\u00e4rzen                          0.0          0   \n",
        "AleSmith IPA                                                0.0          0   \n",
        "AleSmith Speedway Stout                                     0.0          0   \n",
        "Allagash White                                              0.0          0   \n",
        "Alpha King Pale Ale                                         0.0          0   \n",
        "Anchor Liberty Ale                                          0.0          0   \n",
        "Anchor Old Foghorn                                          0.0          0   \n",
        "Anchor Porter                                               0.0          0   \n",
        "Anchor Steam Beer                                           0.0          0   \n",
        "ApriHop                                                     3.5          0   \n",
        "Arrogant Bastard Ale                                        0.0          0   \n",
        "Ayinger Celebrator Doppelbock                               0.0          0   \n",
        "Bass Pale Ale                                               0.0          0   \n",
        "Bell's Expedition Stout                                     0.0          0   \n",
        "Bell's Hopslam Ale                                          0.0          0   \n",
        "Bell's Java Stout                                           0.0          0   \n",
        "Bell's Kalamazoo Stout                                      0.0          0   \n",
        "Bell's Oberon Ale                                           0.0          0   \n",
        "Bell's Special Double Cream Stout                           0.0          0   \n",
        "Big Bear Black Stout                                        0.0          0   \n",
        "Black Butte Porter                                          0.0          0   \n",
        "Blanche De Chambly                                          0.0          0   \n",
        "Blind Pig IPA                                               0.0          0   \n",
        "Blue Moon Belgian White                                     0.0          0   \n",
        "Boddingtons Pub Ale                                         0.0          0   \n",
        "...                                                         ...        ...   \n",
        "Stone Smoked Porter                                         0.0          0   \n",
        "Stone Sublimely Self-Righteous Ale                          0.0          0   \n",
        "Storm King Stout                                            0.0          0   \n",
        "Supplication                                                0.0          0   \n",
        "Ten FIDY                                                    0.0          0   \n",
        "Terrapin Coffee Oatmeal Imperial Stout                      0.0          0   \n",
        "The Abyss                                                   0.0          0   \n",
        "Three Philosophers Belgian Style Blend (Quadrupel)          0.0          0   \n",
        "Titan IPA                                                   0.0          0   \n",
        "Trappist Westvleteren 12                                    0.0          0   \n",
        "Trappistes Rochefort 10                                     0.0          0   \n",
        "Trappistes Rochefort 8                                      0.0          0   \n",
        "Tripel Karmeliet                                            0.0          0   \n",
        "Troegenator Double Bock                                     0.0          0   \n",
        "Trois Pistoles                                              0.0          0   \n",
        "Tr\u00f6egs Hopback Amber Ale                                    0.0          0   \n",
        "Tr\u00f6egs Mad Elf                                              0.0          0   \n",
        "Tr\u00f6egs Nugget Nectar                                        0.0          0   \n",
        "Two Hearted Ale                                             0.0          0   \n",
        "Unearthly (Imperial India Pale Ale)                         0.0          0   \n",
        "Vanilla Porter                                              0.0          0   \n",
        "Weihenstephaner Hefeweissbier                               0.0          0   \n",
        "Weihenstephaner Korbinian                                   0.0          0   \n",
        "Westmalle Trappist Dubbel                                   0.0          0   \n",
        "Westmalle Trappist Tripel                                   0.0          0   \n",
        "World Wide Stout                                            0.0          0   \n",
        "Yeti Imperial Stout                                         0.0          0   \n",
        "Young's Double Chocolate Stout                              0.0          0   \n",
        "Yuengling Traditional Lager                                 0.0          0   \n",
        "\u00c9ph\u00e9m\u00e8re (Apple)                                            0.0          0   \n",
        "\n",
        "                                                      ...             \\\n",
        "review_profilename                                    ...      zuker   \n",
        "beer_name                                             ...              \n",
        "#9                                                    ...          0   \n",
        "120 Minute IPA                                        ...          0   \n",
        "1554 Enlightened Black Ale                            ...          0   \n",
        "60 Minute IPA                                         ...          0   \n",
        "90 Minute IPA                                         ...          0   \n",
        "Aecht Schlenkerla Rauchbier M\u00e4rzen                    ...          0   \n",
        "AleSmith IPA                                          ...          0   \n",
        "AleSmith Speedway Stout                               ...          0   \n",
        "Allagash White                                        ...          0   \n",
        "Alpha King Pale Ale                                   ...          0   \n",
        "Anchor Liberty Ale                                    ...          0   \n",
        "Anchor Old Foghorn                                    ...          0   \n",
        "Anchor Porter                                         ...          0   \n",
        "Anchor Steam Beer                                     ...          0   \n",
        "ApriHop                                               ...          0   \n",
        "Arrogant Bastard Ale                                  ...          0   \n",
        "Ayinger Celebrator Doppelbock                         ...          0   \n",
        "Bass Pale Ale                                         ...          0   \n",
        "Bell's Expedition Stout                               ...          0   \n",
        "Bell's Hopslam Ale                                    ...          0   \n",
        "Bell's Java Stout                                     ...          0   \n",
        "Bell's Kalamazoo Stout                                ...          0   \n",
        "Bell's Oberon Ale                                     ...          0   \n",
        "Bell's Special Double Cream Stout                     ...          0   \n",
        "Big Bear Black Stout                                  ...          0   \n",
        "Black Butte Porter                                    ...          0   \n",
        "Blanche De Chambly                                    ...          0   \n",
        "Blind Pig IPA                                         ...          0   \n",
        "Blue Moon Belgian White                               ...          0   \n",
        "Boddingtons Pub Ale                                   ...          0   \n",
        "...                                                   ...        ...   \n",
        "Stone Smoked Porter                                   ...          0   \n",
        "Stone Sublimely Self-Righteous Ale                    ...          0   \n",
        "Storm King Stout                                      ...          0   \n",
        "Supplication                                          ...          0   \n",
        "Ten FIDY                                              ...          0   \n",
        "Terrapin Coffee Oatmeal Imperial Stout                ...          0   \n",
        "The Abyss                                             ...          0   \n",
        "Three Philosophers Belgian Style Blend (Quadrupel)    ...          0   \n",
        "Titan IPA                                             ...          0   \n",
        "Trappist Westvleteren 12                              ...          0   \n",
        "Trappistes Rochefort 10                               ...          0   \n",
        "Trappistes Rochefort 8                                ...          0   \n",
        "Tripel Karmeliet                                      ...          0   \n",
        "Troegenator Double Bock                               ...          0   \n",
        "Trois Pistoles                                        ...          0   \n",
        "Tr\u00f6egs Hopback Amber Ale                              ...          0   \n",
        "Tr\u00f6egs Mad Elf                                        ...          0   \n",
        "Tr\u00f6egs Nugget Nectar                                  ...          0   \n",
        "Two Hearted Ale                                       ...          0   \n",
        "Unearthly (Imperial India Pale Ale)                   ...          0   \n",
        "Vanilla Porter                                        ...          0   \n",
        "Weihenstephaner Hefeweissbier                         ...          0   \n",
        "Weihenstephaner Korbinian                             ...          0   \n",
        "Westmalle Trappist Dubbel                             ...          0   \n",
        "Westmalle Trappist Tripel                             ...          0   \n",
        "World Wide Stout                                      ...          0   \n",
        "Yeti Imperial Stout                                   ...          0   \n",
        "Young's Double Chocolate Stout                        ...          0   \n",
        "Yuengling Traditional Lager                           ...          0   \n",
        "\u00c9ph\u00e9m\u00e8re (Apple)                                      ...          0   \n",
        "\n",
        "                                                                           \\\n",
        "review_profilename                                  zulufactor  zumicroom   \n",
        "beer_name                                                                   \n",
        "#9                                                           0          0   \n",
        "120 Minute IPA                                               0          0   \n",
        "1554 Enlightened Black Ale                                   0          0   \n",
        "60 Minute IPA                                                0          0   \n",
        "90 Minute IPA                                                0          0   \n",
        "Aecht Schlenkerla Rauchbier M\u00e4rzen                           0          0   \n",
        "AleSmith IPA                                                 0          0   \n",
        "AleSmith Speedway Stout                                      0          0   \n",
        "Allagash White                                               0          0   \n",
        "Alpha King Pale Ale                                          0          0   \n",
        "Anchor Liberty Ale                                           0          0   \n",
        "Anchor Old Foghorn                                           0          0   \n",
        "Anchor Porter                                                0          0   \n",
        "Anchor Steam Beer                                            0          0   \n",
        "ApriHop                                                      0          0   \n",
        "Arrogant Bastard Ale                                         0          0   \n",
        "Ayinger Celebrator Doppelbock                                0          0   \n",
        "Bass Pale Ale                                                0          0   \n",
        "Bell's Expedition Stout                                      0          0   \n",
        "Bell's Hopslam Ale                                           0          0   \n",
        "Bell's Java Stout                                            0          0   \n",
        "Bell's Kalamazoo Stout                                       0          0   \n",
        "Bell's Oberon Ale                                            0          0   \n",
        "Bell's Special Double Cream Stout                            0          0   \n",
        "Big Bear Black Stout                                         0          0   \n",
        "Black Butte Porter                                           0          0   \n",
        "Blanche De Chambly                                           0          0   \n",
        "Blind Pig IPA                                                0          0   \n",
        "Blue Moon Belgian White                                      0          0   \n",
        "Boddingtons Pub Ale                                          0          0   \n",
        "...                                                        ...        ...   \n",
        "Stone Smoked Porter                                          0          0   \n",
        "Stone Sublimely Self-Righteous Ale                           0          0   \n",
        "Storm King Stout                                             0          0   \n",
        "Supplication                                                 0          0   \n",
        "Ten FIDY                                                     0          0   \n",
        "Terrapin Coffee Oatmeal Imperial Stout                       0          0   \n",
        "The Abyss                                                    0          0   \n",
        "Three Philosophers Belgian Style Blend (Quadrupel)           0          0   \n",
        "Titan IPA                                                    0          0   \n",
        "Trappist Westvleteren 12                                     0          0   \n",
        "Trappistes Rochefort 10                                      0          0   \n",
        "Trappistes Rochefort 8                                       0          0   \n",
        "Tripel Karmeliet                                             0          0   \n",
        "Troegenator Double Bock                                      0          0   \n",
        "Trois Pistoles                                               0          0   \n",
        "Tr\u00f6egs Hopback Amber Ale                                     0          0   \n",
        "Tr\u00f6egs Mad Elf                                               0          0   \n",
        "Tr\u00f6egs Nugget Nectar                                         0          0   \n",
        "Two Hearted Ale                                              0          0   \n",
        "Unearthly (Imperial India Pale Ale)                          0          0   \n",
        "Vanilla Porter                                               0          0   \n",
        "Weihenstephaner Hefeweissbier                                0          0   \n",
        "Weihenstephaner Korbinian                                    0          0   \n",
        "Westmalle Trappist Dubbel                                    0          0   \n",
        "Westmalle Trappist Tripel                                    0          0   \n",
        "World Wide Stout                                             0          0   \n",
        "Yeti Imperial Stout                                          0          0   \n",
        "Young's Double Chocolate Stout                               0          0   \n",
        "Yuengling Traditional Lager                                  0          0   \n",
        "\u00c9ph\u00e9m\u00e8re (Apple)                                             0          0   \n",
        "\n",
        "                                                                            \\\n",
        "review_profilename                                  zwalk8  zwoehr  zymrgy   \n",
        "beer_name                                                                    \n",
        "#9                                                     0.0       0       0   \n",
        "120 Minute IPA                                         0.0       0       0   \n",
        "1554 Enlightened Black Ale                             0.0       0       0   \n",
        "60 Minute IPA                                          0.0       0       0   \n",
        "90 Minute IPA                                          0.0       0       0   \n",
        "Aecht Schlenkerla Rauchbier M\u00e4rzen                     0.0       0       0   \n",
        "AleSmith IPA                                           0.0       0       0   \n",
        "AleSmith Speedway Stout                                0.0       0       0   \n",
        "Allagash White                                         0.0       0       0   \n",
        "Alpha King Pale Ale                                    0.0       0       0   \n",
        "Anchor Liberty Ale                                     0.0       0       0   \n",
        "Anchor Old Foghorn                                     0.0       0       0   \n",
        "Anchor Porter                                          0.0       0       0   \n",
        "Anchor Steam Beer                                      0.0       0       0   \n",
        "ApriHop                                                0.0       0       0   \n",
        "Arrogant Bastard Ale                                   0.0       0       0   \n",
        "Ayinger Celebrator Doppelbock                          0.0       0       0   \n",
        "Bass Pale Ale                                          0.0       0       0   \n",
        "Bell's Expedition Stout                                0.0       0       0   \n",
        "Bell's Hopslam Ale                                     0.0       0       0   \n",
        "Bell's Java Stout                                      0.0       0       0   \n",
        "Bell's Kalamazoo Stout                                 0.0       0       0   \n",
        "Bell's Oberon Ale                                      0.0       0       0   \n",
        "Bell's Special Double Cream Stout                      0.0       0       0   \n",
        "Big Bear Black Stout                                   0.0       0       0   \n",
        "Black Butte Porter                                     0.0       0       0   \n",
        "Blanche De Chambly                                     0.0       0       0   \n",
        "Blind Pig IPA                                          0.0       0       0   \n",
        "Blue Moon Belgian White                                0.0       0       0   \n",
        "Boddingtons Pub Ale                                    0.0       0       0   \n",
        "...                                                    ...     ...     ...   \n",
        "Stone Smoked Porter                                    0.0       0       0   \n",
        "Stone Sublimely Self-Righteous Ale                     0.0       0       0   \n",
        "Storm King Stout                                       0.0       0       0   \n",
        "Supplication                                           0.0       0       0   \n",
        "Ten FIDY                                               0.0       0       0   \n",
        "Terrapin Coffee Oatmeal Imperial Stout                 0.0       0       0   \n",
        "The Abyss                                              0.0       0       0   \n",
        "Three Philosophers Belgian Style Blend (Quadrupel)     0.0       0       0   \n",
        "Titan IPA                                              0.0       0       0   \n",
        "Trappist Westvleteren 12                               4.5       0       0   \n",
        "Trappistes Rochefort 10                                0.0       0       0   \n",
        "Trappistes Rochefort 8                                 0.0       0       0   \n",
        "Tripel Karmeliet                                       0.0       0       0   \n",
        "Troegenator Double Bock                                0.0       0       0   \n",
        "Trois Pistoles                                         0.0       0       0   \n",
        "Tr\u00f6egs Hopback Amber Ale                               0.0       0       0   \n",
        "Tr\u00f6egs Mad Elf                                         0.0       0       0   \n",
        "Tr\u00f6egs Nugget Nectar                                   0.0       0       0   \n",
        "Two Hearted Ale                                        0.0       0       0   \n",
        "Unearthly (Imperial India Pale Ale)                    0.0       0       0   \n",
        "Vanilla Porter                                         0.0       0       0   \n",
        "Weihenstephaner Hefeweissbier                          0.0       0       0   \n",
        "Weihenstephaner Korbinian                              0.0       0       0   \n",
        "Westmalle Trappist Dubbel                              0.0       0       0   \n",
        "Westmalle Trappist Tripel                              0.0       0       0   \n",
        "World Wide Stout                                       0.0       0       3   \n",
        "Yeti Imperial Stout                                    0.0       0       0   \n",
        "Young's Double Chocolate Stout                         0.0       0       0   \n",
        "Yuengling Traditional Lager                            0.0       0       0   \n",
        "\u00c9ph\u00e9m\u00e8re (Apple)                                       0.0       0       0   \n",
        "\n",
        "                                                                              \\\n",
        "review_profilename                                  zymurgy4all  zymurgywhiz   \n",
        "beer_name                                                                      \n",
        "#9                                                          0.0            0   \n",
        "120 Minute IPA                                              0.0            0   \n",
        "1554 Enlightened Black Ale                                  0.0            0   \n",
        "60 Minute IPA                                               0.0            0   \n",
        "90 Minute IPA                                               0.0            0   \n",
        "Aecht Schlenkerla Rauchbier M\u00e4rzen                          0.0            0   \n",
        "AleSmith IPA                                                0.0            0   \n",
        "AleSmith Speedway Stout                                     0.0            0   \n",
        "Allagash White                                              0.0            0   \n",
        "Alpha King Pale Ale                                         0.0            0   \n",
        "Anchor Liberty Ale                                          0.0            0   \n",
        "Anchor Old Foghorn                                          0.0            0   \n",
        "Anchor Porter                                               0.0            0   \n",
        "Anchor Steam Beer                                           0.0            0   \n",
        "ApriHop                                                     0.0            0   \n",
        "Arrogant Bastard Ale                                        0.0            0   \n",
        "Ayinger Celebrator Doppelbock                               0.0            0   \n",
        "Bass Pale Ale                                               0.0            0   \n",
        "Bell's Expedition Stout                                     0.0            0   \n",
        "Bell's Hopslam Ale                                          0.0            0   \n",
        "Bell's Java Stout                                           0.0            0   \n",
        "Bell's Kalamazoo Stout                                      0.0            0   \n",
        "Bell's Oberon Ale                                           0.0            0   \n",
        "Bell's Special Double Cream Stout                           0.0            0   \n",
        "Big Bear Black Stout                                        0.0            0   \n",
        "Black Butte Porter                                          0.0            0   \n",
        "Blanche De Chambly                                          0.0            0   \n",
        "Blind Pig IPA                                               0.0            0   \n",
        "Blue Moon Belgian White                                     4.0            0   \n",
        "Boddingtons Pub Ale                                         0.0            0   \n",
        "...                                                         ...          ...   \n",
        "Stone Smoked Porter                                         4.5            0   \n",
        "Stone Sublimely Self-Righteous Ale                          0.0            0   \n",
        "Storm King Stout                                            0.0            0   \n",
        "Supplication                                                0.0            0   \n",
        "Ten FIDY                                                    0.0            0   \n",
        "Terrapin Coffee Oatmeal Imperial Stout                      0.0            0   \n",
        "The Abyss                                                   4.0            0   \n",
        "Three Philosophers Belgian Style Blend (Quadrupel)          0.0            0   \n",
        "Titan IPA                                                   0.0            0   \n",
        "Trappist Westvleteren 12                                    0.0            0   \n",
        "Trappistes Rochefort 10                                     0.0            0   \n",
        "Trappistes Rochefort 8                                      0.0            0   \n",
        "Tripel Karmeliet                                            0.0            0   \n",
        "Troegenator Double Bock                                     0.0            0   \n",
        "Trois Pistoles                                              0.0            0   \n",
        "Tr\u00f6egs Hopback Amber Ale                                    0.0            0   \n",
        "Tr\u00f6egs Mad Elf                                              0.0            0   \n",
        "Tr\u00f6egs Nugget Nectar                                        0.0            0   \n",
        "Two Hearted Ale                                             0.0            0   \n",
        "Unearthly (Imperial India Pale Ale)                         0.0            0   \n",
        "Vanilla Porter                                              0.0            0   \n",
        "Weihenstephaner Hefeweissbier                               0.0            0   \n",
        "Weihenstephaner Korbinian                                   0.0            0   \n",
        "Westmalle Trappist Dubbel                                   0.0            0   \n",
        "Westmalle Trappist Tripel                                   0.0            0   \n",
        "World Wide Stout                                            0.0            0   \n",
        "Yeti Imperial Stout                                         0.0            0   \n",
        "Young's Double Chocolate Stout                              0.0            0   \n",
        "Yuengling Traditional Lager                                 5.0            0   \n",
        "\u00c9ph\u00e9m\u00e8re (Apple)                                            0.0            0   \n",
        "\n",
        "                                                                    \n",
        "review_profilename                                  zythus  zyzygy  \n",
        "beer_name                                                           \n",
        "#9                                                       0       0  \n",
        "120 Minute IPA                                           0       0  \n",
        "1554 Enlightened Black Ale                               0       0  \n",
        "60 Minute IPA                                            0       0  \n",
        "90 Minute IPA                                            0       0  \n",
        "Aecht Schlenkerla Rauchbier M\u00e4rzen                       0       0  \n",
        "AleSmith IPA                                             0       0  \n",
        "AleSmith Speedway Stout                                  0       0  \n",
        "Allagash White                                           0       0  \n",
        "Alpha King Pale Ale                                      0       0  \n",
        "Anchor Liberty Ale                                       0       0  \n",
        "Anchor Old Foghorn                                       0       0  \n",
        "Anchor Porter                                            0       0  \n",
        "Anchor Steam Beer                                        0       0  \n",
        "ApriHop                                                  0       0  \n",
        "Arrogant Bastard Ale                                     0       0  \n",
        "Ayinger Celebrator Doppelbock                            0       0  \n",
        "Bass Pale Ale                                            0       0  \n",
        "Bell's Expedition Stout                                  0       0  \n",
        "Bell's Hopslam Ale                                       0       0  \n",
        "Bell's Java Stout                                        0       0  \n",
        "Bell's Kalamazoo Stout                                   0       0  \n",
        "Bell's Oberon Ale                                        0       0  \n",
        "Bell's Special Double Cream Stout                        0       0  \n",
        "Big Bear Black Stout                                     0       0  \n",
        "Black Butte Porter                                       0       0  \n",
        "Blanche De Chambly                                       0       0  \n",
        "Blind Pig IPA                                            0       0  \n",
        "Blue Moon Belgian White                                  0       0  \n",
        "Boddingtons Pub Ale                                      0       0  \n",
        "...                                                    ...     ...  \n",
        "Stone Smoked Porter                                      0       0  \n",
        "Stone Sublimely Self-Righteous Ale                       0       0  \n",
        "Storm King Stout                                         0       0  \n",
        "Supplication                                             0       0  \n",
        "Ten FIDY                                                 0       0  \n",
        "Terrapin Coffee Oatmeal Imperial Stout                   0       0  \n",
        "The Abyss                                                0       0  \n",
        "Three Philosophers Belgian Style Blend (Quadrupel)       0       0  \n",
        "Titan IPA                                                0       0  \n",
        "Trappist Westvleteren 12                                 0       0  \n",
        "Trappistes Rochefort 10                                  0       0  \n",
        "Trappistes Rochefort 8                                   0       0  \n",
        "Tripel Karmeliet                                         0       0  \n",
        "Troegenator Double Bock                                  0       0  \n",
        "Trois Pistoles                                           0       0  \n",
        "Tr\u00f6egs Hopback Amber Ale                                 0       0  \n",
        "Tr\u00f6egs Mad Elf                                           0       0  \n",
        "Tr\u00f6egs Nugget Nectar                                     0       0  \n",
        "Two Hearted Ale                                          0       0  \n",
        "Unearthly (Imperial India Pale Ale)                      0       0  \n",
        "Vanilla Porter                                           0       0  \n",
        "Weihenstephaner Hefeweissbier                            0       0  \n",
        "Weihenstephaner Korbinian                                0       0  \n",
        "Westmalle Trappist Dubbel                                0       0  \n",
        "Westmalle Trappist Tripel                                0       0  \n",
        "World Wide Stout                                         0       0  \n",
        "Yeti Imperial Stout                                      0       0  \n",
        "Young's Double Chocolate Stout                           0       0  \n",
        "Yuengling Traditional Lager                              0       0  \n",
        "\u00c9ph\u00e9m\u00e8re (Apple)                                         3       0  \n",
        "\n",
        "[250 rows x 22140 columns]"
       ]
      }
     ],
     "prompt_number": 38
    },
    {
     "cell_type": "markdown",
     "metadata": {},
     "source": [
      "Check that columns are users"
     ]
    },
    {
     "cell_type": "code",
     "collapsed": false,
     "input": [
      "df_wide.columns[:10]\n"
     ],
     "language": "python",
     "metadata": {},
     "outputs": [
      {
       "metadata": {},
       "output_type": "pyout",
       "prompt_number": 40,
       "text": [
        "MultiIndex(levels=[[u'review_overall'], [u'0110x011', u'02maxima', u'03SVTCobra', u'05Harley', u'0Naught0', u'0beerguy0', u'0runkp0s', u'0tt0', u'1000Bottles', u'1001111.0', u'100floods', u'100proof', u'1050Sudz', u'108Dragons', u'1099.0', u'1100.0', u'1121987.0', u'11millsown113', u'11osixBrew', u'11thFloorBrewing', u'1229design', u'12NattiBottles', u'12ouncecurls', u'12percent', u'12vUnion', u'130guy', u'13smurrf', u'160Shillings', u'1759Girl', u'1759dallas', u'17Guinness59', u'18alpha', u'196osh', u'1993Heel', u'1996StrokerKid', u'1Adam12', u'1MiltonWaddams', u'1PA', u'1after909', u'1brbn1sctch1beer', u'1fastz28', u'1morebeer', u'1noa', u'1quiks10', u'1santore', u'1thinmint', u'1whiskey', u'20ozmonkey', u'21mmer', u'220emaple', u'22ozStone', u'2369.0', u'2378GCGTG', u'23fyerfyter', u'2408bwk', u'245Trioxin', u'24Beer92', u'25santurce', u'28Rock', u'2BDChicago', u'2Cruzy', u'2DaMtns', u'2KHokie', u'2LBrew', u'2Shay', u'2Stout4u', u'2beerdogs', u'2cansam', u'2girls1hop', u'2heartedMIKE', u'2late2brew', u'2melow', u'2ndloveofmylife', u'2ndstage', u'2oose', u'2roosters', u'2stepZ', u'2wheeledpirate', u'2xHops', u'311kevin', u'31thadrty1', u'321jeff', u'322wingedfoot', u'32hoss32', u'33nickadams', u'3FaveryRogue', u'3HovsepiansBrews', u'3Vandoo', u'3dudesbeerblog', u'3frog', u'3leggeddub', u'3m3rson', u'3nlightenedfool', u'3rdRowTailgater', u'4000qtrap', u'404UGA', u'40oztofreedom89', u'420.0', u'44ouncer', u'454onbeerss', ...]],\n",
        "           labels=[[0, 0, 0, 0, 0, 0, 0, 0, 0, 0], [0, 1, 2, 3, 4, 5, 6, 7, 8, 9]],\n",
        "           names=[None, u'review_profilename'])"
       ]
      }
     ],
     "prompt_number": 40
    },
    {
     "cell_type": "markdown",
     "metadata": {},
     "source": [
      "Check that rows are beers"
     ]
    },
    {
     "cell_type": "code",
     "collapsed": false,
     "input": [
      "df_wide.index[:10]"
     ],
     "language": "python",
     "metadata": {},
     "outputs": [
      {
       "metadata": {},
       "output_type": "pyout",
       "prompt_number": 42,
       "text": [
        "Index([u'#9', u'120 Minute IPA', u'1554 Enlightened Black Ale', u'60 Minute IPA', u'90 Minute IPA', u'Aecht Schlenkerla Rauchbier M\u00e4rzen', u'AleSmith IPA', u'AleSmith Speedway Stout', u'Allagash White', u'Alpha King Pale Ale'], dtype='object')"
       ]
      }
     ],
     "prompt_number": 42
    },
    {
     "cell_type": "markdown",
     "metadata": {},
     "source": [
      "### Calculate distance between beers\n",
      "\n",
      "This is the key. we're going to use cosine_similarity from scikit-learn to compute the distance between all beers"
     ]
    },
    {
     "cell_type": "markdown",
     "metadata": {},
     "source": [
      "Imports"
     ]
    },
    {
     "cell_type": "code",
     "collapsed": false,
     "input": [
      "from sklearn.metrics.pairwise import cosine_similarity\n",
      "from sklearn.metrics.pairwise import manhattan_distances\n",
      "from sklearn.metrics.pairwise import euclidean_distances"
     ],
     "language": "python",
     "metadata": {},
     "outputs": [],
     "prompt_number": 43
    },
    {
     "cell_type": "markdown",
     "metadata": {},
     "source": [
      "Apply cosine similarity to df_wide to calculate pairwise distances"
     ]
    },
    {
     "cell_type": "code",
     "collapsed": false,
     "input": [
      "dists = cosine_similarity(df_wide)"
     ],
     "language": "python",
     "metadata": {},
     "outputs": [
      {
       "ename": "ValueError",
       "evalue": "Array contains NaN or infinity.",
       "output_type": "pyerr",
       "traceback": [
        "\u001b[0;31m---------------------------------------------------------------------------\u001b[0m\n\u001b[0;31mValueError\u001b[0m                                Traceback (most recent call last)",
        "\u001b[0;32m<ipython-input-44-303a609c95bc>\u001b[0m in \u001b[0;36m<module>\u001b[0;34m()\u001b[0m\n\u001b[0;32m----> 1\u001b[0;31m \u001b[0mdists\u001b[0m \u001b[0;34m=\u001b[0m \u001b[0mcosine_similarity\u001b[0m\u001b[0;34m(\u001b[0m\u001b[0mdf_wide\u001b[0m\u001b[0;34m)\u001b[0m\u001b[0;34m\u001b[0m\u001b[0m\n\u001b[0m",
        "\u001b[0;32m/Users/nathanchoo/anaconda/lib/python2.7/site-packages/sklearn/metrics/pairwise.pyc\u001b[0m in \u001b[0;36mcosine_similarity\u001b[0;34m(X, Y)\u001b[0m\n\u001b[1;32m    404\u001b[0m     \u001b[0;31m# to avoid recursive import\u001b[0m\u001b[0;34m\u001b[0m\u001b[0;34m\u001b[0m\u001b[0m\n\u001b[1;32m    405\u001b[0m \u001b[0;34m\u001b[0m\u001b[0m\n\u001b[0;32m--> 406\u001b[0;31m     \u001b[0mX\u001b[0m\u001b[0;34m,\u001b[0m \u001b[0mY\u001b[0m \u001b[0;34m=\u001b[0m \u001b[0mcheck_pairwise_arrays\u001b[0m\u001b[0;34m(\u001b[0m\u001b[0mX\u001b[0m\u001b[0;34m,\u001b[0m \u001b[0mY\u001b[0m\u001b[0;34m)\u001b[0m\u001b[0;34m\u001b[0m\u001b[0m\n\u001b[0m\u001b[1;32m    407\u001b[0m \u001b[0;34m\u001b[0m\u001b[0m\n\u001b[1;32m    408\u001b[0m     \u001b[0mX_normalized\u001b[0m \u001b[0;34m=\u001b[0m \u001b[0mnormalize\u001b[0m\u001b[0;34m(\u001b[0m\u001b[0mX\u001b[0m\u001b[0;34m,\u001b[0m \u001b[0mcopy\u001b[0m\u001b[0;34m=\u001b[0m\u001b[0mTrue\u001b[0m\u001b[0;34m)\u001b[0m\u001b[0;34m\u001b[0m\u001b[0m\n",
        "\u001b[0;32m/Users/nathanchoo/anaconda/lib/python2.7/site-packages/sklearn/metrics/pairwise.pyc\u001b[0m in \u001b[0;36mcheck_pairwise_arrays\u001b[0;34m(X, Y)\u001b[0m\n\u001b[1;32m     84\u001b[0m     \"\"\"\n\u001b[1;32m     85\u001b[0m     \u001b[0;32mif\u001b[0m \u001b[0mY\u001b[0m \u001b[0;32mis\u001b[0m \u001b[0mX\u001b[0m \u001b[0;32mor\u001b[0m \u001b[0mY\u001b[0m \u001b[0;32mis\u001b[0m \u001b[0mNone\u001b[0m\u001b[0;34m:\u001b[0m\u001b[0;34m\u001b[0m\u001b[0m\n\u001b[0;32m---> 86\u001b[0;31m         \u001b[0mX\u001b[0m \u001b[0;34m=\u001b[0m \u001b[0mY\u001b[0m \u001b[0;34m=\u001b[0m \u001b[0matleast2d_or_csr\u001b[0m\u001b[0;34m(\u001b[0m\u001b[0mX\u001b[0m\u001b[0;34m)\u001b[0m\u001b[0;34m\u001b[0m\u001b[0m\n\u001b[0m\u001b[1;32m     87\u001b[0m     \u001b[0;32melse\u001b[0m\u001b[0;34m:\u001b[0m\u001b[0;34m\u001b[0m\u001b[0m\n\u001b[1;32m     88\u001b[0m         \u001b[0mX\u001b[0m \u001b[0;34m=\u001b[0m \u001b[0matleast2d_or_csr\u001b[0m\u001b[0;34m(\u001b[0m\u001b[0mX\u001b[0m\u001b[0;34m)\u001b[0m\u001b[0;34m\u001b[0m\u001b[0m\n",
        "\u001b[0;32m/Users/nathanchoo/anaconda/lib/python2.7/site-packages/sklearn/utils/validation.pyc\u001b[0m in \u001b[0;36matleast2d_or_csr\u001b[0;34m(X, dtype, order, copy, force_all_finite)\u001b[0m\n\u001b[1;32m    132\u001b[0m     \"\"\"\n\u001b[1;32m    133\u001b[0m     return _atleast2d_or_sparse(X, dtype, order, copy, sparse.csr_matrix,\n\u001b[0;32m--> 134\u001b[0;31m                                 \"tocsr\", force_all_finite)\n\u001b[0m\u001b[1;32m    135\u001b[0m \u001b[0;34m\u001b[0m\u001b[0m\n\u001b[1;32m    136\u001b[0m \u001b[0;34m\u001b[0m\u001b[0m\n",
        "\u001b[0;32m/Users/nathanchoo/anaconda/lib/python2.7/site-packages/sklearn/utils/validation.pyc\u001b[0m in \u001b[0;36m_atleast2d_or_sparse\u001b[0;34m(X, dtype, order, copy, sparse_class, convmethod, force_all_finite)\u001b[0m\n\u001b[1;32m    109\u001b[0m     \u001b[0;32melse\u001b[0m\u001b[0;34m:\u001b[0m\u001b[0;34m\u001b[0m\u001b[0m\n\u001b[1;32m    110\u001b[0m         X = array2d(X, dtype=dtype, order=order, copy=copy,\n\u001b[0;32m--> 111\u001b[0;31m                     force_all_finite=force_all_finite)\n\u001b[0m\u001b[1;32m    112\u001b[0m         \u001b[0;32mif\u001b[0m \u001b[0mforce_all_finite\u001b[0m\u001b[0;34m:\u001b[0m\u001b[0;34m\u001b[0m\u001b[0m\n\u001b[1;32m    113\u001b[0m             \u001b[0m_assert_all_finite\u001b[0m\u001b[0;34m(\u001b[0m\u001b[0mX\u001b[0m\u001b[0;34m)\u001b[0m\u001b[0;34m\u001b[0m\u001b[0m\n",
        "\u001b[0;32m/Users/nathanchoo/anaconda/lib/python2.7/site-packages/sklearn/utils/validation.pyc\u001b[0m in \u001b[0;36marray2d\u001b[0;34m(X, dtype, order, copy, force_all_finite)\u001b[0m\n\u001b[1;32m     91\u001b[0m     \u001b[0mX_2d\u001b[0m \u001b[0;34m=\u001b[0m \u001b[0mnp\u001b[0m\u001b[0;34m.\u001b[0m\u001b[0masarray\u001b[0m\u001b[0;34m(\u001b[0m\u001b[0mnp\u001b[0m\u001b[0;34m.\u001b[0m\u001b[0matleast_2d\u001b[0m\u001b[0;34m(\u001b[0m\u001b[0mX\u001b[0m\u001b[0;34m)\u001b[0m\u001b[0;34m,\u001b[0m \u001b[0mdtype\u001b[0m\u001b[0;34m=\u001b[0m\u001b[0mdtype\u001b[0m\u001b[0;34m,\u001b[0m \u001b[0morder\u001b[0m\u001b[0;34m=\u001b[0m\u001b[0morder\u001b[0m\u001b[0;34m)\u001b[0m\u001b[0;34m\u001b[0m\u001b[0m\n\u001b[1;32m     92\u001b[0m     \u001b[0;32mif\u001b[0m \u001b[0mforce_all_finite\u001b[0m\u001b[0;34m:\u001b[0m\u001b[0;34m\u001b[0m\u001b[0m\n\u001b[0;32m---> 93\u001b[0;31m         \u001b[0m_assert_all_finite\u001b[0m\u001b[0;34m(\u001b[0m\u001b[0mX_2d\u001b[0m\u001b[0;34m)\u001b[0m\u001b[0;34m\u001b[0m\u001b[0m\n\u001b[0m\u001b[1;32m     94\u001b[0m     \u001b[0;32mif\u001b[0m \u001b[0mX\u001b[0m \u001b[0;32mis\u001b[0m \u001b[0mX_2d\u001b[0m \u001b[0;32mand\u001b[0m \u001b[0mcopy\u001b[0m\u001b[0;34m:\u001b[0m\u001b[0;34m\u001b[0m\u001b[0m\n\u001b[1;32m     95\u001b[0m         \u001b[0mX_2d\u001b[0m \u001b[0;34m=\u001b[0m \u001b[0msafe_copy\u001b[0m\u001b[0;34m(\u001b[0m\u001b[0mX_2d\u001b[0m\u001b[0;34m)\u001b[0m\u001b[0;34m\u001b[0m\u001b[0m\n",
        "\u001b[0;32m/Users/nathanchoo/anaconda/lib/python2.7/site-packages/sklearn/utils/validation.pyc\u001b[0m in \u001b[0;36m_assert_all_finite\u001b[0;34m(X)\u001b[0m\n\u001b[1;32m     25\u001b[0m     if (X.dtype.char in np.typecodes['AllFloat'] and not np.isfinite(X.sum())\n\u001b[1;32m     26\u001b[0m             and not np.isfinite(X).all()):\n\u001b[0;32m---> 27\u001b[0;31m         \u001b[0;32mraise\u001b[0m \u001b[0mValueError\u001b[0m\u001b[0;34m(\u001b[0m\u001b[0;34m\"Array contains NaN or infinity.\"\u001b[0m\u001b[0;34m)\u001b[0m\u001b[0;34m\u001b[0m\u001b[0m\n\u001b[0m\u001b[1;32m     28\u001b[0m \u001b[0;34m\u001b[0m\u001b[0m\n\u001b[1;32m     29\u001b[0m \u001b[0;34m\u001b[0m\u001b[0m\n",
        "\u001b[0;31mValueError\u001b[0m: Array contains NaN or infinity."
       ]
      }
     ],
     "prompt_number": 44
    },
    {
     "cell_type": "markdown",
     "metadata": {},
     "source": [
      "### Discussion: what type of object is dists?"
     ]
    },
    {
     "cell_type": "markdown",
     "metadata": {},
     "source": [
      "Convert dists to a Pandas DataFrame, use the index as column index as well (distances are a square matrix)."
     ]
    },
    {
     "cell_type": "code",
     "collapsed": false,
     "input": [],
     "language": "python",
     "metadata": {},
     "outputs": []
    },
    {
     "cell_type": "markdown",
     "metadata": {},
     "source": [
      "Select some beers and look their distances to other beers"
     ]
    },
    {
     "cell_type": "code",
     "collapsed": false,
     "input": [],
     "language": "python",
     "metadata": {},
     "outputs": []
    },
    {
     "cell_type": "markdown",
     "metadata": {},
     "source": [
      "Sum the distances of my favourite beers by row, to have one distance from each beer in the sample"
     ]
    },
    {
     "cell_type": "code",
     "collapsed": false,
     "input": [],
     "language": "python",
     "metadata": {},
     "outputs": []
    },
    {
     "cell_type": "markdown",
     "metadata": {},
     "source": [
      "Optional: which one is faster? use ```%timeit``` to check"
     ]
    },
    {
     "cell_type": "code",
     "collapsed": false,
     "input": [],
     "language": "python",
     "metadata": {},
     "outputs": []
    },
    {
     "cell_type": "markdown",
     "metadata": {},
     "source": [
      "Sort summed beers from best to worse"
     ]
    },
    {
     "cell_type": "code",
     "collapsed": false,
     "input": [],
     "language": "python",
     "metadata": {},
     "outputs": []
    },
    {
     "cell_type": "code",
     "collapsed": false,
     "input": [
      "beers_summed = beers_summed.order(ascending=False)\n",
      "beers_summed"
     ],
     "language": "python",
     "metadata": {},
     "outputs": []
    },
    {
     "cell_type": "markdown",
     "metadata": {},
     "source": [
      "Filter out the beers used as input and transform to list"
     ]
    },
    {
     "cell_type": "code",
     "collapsed": false,
     "input": [
      "ranked_beers = beers_summed.index[beers_summed.index.isin(beers_i_like)==False]\n",
      "ranked_beers = ranked_beers.tolist()\n",
      "ranked_beers[:5]"
     ],
     "language": "python",
     "metadata": {},
     "outputs": []
    },
    {
     "cell_type": "markdown",
     "metadata": {},
     "source": [
      "Define a function that does what we just did for an arbitrary input list of beers. it should also receive the maximum number of beers requested n as optional parameter."
     ]
    },
    {
     "cell_type": "code",
     "collapsed": false,
     "input": [],
     "language": "python",
     "metadata": {},
     "outputs": []
    },
    {
     "cell_type": "markdown",
     "metadata": {},
     "source": [
      "Test your function. Find the 10 beers most similar to \"120 Minute IPA\""
     ]
    },
    {
     "cell_type": "code",
     "collapsed": false,
     "input": [
      "for beer in get_similar([\"120 Minute IPA\"], 10):\n",
      "    print beer"
     ],
     "language": "python",
     "metadata": {},
     "outputs": []
    },
    {
     "cell_type": "markdown",
     "metadata": {},
     "source": [
      "Cool, let's try again with the 10 beers most similar to [\"Coors Light\", \"Bud Light\", \"Amstel Light\"]"
     ]
    },
    {
     "cell_type": "code",
     "collapsed": false,
     "input": [
      "for i, beer in enumerate(get_similar([\"Coors Light\", \"Bud Light\", \"Amstel Light\"], 10)):\n",
      "    print \"%d) %s\" % (i+1, beer)"
     ],
     "language": "python",
     "metadata": {},
     "outputs": []
    },
    {
     "cell_type": "markdown",
     "metadata": {},
     "source": [
      "Optional: register an account on yhat and deploy your model following the instructions [here](https://docs.yhathq.com/python/examples/beer-recommender) and [here](http://nbviewer.ipython.org/gist/glamp/20a18d52c539b87de2af)"
     ]
    },
    {
     "cell_type": "markdown",
     "metadata": {},
     "source": [
      "## Recsys\n",
      "\n",
      "A python library for implementing a recommender system"
     ]
    },
    {
     "cell_type": "code",
     "collapsed": false,
     "input": [
      "\"\"\"\n",
      "##install python-recsys\n",
      "\n",
      "### first install dependencies\n",
      "\n",
      "pip install csc-pysparse networkx divisi2\n",
      "\n",
      "### then install recsys\n",
      "git clone https://github.com/python-recsys/python-recsys.git\n",
      "cd python-recsys/\n",
      "\n",
      "python setup.py install\n",
      "\"\"\""
     ],
     "language": "python",
     "metadata": {},
     "outputs": []
    },
    {
     "cell_type": "markdown",
     "metadata": {},
     "source": [
      "Load recsys.algotihm, set VERBOSE = True import SVD class"
     ]
    },
    {
     "cell_type": "code",
     "collapsed": false,
     "input": [
      "import recsys.algorithm\n",
      "recsys.algorithm.VERBOSE = True\n",
      "from recsys.algorithm.factorize import SVD"
     ],
     "language": "python",
     "metadata": {},
     "outputs": []
    },
    {
     "cell_type": "markdown",
     "metadata": {},
     "source": [
      "Let's look at the files"
     ]
    },
    {
     "cell_type": "code",
     "collapsed": false,
     "input": [
      "! ls movielens"
     ],
     "language": "python",
     "metadata": {},
     "outputs": []
    },
    {
     "cell_type": "code",
     "collapsed": false,
     "input": [
      "movies = pd.read_table('movielens/movies.dat', sep='::', names= ['ITEMID', 'Title', 'Genres'], index_col= 'ITEMID')"
     ],
     "language": "python",
     "metadata": {},
     "outputs": []
    },
    {
     "cell_type": "code",
     "collapsed": false,
     "input": [
      "movies.head()"
     ],
     "language": "python",
     "metadata": {},
     "outputs": []
    },
    {
     "cell_type": "code",
     "collapsed": false,
     "input": [
      "ratings = pd.read_table('movielens/ratings.dat', sep='::', names= ['UserID','MovieID','Rating','Timestamp'])"
     ],
     "language": "python",
     "metadata": {},
     "outputs": []
    },
    {
     "cell_type": "code",
     "collapsed": false,
     "input": [
      "ratings.head()"
     ],
     "language": "python",
     "metadata": {},
     "outputs": []
    },
    {
     "cell_type": "markdown",
     "metadata": {},
     "source": [
      "Initialize an SVD instance"
     ]
    },
    {
     "cell_type": "code",
     "collapsed": false,
     "input": [
      "svd = SVD()"
     ],
     "language": "python",
     "metadata": {},
     "outputs": []
    },
    {
     "cell_type": "markdown",
     "metadata": {},
     "source": [
      "Populate it with the data from the ratings dataset, using the built in load_data method"
     ]
    },
    {
     "cell_type": "code",
     "collapsed": false,
     "input": [
      "svd.load_data(filename='./movielens/ratings.dat', sep='::', format={'col':0, 'row':1, 'value':2, 'ids': int})"
     ],
     "language": "python",
     "metadata": {},
     "outputs": []
    },
    {
     "cell_type": "markdown",
     "metadata": {},
     "source": [
      "Compute SVD\n",
      "\n",
      "$M=U \\Sigma V^T$:"
     ]
    },
    {
     "cell_type": "code",
     "collapsed": false,
     "input": [
      "k = 100\n",
      "svd.compute(k=k, min_values=10, pre_normalize=None, mean_center=True, post_normalize=True)"
     ],
     "language": "python",
     "metadata": {},
     "outputs": []
    },
    {
     "cell_type": "markdown",
     "metadata": {},
     "source": [
      "you can also save the output SVD model (in a zip file)"
     ]
    },
    {
     "cell_type": "code",
     "collapsed": false,
     "input": [
      "# svd.compute(k=k, min_values=10, pre_normalize=None, mean_center=True, post_normalize=True, savefile='/tmp/movielens')"
     ],
     "language": "python",
     "metadata": {},
     "outputs": []
    },
    {
     "cell_type": "markdown",
     "metadata": {},
     "source": [
      "Reload a saved model:"
     ]
    },
    {
     "cell_type": "code",
     "collapsed": false,
     "input": [
      "# svd2 = SVD(filename='/tmp/movielens')"
     ],
     "language": "python",
     "metadata": {},
     "outputs": []
    },
    {
     "cell_type": "markdown",
     "metadata": {},
     "source": [
      "Compute similarity between two movies"
     ]
    },
    {
     "cell_type": "code",
     "collapsed": false,
     "input": [
      "movies[movies.Title == \"Toy Story (1995)\"]"
     ],
     "language": "python",
     "metadata": {},
     "outputs": []
    },
    {
     "cell_type": "code",
     "collapsed": false,
     "input": [
      "movies[movies.Title == \"Bug's Life, A (1998)\"]"
     ],
     "language": "python",
     "metadata": {},
     "outputs": []
    },
    {
     "cell_type": "code",
     "collapsed": false,
     "input": [
      "ITEMID1 = 1    # Toy Story (1995)\n",
      "ITEMID2 = 2355 # A bug's life (1998)\n",
      "print svd.similarity(ITEMID1, ITEMID2)\n",
      "# print svd2.similarity(ITEMID1, ITEMID2) to check"
     ],
     "language": "python",
     "metadata": {},
     "outputs": []
    },
    {
     "cell_type": "markdown",
     "metadata": {},
     "source": [
      "Get movies similar to Toy Story"
     ]
    },
    {
     "cell_type": "code",
     "collapsed": false,
     "input": [
      "svd.similar(ITEMID1)"
     ],
     "language": "python",
     "metadata": {},
     "outputs": []
    },
    {
     "cell_type": "markdown",
     "metadata": {},
     "source": [
      "Predict rating for a given user and movie, $\\hat{r}_{ui}$"
     ]
    },
    {
     "cell_type": "code",
     "collapsed": false,
     "input": [
      "MIN_RATING = 0.0\n",
      "MAX_RATING = 5.0\n",
      "ITEMID = 1\n",
      "USERID = 1\n",
      "svd.predict(ITEMID, USERID, MIN_RATING, MAX_RATING)"
     ],
     "language": "python",
     "metadata": {},
     "outputs": []
    },
    {
     "cell_type": "code",
     "collapsed": false,
     "input": [
      "svd.get_matrix().value(ITEMID, USERID)"
     ],
     "language": "python",
     "metadata": {},
     "outputs": []
    },
    {
     "cell_type": "markdown",
     "metadata": {},
     "source": [
      "Recommend non rated movies to a user"
     ]
    },
    {
     "cell_type": "code",
     "collapsed": false,
     "input": [
      "svd.recommend(USERID, is_row=False)"
     ],
     "language": "python",
     "metadata": {},
     "outputs": []
    },
    {
     "cell_type": "markdown",
     "metadata": {},
     "source": [
      "Which users should see Toy Story? (e.g. which users -that have not rated Toy Story- would give it a high rating?)"
     ]
    },
    {
     "cell_type": "code",
     "collapsed": false,
     "input": [
      "svd.recommend(ITEMID)"
     ],
     "language": "python",
     "metadata": {},
     "outputs": []
    },
    {
     "cell_type": "markdown",
     "metadata": {},
     "source": [
      "Find out more here: [https://github.com/ocelma/python-recsys](https://github.com/ocelma/python-recsys)"
     ]
    }
   ],
   "metadata": {}
  }
 ]
}