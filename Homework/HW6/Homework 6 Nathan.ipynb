{
 "metadata": {
  "name": "",
  "signature": "sha256:80d131f703dacdb4c2170a9c53d1b0da36637236c2274d2fc31c8b77d530b0bb"
 },
 "nbformat": 3,
 "nbformat_minor": 0,
 "worksheets": [
  {
   "cells": [
    {
     "cell_type": "heading",
     "level": 2,
     "metadata": {},
     "source": [
      "Analysis on Bank Dataset"
     ]
    },
    {
     "cell_type": "code",
     "collapsed": false,
     "input": [
      "import pandas as pd\n",
      "import numpy as np\n",
      "import pylab as pl\n",
      "from sklearn.cross_validation import train_test_split\n",
      "from sklearn.cross_validation import KFold\n",
      "from sklearn import tree\n",
      "\n",
      "pd.set_option('display.max_rows',100)\n",
      "pd.set_option('display.max_columns',60)"
     ],
     "language": "python",
     "metadata": {},
     "outputs": [],
     "prompt_number": 1
    },
    {
     "cell_type": "code",
     "collapsed": false,
     "input": [
      "def cross_validate(X, y, classifier, k_fold) :\n",
      "\n",
      "    # derive a set of (random) training and testing indices\n",
      "    k_fold_indices = KFold(len(X), n_folds=k_fold,\n",
      "                           shuffle=True, random_state=0)\n",
      "\n",
      "    k_score_total = 0\n",
      "    # for each training and testing slices run the classifier, and score the results\n",
      "    for train_slice, test_slice in k_fold_indices :\n",
      "\n",
      "        model = classifier(X[ train_slice  ],\n",
      "                         y[ train_slice  ])\n",
      "\n",
      "        k_score = model.score(X[ test_slice ],\n",
      "                              y[ test_slice ])\n",
      "\n",
      "        k_score_total += k_score\n",
      "\n",
      "    # return the average accuracy\n",
      "    return k_score_total/k_fold"
     ],
     "language": "python",
     "metadata": {},
     "outputs": [],
     "prompt_number": 2
    },
    {
     "cell_type": "code",
     "collapsed": false,
     "input": [
      "#Read in the data\n",
      "data = pd.read_csv('bank.csv',delimiter = ';')"
     ],
     "language": "python",
     "metadata": {},
     "outputs": [],
     "prompt_number": 3
    },
    {
     "cell_type": "code",
     "collapsed": false,
     "input": [
      "data.head()"
     ],
     "language": "python",
     "metadata": {},
     "outputs": [
      {
       "html": [
        "<div style=\"max-height:1000px;max-width:1500px;overflow:auto;\">\n",
        "<table border=\"1\" class=\"dataframe\">\n",
        "  <thead>\n",
        "    <tr style=\"text-align: right;\">\n",
        "      <th></th>\n",
        "      <th>age</th>\n",
        "      <th>job</th>\n",
        "      <th>marital</th>\n",
        "      <th>education</th>\n",
        "      <th>default</th>\n",
        "      <th>balance</th>\n",
        "      <th>housing</th>\n",
        "      <th>loan</th>\n",
        "      <th>contact</th>\n",
        "      <th>day</th>\n",
        "      <th>month</th>\n",
        "      <th>duration</th>\n",
        "      <th>campaign</th>\n",
        "      <th>pdays</th>\n",
        "      <th>previous</th>\n",
        "      <th>poutcome</th>\n",
        "      <th>y</th>\n",
        "    </tr>\n",
        "  </thead>\n",
        "  <tbody>\n",
        "    <tr>\n",
        "      <th>0</th>\n",
        "      <td> 30</td>\n",
        "      <td>  unemployed</td>\n",
        "      <td> married</td>\n",
        "      <td>   primary</td>\n",
        "      <td> no</td>\n",
        "      <td> 1787</td>\n",
        "      <td>  no</td>\n",
        "      <td>  no</td>\n",
        "      <td> cellular</td>\n",
        "      <td> 19</td>\n",
        "      <td> oct</td>\n",
        "      <td>  79</td>\n",
        "      <td> 1</td>\n",
        "      <td>  -1</td>\n",
        "      <td> 0</td>\n",
        "      <td> unknown</td>\n",
        "      <td> no</td>\n",
        "    </tr>\n",
        "    <tr>\n",
        "      <th>1</th>\n",
        "      <td> 33</td>\n",
        "      <td>    services</td>\n",
        "      <td> married</td>\n",
        "      <td> secondary</td>\n",
        "      <td> no</td>\n",
        "      <td> 4789</td>\n",
        "      <td> yes</td>\n",
        "      <td> yes</td>\n",
        "      <td> cellular</td>\n",
        "      <td> 11</td>\n",
        "      <td> may</td>\n",
        "      <td> 220</td>\n",
        "      <td> 1</td>\n",
        "      <td> 339</td>\n",
        "      <td> 4</td>\n",
        "      <td> failure</td>\n",
        "      <td> no</td>\n",
        "    </tr>\n",
        "    <tr>\n",
        "      <th>2</th>\n",
        "      <td> 35</td>\n",
        "      <td>  management</td>\n",
        "      <td>  single</td>\n",
        "      <td>  tertiary</td>\n",
        "      <td> no</td>\n",
        "      <td> 1350</td>\n",
        "      <td> yes</td>\n",
        "      <td>  no</td>\n",
        "      <td> cellular</td>\n",
        "      <td> 16</td>\n",
        "      <td> apr</td>\n",
        "      <td> 185</td>\n",
        "      <td> 1</td>\n",
        "      <td> 330</td>\n",
        "      <td> 1</td>\n",
        "      <td> failure</td>\n",
        "      <td> no</td>\n",
        "    </tr>\n",
        "    <tr>\n",
        "      <th>3</th>\n",
        "      <td> 30</td>\n",
        "      <td>  management</td>\n",
        "      <td> married</td>\n",
        "      <td>  tertiary</td>\n",
        "      <td> no</td>\n",
        "      <td> 1476</td>\n",
        "      <td> yes</td>\n",
        "      <td> yes</td>\n",
        "      <td>  unknown</td>\n",
        "      <td>  3</td>\n",
        "      <td> jun</td>\n",
        "      <td> 199</td>\n",
        "      <td> 4</td>\n",
        "      <td>  -1</td>\n",
        "      <td> 0</td>\n",
        "      <td> unknown</td>\n",
        "      <td> no</td>\n",
        "    </tr>\n",
        "    <tr>\n",
        "      <th>4</th>\n",
        "      <td> 59</td>\n",
        "      <td> blue-collar</td>\n",
        "      <td> married</td>\n",
        "      <td> secondary</td>\n",
        "      <td> no</td>\n",
        "      <td>    0</td>\n",
        "      <td> yes</td>\n",
        "      <td>  no</td>\n",
        "      <td>  unknown</td>\n",
        "      <td>  5</td>\n",
        "      <td> may</td>\n",
        "      <td> 226</td>\n",
        "      <td> 1</td>\n",
        "      <td>  -1</td>\n",
        "      <td> 0</td>\n",
        "      <td> unknown</td>\n",
        "      <td> no</td>\n",
        "    </tr>\n",
        "  </tbody>\n",
        "</table>\n",
        "</div>"
       ],
       "metadata": {},
       "output_type": "pyout",
       "prompt_number": 4,
       "text": [
        "   age          job  marital  education default  balance housing loan  \\\n",
        "0   30   unemployed  married    primary      no     1787      no   no   \n",
        "1   33     services  married  secondary      no     4789     yes  yes   \n",
        "2   35   management   single   tertiary      no     1350     yes   no   \n",
        "3   30   management  married   tertiary      no     1476     yes  yes   \n",
        "4   59  blue-collar  married  secondary      no        0     yes   no   \n",
        "\n",
        "    contact  day month  duration  campaign  pdays  previous poutcome   y  \n",
        "0  cellular   19   oct        79         1     -1         0  unknown  no  \n",
        "1  cellular   11   may       220         1    339         4  failure  no  \n",
        "2  cellular   16   apr       185         1    330         1  failure  no  \n",
        "3   unknown    3   jun       199         4     -1         0  unknown  no  \n",
        "4   unknown    5   may       226         1     -1         0  unknown  no  "
       ]
      }
     ],
     "prompt_number": 4
    },
    {
     "cell_type": "code",
     "collapsed": false,
     "input": [
      "for i in data.columns:\n",
      "    print \"Summary for:\", i\n",
      "    print data[i].describe()\n",
      "    print \"\\n\""
     ],
     "language": "python",
     "metadata": {},
     "outputs": [
      {
       "output_type": "stream",
       "stream": "stdout",
       "text": [
        "Summary for: age\n",
        "count    4521.000000\n",
        "mean       41.170095\n",
        "std        10.576211\n",
        "min        19.000000\n",
        "25%        33.000000\n",
        "50%        39.000000\n",
        "75%        49.000000\n",
        "max        87.000000\n",
        "dtype: float64\n",
        "\n",
        "\n",
        "Summary for: job\n",
        "count           4521\n",
        "unique            12\n",
        "top       management\n",
        "freq             969\n",
        "dtype: object\n",
        "\n",
        "\n",
        "Summary for: marital\n",
        "count        4521\n",
        "unique          3\n",
        "top       married\n",
        "freq         2797\n",
        "dtype: object\n",
        "\n",
        "\n",
        "Summary for: education\n",
        "count          4521\n",
        "unique            4\n",
        "top       secondary\n",
        "freq           2306\n",
        "dtype: object\n",
        "\n",
        "\n",
        "Summary for: default\n",
        "count     4521\n",
        "unique       2\n",
        "top         no\n",
        "freq      4445\n",
        "dtype: object\n",
        "\n",
        "\n",
        "Summary for: balance\n",
        "count     4521.000000\n",
        "mean      1422.657819\n",
        "std       3009.638142\n",
        "min      -3313.000000\n",
        "25%         69.000000\n",
        "50%        444.000000\n",
        "75%       1480.000000\n",
        "max      71188.000000\n",
        "dtype: float64\n",
        "\n",
        "\n",
        "Summary for: housing\n",
        "count     4521\n",
        "unique       2\n",
        "top        yes\n",
        "freq      2559\n",
        "dtype: object\n",
        "\n",
        "\n",
        "Summary for: loan\n",
        "count     4521\n",
        "unique       2\n",
        "top         no\n",
        "freq      3830\n",
        "dtype: object\n",
        "\n",
        "\n",
        "Summary for: contact\n",
        "count         4521\n",
        "unique           3\n",
        "top       cellular\n",
        "freq          2896\n",
        "dtype: object\n",
        "\n",
        "\n",
        "Summary for: day\n",
        "count    4521.000000\n",
        "mean       15.915284\n",
        "std         8.247667\n",
        "min         1.000000\n",
        "25%         9.000000\n",
        "50%        16.000000\n",
        "75%        21.000000\n",
        "max        31.000000\n",
        "dtype: float64\n",
        "\n",
        "\n",
        "Summary for: month\n",
        "count     4521\n",
        "unique      12\n",
        "top        may\n",
        "freq      1398\n",
        "dtype: object\n",
        "\n",
        "\n",
        "Summary for: duration\n",
        "count    4521.000000\n",
        "mean      263.961292\n",
        "std       259.856633\n",
        "min         4.000000\n",
        "25%       104.000000\n",
        "50%       185.000000\n",
        "75%       329.000000\n",
        "max      3025.000000\n",
        "dtype: float64\n",
        "\n",
        "\n",
        "Summary for: campaign\n",
        "count    4521.000000\n",
        "mean        2.793630\n",
        "std         3.109807\n",
        "min         1.000000\n",
        "25%         1.000000\n",
        "50%         2.000000\n",
        "75%         3.000000\n",
        "max        50.000000\n",
        "dtype: float64\n",
        "\n",
        "\n",
        "Summary for: pdays\n",
        "count    4521.000000\n",
        "mean       39.766645\n",
        "std       100.121124\n",
        "min        -1.000000\n",
        "25%        -1.000000\n",
        "50%        -1.000000\n",
        "75%        -1.000000\n",
        "max       871.000000\n",
        "dtype: float64\n",
        "\n",
        "\n",
        "Summary for: previous\n",
        "count    4521.000000\n",
        "mean        0.542579\n",
        "std         1.693562\n",
        "min         0.000000\n",
        "25%         0.000000\n",
        "50%         0.000000\n",
        "75%         0.000000\n",
        "max        25.000000\n",
        "dtype: float64\n",
        "\n",
        "\n",
        "Summary for: poutcome\n",
        "count        4521\n",
        "unique          4\n",
        "top       unknown\n",
        "freq         3705\n",
        "dtype: object\n",
        "\n",
        "\n",
        "Summary for: y\n",
        "count     4521\n",
        "unique       2\n",
        "top         no\n",
        "freq      4000\n",
        "dtype: object\n",
        "\n",
        "\n"
       ]
      }
     ],
     "prompt_number": 5
    },
    {
     "cell_type": "code",
     "collapsed": false,
     "input": [
      "data.info()"
     ],
     "language": "python",
     "metadata": {},
     "outputs": [
      {
       "output_type": "stream",
       "stream": "stdout",
       "text": [
        "<class 'pandas.core.frame.DataFrame'>\n",
        "Int64Index: 4521 entries, 0 to 4520\n",
        "Data columns (total 17 columns):\n",
        "age          4521 non-null int64\n",
        "job          4521 non-null object\n",
        "marital      4521 non-null object\n",
        "education    4521 non-null object\n",
        "default      4521 non-null object\n",
        "balance      4521 non-null int64\n",
        "housing      4521 non-null object\n",
        "loan         4521 non-null object\n",
        "contact      4521 non-null object\n",
        "day          4521 non-null int64\n",
        "month        4521 non-null object\n",
        "duration     4521 non-null int64\n",
        "campaign     4521 non-null int64\n",
        "pdays        4521 non-null int64\n",
        "previous     4521 non-null int64\n",
        "poutcome     4521 non-null object\n",
        "y            4521 non-null object\n",
        "dtypes: int64(7), object(10)"
       ]
      }
     ],
     "prompt_number": 6
    },
    {
     "cell_type": "markdown",
     "metadata": {},
     "source": [
      "After exploring the data it is apparent that there are different data types within. Different data types like strings for job and education, continuous values for age or balance, and column y which can serve to be transformed into a binary classification."
     ]
    },
    {
     "cell_type": "code",
     "collapsed": false,
     "input": [
      "#Create two data frames for numeric and class labels\n",
      "data_c = data[['job','marital','education','default','housing','loan','contact','month','poutcome','y']]\n",
      "data_int = data_int = data[['age','balance','day','duration','campaign','pdays','previous']]"
     ],
     "language": "python",
     "metadata": {},
     "outputs": [],
     "prompt_number": 7
    },
    {
     "cell_type": "code",
     "collapsed": false,
     "input": [
      "#Create a list of dictionaries. Each dictionary in the list corresponds \n",
      "#to a key value pair for each colun in data_c\n",
      "lod = []\n",
      "for i in data_c.columns:\n",
      "   dc = dict(list(enumerate(data_c[i].unique())))\n",
      "   lod.append({y:x for x,y in dc.iteritems()})\n",
      "lod"
     ],
     "language": "python",
     "metadata": {},
     "outputs": [
      {
       "metadata": {},
       "output_type": "pyout",
       "prompt_number": 8,
       "text": [
        "[{'admin.': 7,\n",
        "  'blue-collar': 3,\n",
        "  'entrepreneur': 6,\n",
        "  'housemaid': 9,\n",
        "  'management': 2,\n",
        "  'retired': 10,\n",
        "  'self-employed': 4,\n",
        "  'services': 1,\n",
        "  'student': 8,\n",
        "  'technician': 5,\n",
        "  'unemployed': 0,\n",
        "  'unknown': 11},\n",
        " {'divorced': 2, 'married': 0, 'single': 1},\n",
        " {'primary': 0, 'secondary': 1, 'tertiary': 2, 'unknown': 3},\n",
        " {'no': 0, 'yes': 1},\n",
        " {'no': 0, 'yes': 1},\n",
        " {'no': 0, 'yes': 1},\n",
        " {'cellular': 0, 'telephone': 2, 'unknown': 1},\n",
        " {'apr': 2,\n",
        "  'aug': 5,\n",
        "  'dec': 11,\n",
        "  'feb': 4,\n",
        "  'jan': 6,\n",
        "  'jul': 7,\n",
        "  'jun': 3,\n",
        "  'mar': 10,\n",
        "  'may': 1,\n",
        "  'nov': 8,\n",
        "  'oct': 0,\n",
        "  'sep': 9},\n",
        " {'failure': 1, 'other': 2, 'success': 3, 'unknown': 0},\n",
        " {'no': 0, 'yes': 1}]"
       ]
      }
     ],
     "prompt_number": 8
    },
    {
     "cell_type": "code",
     "collapsed": false,
     "input": [
      "#Replace columns in data_c with dictionary values to assign a  number\n",
      "#for each unique key\n",
      "for i in range(0,len(data_c.columns)):\n",
      "    data_c.ix[:,i].replace(lod[i], inplace = True)\n",
      "data_c.head()"
     ],
     "language": "python",
     "metadata": {},
     "outputs": [
      {
       "html": [
        "<div style=\"max-height:1000px;max-width:1500px;overflow:auto;\">\n",
        "<table border=\"1\" class=\"dataframe\">\n",
        "  <thead>\n",
        "    <tr style=\"text-align: right;\">\n",
        "      <th></th>\n",
        "      <th>job</th>\n",
        "      <th>marital</th>\n",
        "      <th>education</th>\n",
        "      <th>default</th>\n",
        "      <th>housing</th>\n",
        "      <th>loan</th>\n",
        "      <th>contact</th>\n",
        "      <th>month</th>\n",
        "      <th>poutcome</th>\n",
        "      <th>y</th>\n",
        "    </tr>\n",
        "  </thead>\n",
        "  <tbody>\n",
        "    <tr>\n",
        "      <th>0</th>\n",
        "      <td> 0</td>\n",
        "      <td> 0</td>\n",
        "      <td> 0</td>\n",
        "      <td> 0</td>\n",
        "      <td> 0</td>\n",
        "      <td> 0</td>\n",
        "      <td> 0</td>\n",
        "      <td> 0</td>\n",
        "      <td> 0</td>\n",
        "      <td> 0</td>\n",
        "    </tr>\n",
        "    <tr>\n",
        "      <th>1</th>\n",
        "      <td> 1</td>\n",
        "      <td> 0</td>\n",
        "      <td> 1</td>\n",
        "      <td> 0</td>\n",
        "      <td> 1</td>\n",
        "      <td> 1</td>\n",
        "      <td> 0</td>\n",
        "      <td> 1</td>\n",
        "      <td> 1</td>\n",
        "      <td> 0</td>\n",
        "    </tr>\n",
        "    <tr>\n",
        "      <th>2</th>\n",
        "      <td> 2</td>\n",
        "      <td> 1</td>\n",
        "      <td> 2</td>\n",
        "      <td> 0</td>\n",
        "      <td> 1</td>\n",
        "      <td> 0</td>\n",
        "      <td> 0</td>\n",
        "      <td> 2</td>\n",
        "      <td> 1</td>\n",
        "      <td> 0</td>\n",
        "    </tr>\n",
        "    <tr>\n",
        "      <th>3</th>\n",
        "      <td> 2</td>\n",
        "      <td> 0</td>\n",
        "      <td> 2</td>\n",
        "      <td> 0</td>\n",
        "      <td> 1</td>\n",
        "      <td> 1</td>\n",
        "      <td> 1</td>\n",
        "      <td> 3</td>\n",
        "      <td> 0</td>\n",
        "      <td> 0</td>\n",
        "    </tr>\n",
        "    <tr>\n",
        "      <th>4</th>\n",
        "      <td> 3</td>\n",
        "      <td> 0</td>\n",
        "      <td> 1</td>\n",
        "      <td> 0</td>\n",
        "      <td> 1</td>\n",
        "      <td> 0</td>\n",
        "      <td> 1</td>\n",
        "      <td> 1</td>\n",
        "      <td> 0</td>\n",
        "      <td> 0</td>\n",
        "    </tr>\n",
        "  </tbody>\n",
        "</table>\n",
        "</div>"
       ],
       "metadata": {},
       "output_type": "pyout",
       "prompt_number": 9,
       "text": [
        "   job  marital  education  default  housing  loan  contact  month  poutcome  \\\n",
        "0    0        0          0        0        0     0        0      0         0   \n",
        "1    1        0          1        0        1     1        0      1         1   \n",
        "2    2        1          2        0        1     0        0      2         1   \n",
        "3    2        0          2        0        1     1        1      3         0   \n",
        "4    3        0          1        0        1     0        1      1         0   \n",
        "\n",
        "   y  \n",
        "0  0  \n",
        "1  0  \n",
        "2  0  \n",
        "3  0  \n",
        "4  0  "
       ]
      }
     ],
     "prompt_number": 9
    },
    {
     "cell_type": "code",
     "collapsed": false,
     "input": [
      "#Implement OneHotEncoder\n",
      "from sklearn.preprocessing import OneHotEncoder\n",
      "enc = OneHotEncoder()\n",
      "#Create data_c without classifier information y\n",
      "to_enc = data_c.ix[:,:-1]\n",
      "#fit encoder with data\n",
      "enc.fit(to_enc)\n",
      "print \"Encoder Values\", enc.n_values_\n",
      "print \"Encoder Indicies\", enc.feature_indices_"
     ],
     "language": "python",
     "metadata": {},
     "outputs": [
      {
       "output_type": "stream",
       "stream": "stdout",
       "text": [
        "Encoder Values [12  3  4  2  2  2  3 12  4]\n",
        "Encoder Indicies [ 0 12 15 19 21 23 25 28 40 44]\n"
       ]
      }
     ],
     "prompt_number": 10
    },
    {
     "cell_type": "code",
     "collapsed": false,
     "input": [
      "#Create a list of encoder values for each row in to_enc(to encode)\n",
      "enc_list = []\n",
      "for i in np.array(to_enc):\n",
      "    enc_list.append(enc.transform([list(i)]).toarray())\n",
      "\n",
      "print \"Example of first element of enc_list:\"\n",
      "print enc_list[0]"
     ],
     "language": "python",
     "metadata": {},
     "outputs": [
      {
       "output_type": "stream",
       "stream": "stdout",
       "text": [
        "Example of first element of enc_list:\n",
        "[[ 1.  0.  0.  0.  0.  0.  0.  0.  0.  0.  0.  0.  1.  0.  0.  1.  0.  0.\n",
        "   0.  1.  0.  1.  0.  1.  0.  1.  0.  0.  1.  0.  0.  0.  0.  0.  0.  0.\n",
        "   0.  0.  0.  0.  1.  0.  0.  0.]]\n"
       ]
      }
     ],
     "prompt_number": 11
    },
    {
     "cell_type": "code",
     "collapsed": false,
     "input": [
      "#Merge enc_list with the rest of the numeric data\n",
      "#Create np array of remaining data \n",
      "np_data_int = np.array(data_int)\n",
      "\n",
      "#Create a list of merged values np_data_int + encoded binary labelled data\n",
      "pl = []\n",
      "for i in range(0,len(enc_list)):\n",
      "     pl.append(np.concatenate((np_data_int[i],enc_list[i][0].astype(int))))"
     ],
     "language": "python",
     "metadata": {},
     "outputs": [],
     "prompt_number": 12
    },
    {
     "cell_type": "code",
     "collapsed": false,
     "input": [
      "print \"Example of first entry of the list:\"\n",
      "pl[0]"
     ],
     "language": "python",
     "metadata": {},
     "outputs": [
      {
       "output_type": "stream",
       "stream": "stdout",
       "text": [
        "Example of first entry of the list:\n"
       ]
      },
      {
       "metadata": {},
       "output_type": "pyout",
       "prompt_number": 13,
       "text": [
        "array([  30, 1787,   19,   79,    1,   -1,    0,    1,    0,    0,    0,\n",
        "          0,    0,    0,    0,    0,    0,    0,    0,    1,    0,    0,\n",
        "          1,    0,    0,    0,    1,    0,    1,    0,    1,    0,    1,\n",
        "          0,    0,    1,    0,    0,    0,    0,    0,    0,    0,    0,\n",
        "          0,    0,    0,    1,    0,    0,    0])"
       ]
      }
     ],
     "prompt_number": 13
    },
    {
     "cell_type": "code",
     "collapsed": false,
     "input": [
      "#Create array forms of training&target data\n",
      "X = np.array([list(x) for x in pl])\n",
      "y = np.array(data_c.y.replace({'no': 0,'yes':1}))"
     ],
     "language": "python",
     "metadata": {},
     "outputs": [],
     "prompt_number": 14
    },
    {
     "cell_type": "code",
     "collapsed": false,
     "input": [
      "#train_feat, test_feat, train_target, test_target = train_test_split(features,target , train_size=0.5)"
     ],
     "language": "python",
     "metadata": {},
     "outputs": [],
     "prompt_number": 15
    },
    {
     "cell_type": "code",
     "collapsed": false,
     "input": [
      "#Cross validation for Deciscion Tree Classifier\n",
      "model = tree.DecisionTreeClassifier(random_state=0).fit\n",
      "\n",
      "for i in range(10,26):\n",
      "    print \"Cross validation score on\",i,\"folds:\"\n",
      "    print cross_validate(X,y,model,i)\n"
     ],
     "language": "python",
     "metadata": {},
     "outputs": [
      {
       "output_type": "stream",
       "stream": "stdout",
       "text": [
        "Cross validation score on 10 folds:\n",
        "0.877455605697"
       ]
      },
      {
       "output_type": "stream",
       "stream": "stdout",
       "text": [
        "\n",
        "Cross validation score on 11 folds:\n",
        "0.872373368724"
       ]
      },
      {
       "output_type": "stream",
       "stream": "stdout",
       "text": [
        "\n",
        "Cross validation score on 12 folds:\n",
        "0.873258695938"
       ]
      },
      {
       "output_type": "stream",
       "stream": "stdout",
       "text": [
        "\n",
        "Cross validation score on 13 folds:\n",
        "0.873486776895"
       ]
      },
      {
       "output_type": "stream",
       "stream": "stdout",
       "text": [
        "\n",
        "Cross validation score on 14 folds:\n",
        "0.871495737883"
       ]
      },
      {
       "output_type": "stream",
       "stream": "stdout",
       "text": [
        "\n",
        "Cross validation score on 15 folds:\n",
        "0.873037630268"
       ]
      },
      {
       "output_type": "stream",
       "stream": "stdout",
       "text": [
        "\n",
        "Cross validation score on 16 folds:\n",
        "0.870821116207"
       ]
      },
      {
       "output_type": "stream",
       "stream": "stdout",
       "text": [
        "\n",
        "Cross validation score on 17 folds:\n",
        "0.874808274849"
       ]
      },
      {
       "output_type": "stream",
       "stream": "stdout",
       "text": [
        "\n",
        "Cross validation score on 18 folds:\n",
        "0.879666519109"
       ]
      },
      {
       "output_type": "stream",
       "stream": "stdout",
       "text": [
        "\n",
        "Cross validation score on 19 folds:\n",
        "0.872375465843"
       ]
      },
      {
       "output_type": "stream",
       "stream": "stdout",
       "text": [
        "\n",
        "Cross validation score on 20 folds:\n",
        "0.880338973139"
       ]
      },
      {
       "output_type": "stream",
       "stream": "stdout",
       "text": [
        "\n",
        "Cross validation score on 21 folds:\n",
        "0.873256839342"
       ]
      },
      {
       "output_type": "stream",
       "stream": "stdout",
       "text": [
        "\n",
        "Cross validation score on 22 folds:\n",
        "0.875250252944"
       ]
      },
      {
       "output_type": "stream",
       "stream": "stdout",
       "text": [
        "\n",
        "Cross validation score on 23 folds:\n",
        "0.877241362226"
       ]
      },
      {
       "output_type": "stream",
       "stream": "stdout",
       "text": [
        "\n",
        "Cross validation score on 24 folds:\n",
        "0.873269165822"
       ]
      },
      {
       "output_type": "stream",
       "stream": "stdout",
       "text": [
        "\n",
        "Cross validation score on 25 folds:\n",
        "0.875260896255"
       ]
      },
      {
       "output_type": "stream",
       "stream": "stdout",
       "text": [
        "\n"
       ]
      }
     ],
     "prompt_number": 16
    },
    {
     "cell_type": "heading",
     "level": 2,
     "metadata": {},
     "source": [
      "Analysis on additional full dataset"
     ]
    },
    {
     "cell_type": "code",
     "collapsed": false,
     "input": [
      "#Create two data frames for numeric and class labels\n",
      "data2 = pd.read_csv('bank-additional-full.csv',delimiter=';')\n",
      "data2.info()\n",
      "data2_c = data2[['job','marital','education','default','housing','loan','contact','month','day_of_week','poutcome','y']]\n",
      "data2_int = data2[['age','duration','campaign','pdays','previous','emp.var.rate','cons.price.idx','cons.conf.idx','euribor3m','nr.employed']]\n",
      "data2_int.head()"
     ],
     "language": "python",
     "metadata": {},
     "outputs": [
      {
       "output_type": "stream",
       "stream": "stdout",
       "text": [
        "<class 'pandas.core.frame.DataFrame'>\n",
        "Int64Index: 41188 entries, 0 to 41187\n",
        "Data columns (total 21 columns):\n",
        "age               41188 non-null int64\n",
        "job               41188 non-null object\n",
        "marital           41188 non-null object\n",
        "education         41188 non-null object\n",
        "default           41188 non-null object\n",
        "housing           41188 non-null object\n",
        "loan              41188 non-null object\n",
        "contact           41188 non-null object\n",
        "month             41188 non-null object\n",
        "day_of_week       41188 non-null object\n",
        "duration          41188 non-null int64\n",
        "campaign          41188 non-null int64\n",
        "pdays             41188 non-null int64\n",
        "previous          41188 non-null int64\n",
        "poutcome          41188 non-null object\n",
        "emp.var.rate      41188 non-null float64\n",
        "cons.price.idx    41188 non-null float64\n",
        "cons.conf.idx     41188 non-null float64\n",
        "euribor3m         41188 non-null float64\n",
        "nr.employed       41188 non-null float64\n",
        "y                 41188 non-null object\n",
        "dtypes: float64(5), int64(5), object(11)"
       ]
      },
      {
       "html": [
        "<div style=\"max-height:1000px;max-width:1500px;overflow:auto;\">\n",
        "<table border=\"1\" class=\"dataframe\">\n",
        "  <thead>\n",
        "    <tr style=\"text-align: right;\">\n",
        "      <th></th>\n",
        "      <th>age</th>\n",
        "      <th>duration</th>\n",
        "      <th>campaign</th>\n",
        "      <th>pdays</th>\n",
        "      <th>previous</th>\n",
        "      <th>emp.var.rate</th>\n",
        "      <th>cons.price.idx</th>\n",
        "      <th>cons.conf.idx</th>\n",
        "      <th>euribor3m</th>\n",
        "      <th>nr.employed</th>\n",
        "    </tr>\n",
        "  </thead>\n",
        "  <tbody>\n",
        "    <tr>\n",
        "      <th>0</th>\n",
        "      <td> 56</td>\n",
        "      <td> 261</td>\n",
        "      <td> 1</td>\n",
        "      <td> 999</td>\n",
        "      <td> 0</td>\n",
        "      <td> 1.1</td>\n",
        "      <td> 93.994</td>\n",
        "      <td>-36.4</td>\n",
        "      <td> 4.857</td>\n",
        "      <td> 5191</td>\n",
        "    </tr>\n",
        "    <tr>\n",
        "      <th>1</th>\n",
        "      <td> 57</td>\n",
        "      <td> 149</td>\n",
        "      <td> 1</td>\n",
        "      <td> 999</td>\n",
        "      <td> 0</td>\n",
        "      <td> 1.1</td>\n",
        "      <td> 93.994</td>\n",
        "      <td>-36.4</td>\n",
        "      <td> 4.857</td>\n",
        "      <td> 5191</td>\n",
        "    </tr>\n",
        "    <tr>\n",
        "      <th>2</th>\n",
        "      <td> 37</td>\n",
        "      <td> 226</td>\n",
        "      <td> 1</td>\n",
        "      <td> 999</td>\n",
        "      <td> 0</td>\n",
        "      <td> 1.1</td>\n",
        "      <td> 93.994</td>\n",
        "      <td>-36.4</td>\n",
        "      <td> 4.857</td>\n",
        "      <td> 5191</td>\n",
        "    </tr>\n",
        "    <tr>\n",
        "      <th>3</th>\n",
        "      <td> 40</td>\n",
        "      <td> 151</td>\n",
        "      <td> 1</td>\n",
        "      <td> 999</td>\n",
        "      <td> 0</td>\n",
        "      <td> 1.1</td>\n",
        "      <td> 93.994</td>\n",
        "      <td>-36.4</td>\n",
        "      <td> 4.857</td>\n",
        "      <td> 5191</td>\n",
        "    </tr>\n",
        "    <tr>\n",
        "      <th>4</th>\n",
        "      <td> 56</td>\n",
        "      <td> 307</td>\n",
        "      <td> 1</td>\n",
        "      <td> 999</td>\n",
        "      <td> 0</td>\n",
        "      <td> 1.1</td>\n",
        "      <td> 93.994</td>\n",
        "      <td>-36.4</td>\n",
        "      <td> 4.857</td>\n",
        "      <td> 5191</td>\n",
        "    </tr>\n",
        "  </tbody>\n",
        "</table>\n",
        "</div>"
       ],
       "metadata": {},
       "output_type": "pyout",
       "prompt_number": 17,
       "text": [
        "   age  duration  campaign  pdays  previous  emp.var.rate  cons.price.idx  \\\n",
        "0   56       261         1    999         0           1.1          93.994   \n",
        "1   57       149         1    999         0           1.1          93.994   \n",
        "2   37       226         1    999         0           1.1          93.994   \n",
        "3   40       151         1    999         0           1.1          93.994   \n",
        "4   56       307         1    999         0           1.1          93.994   \n",
        "\n",
        "   cons.conf.idx  euribor3m  nr.employed  \n",
        "0          -36.4      4.857         5191  \n",
        "1          -36.4      4.857         5191  \n",
        "2          -36.4      4.857         5191  \n",
        "3          -36.4      4.857         5191  \n",
        "4          -36.4      4.857         5191  "
       ]
      }
     ],
     "prompt_number": 17
    },
    {
     "cell_type": "code",
     "collapsed": false,
     "input": [
      "#Create a list of dictionaries. Each dictionary in the list corresponds \n",
      "#to a key value pair for each colun in data_c\n",
      "lod2 = []\n",
      "for i in data2_c.columns:\n",
      "   dc = dict(list(enumerate(data2_c[i].unique())))\n",
      "   lod2.append({y:x for x,y in dc.iteritems()})\n",
      "lod2"
     ],
     "language": "python",
     "metadata": {},
     "outputs": [
      {
       "metadata": {},
       "output_type": "pyout",
       "prompt_number": 18,
       "text": [
        "[{'admin.': 2,\n",
        "  'blue-collar': 3,\n",
        "  'entrepreneur': 10,\n",
        "  'housemaid': 0,\n",
        "  'management': 6,\n",
        "  'retired': 5,\n",
        "  'self-employed': 8,\n",
        "  'services': 1,\n",
        "  'student': 11,\n",
        "  'technician': 4,\n",
        "  'unemployed': 7,\n",
        "  'unknown': 9},\n",
        " {'divorced': 2, 'married': 0, 'single': 1, 'unknown': 3},\n",
        " {'basic.4y': 0,\n",
        "  'basic.6y': 2,\n",
        "  'basic.9y': 3,\n",
        "  'high.school': 1,\n",
        "  'illiterate': 7,\n",
        "  'professional.course': 4,\n",
        "  'university.degree': 6,\n",
        "  'unknown': 5},\n",
        " {'no': 0, 'unknown': 1, 'yes': 2},\n",
        " {'no': 0, 'unknown': 2, 'yes': 1},\n",
        " {'no': 0, 'unknown': 2, 'yes': 1},\n",
        " {'cellular': 1, 'telephone': 0},\n",
        " {'apr': 8,\n",
        "  'aug': 3,\n",
        "  'dec': 6,\n",
        "  'jul': 2,\n",
        "  'jun': 1,\n",
        "  'mar': 7,\n",
        "  'may': 0,\n",
        "  'nov': 5,\n",
        "  'oct': 4,\n",
        "  'sep': 9},\n",
        " {'fri': 4, 'mon': 0, 'thu': 3, 'tue': 1, 'wed': 2},\n",
        " {'failure': 1, 'nonexistent': 0, 'success': 2},\n",
        " {'no': 0, 'yes': 1}]"
       ]
      }
     ],
     "prompt_number": 18
    },
    {
     "cell_type": "code",
     "collapsed": false,
     "input": [
      "#Replace columns in data2_c with dictionary values to assign a  number\n",
      "#for each unique key\n",
      "for i in range(0,len(data2_c.columns)):\n",
      "    data2_c.ix[:,i].replace(lod2[i], inplace = True)\n",
      "data2_c.head()"
     ],
     "language": "python",
     "metadata": {},
     "outputs": [
      {
       "html": [
        "<div style=\"max-height:1000px;max-width:1500px;overflow:auto;\">\n",
        "<table border=\"1\" class=\"dataframe\">\n",
        "  <thead>\n",
        "    <tr style=\"text-align: right;\">\n",
        "      <th></th>\n",
        "      <th>job</th>\n",
        "      <th>marital</th>\n",
        "      <th>education</th>\n",
        "      <th>default</th>\n",
        "      <th>housing</th>\n",
        "      <th>loan</th>\n",
        "      <th>contact</th>\n",
        "      <th>month</th>\n",
        "      <th>day_of_week</th>\n",
        "      <th>poutcome</th>\n",
        "      <th>y</th>\n",
        "    </tr>\n",
        "  </thead>\n",
        "  <tbody>\n",
        "    <tr>\n",
        "      <th>0</th>\n",
        "      <td> 0</td>\n",
        "      <td> 0</td>\n",
        "      <td> 0</td>\n",
        "      <td> 0</td>\n",
        "      <td> 0</td>\n",
        "      <td> 0</td>\n",
        "      <td> 0</td>\n",
        "      <td> 0</td>\n",
        "      <td> 0</td>\n",
        "      <td> 0</td>\n",
        "      <td> 0</td>\n",
        "    </tr>\n",
        "    <tr>\n",
        "      <th>1</th>\n",
        "      <td> 1</td>\n",
        "      <td> 0</td>\n",
        "      <td> 1</td>\n",
        "      <td> 1</td>\n",
        "      <td> 0</td>\n",
        "      <td> 0</td>\n",
        "      <td> 0</td>\n",
        "      <td> 0</td>\n",
        "      <td> 0</td>\n",
        "      <td> 0</td>\n",
        "      <td> 0</td>\n",
        "    </tr>\n",
        "    <tr>\n",
        "      <th>2</th>\n",
        "      <td> 1</td>\n",
        "      <td> 0</td>\n",
        "      <td> 1</td>\n",
        "      <td> 0</td>\n",
        "      <td> 1</td>\n",
        "      <td> 0</td>\n",
        "      <td> 0</td>\n",
        "      <td> 0</td>\n",
        "      <td> 0</td>\n",
        "      <td> 0</td>\n",
        "      <td> 0</td>\n",
        "    </tr>\n",
        "    <tr>\n",
        "      <th>3</th>\n",
        "      <td> 2</td>\n",
        "      <td> 0</td>\n",
        "      <td> 2</td>\n",
        "      <td> 0</td>\n",
        "      <td> 0</td>\n",
        "      <td> 0</td>\n",
        "      <td> 0</td>\n",
        "      <td> 0</td>\n",
        "      <td> 0</td>\n",
        "      <td> 0</td>\n",
        "      <td> 0</td>\n",
        "    </tr>\n",
        "    <tr>\n",
        "      <th>4</th>\n",
        "      <td> 1</td>\n",
        "      <td> 0</td>\n",
        "      <td> 1</td>\n",
        "      <td> 0</td>\n",
        "      <td> 0</td>\n",
        "      <td> 1</td>\n",
        "      <td> 0</td>\n",
        "      <td> 0</td>\n",
        "      <td> 0</td>\n",
        "      <td> 0</td>\n",
        "      <td> 0</td>\n",
        "    </tr>\n",
        "  </tbody>\n",
        "</table>\n",
        "</div>"
       ],
       "metadata": {},
       "output_type": "pyout",
       "prompt_number": 19,
       "text": [
        "   job  marital  education  default  housing  loan  contact  month  \\\n",
        "0    0        0          0        0        0     0        0      0   \n",
        "1    1        0          1        1        0     0        0      0   \n",
        "2    1        0          1        0        1     0        0      0   \n",
        "3    2        0          2        0        0     0        0      0   \n",
        "4    1        0          1        0        0     1        0      0   \n",
        "\n",
        "   day_of_week  poutcome  y  \n",
        "0            0         0  0  \n",
        "1            0         0  0  \n",
        "2            0         0  0  \n",
        "3            0         0  0  \n",
        "4            0         0  0  "
       ]
      }
     ],
     "prompt_number": 19
    },
    {
     "cell_type": "code",
     "collapsed": false,
     "input": [
      "#Implement OneHotEncoder\n",
      "from sklearn.preprocessing import OneHotEncoder\n",
      "enc = OneHotEncoder()\n",
      "#Create data_c without classifier information y\n",
      "to_enc = data2_c.ix[:,:-1]\n",
      "#fit encoder with data\n",
      "enc.fit(to_enc)\n",
      "print \"Encoder Values\", enc.n_values_\n",
      "print \"Encoder Indicies\", enc.feature_indices_"
     ],
     "language": "python",
     "metadata": {},
     "outputs": [
      {
       "output_type": "stream",
       "stream": "stdout",
       "text": [
        "Encoder Values [12  4  8  3  3  3  2 10  5  3]\n",
        "Encoder Indicies [ 0 12 16 24 27 30 33 35 45 50 53]\n"
       ]
      }
     ],
     "prompt_number": 22
    },
    {
     "cell_type": "code",
     "collapsed": false,
     "input": [
      "#Create a list of encoder values for each row in to_enc(to encode)\n",
      "enc_list = []\n",
      "for i in np.array(to_enc):\n",
      "    enc_list.append(enc.transform([list(i)]).toarray())\n",
      "\n",
      "print \"Example of first element of enc_list:\"\n",
      "print enc_list[0]"
     ],
     "language": "python",
     "metadata": {},
     "outputs": [
      {
       "output_type": "stream",
       "stream": "stdout",
       "text": [
        "Example of first element of enc_list:\n",
        "[[ 1.  0.  0.  0.  0.  0.  0.  0.  0.  0.  0.  0.  1.  0.  0.  0.  1.  0.\n",
        "   0.  0.  0.  0.  0.  0.  1.  0.  0.  1.  0.  0.  1.  0.  0.  1.  0.  1.\n",
        "   0.  0.  0.  0.  0.  0.  0.  0.  0.  1.  0.  0.  0.  0.  1.  0.  0.]]\n"
       ]
      }
     ],
     "prompt_number": 23
    },
    {
     "cell_type": "code",
     "collapsed": false,
     "input": [
      "#Merge enc_list with the rest of the numeric data\n",
      "#Create np array of remaining data \n",
      "np_data2_int = np.array(data2_int)\n",
      "\n",
      "#Create a list of merged values np_data_int + encoded binary labelled data\n",
      "pl = []\n",
      "for i in range(0,len(enc_list)):\n",
      "     pl.append(np.concatenate((np_data2_int[i],enc_list[i][0].astype(int))))"
     ],
     "language": "python",
     "metadata": {},
     "outputs": [],
     "prompt_number": 25
    },
    {
     "cell_type": "code",
     "collapsed": false,
     "input": [
      "#Create array forms of training&target data\n",
      "X = np.array([list(x) for x in pl])\n",
      "y = np.array(data2_c.y.replace({'no': 0,'yes':1}))"
     ],
     "language": "python",
     "metadata": {},
     "outputs": [],
     "prompt_number": 36
    },
    {
     "cell_type": "code",
     "collapsed": false,
     "input": [
      "#Cross Validation for RandomForestClassifier\n",
      "\n",
      "from sklearn.ensemble import RandomForestClassifier\n",
      "\n",
      "model2 = RandomForestClassifier(max_depth=5,random_state=0).fit\n",
      "\n",
      "for i in range(10,26):\n",
      "    print \"Cross validation score on\",i,\"folds:\"\n",
      "    print cross_validate(X,y,model2,i)"
     ],
     "language": "python",
     "metadata": {},
     "outputs": [
      {
       "output_type": "stream",
       "stream": "stdout",
       "text": [
        "Cross validation score on 10 folds:\n",
        "0.902617456082"
       ]
      },
      {
       "output_type": "stream",
       "stream": "stdout",
       "text": [
        "\n",
        "Cross validation score on 11 folds:\n",
        "0.901524714901"
       ]
      },
      {
       "output_type": "stream",
       "stream": "stdout",
       "text": [
        "\n",
        "Cross validation score on 12 folds:\n",
        "0.901791801024"
       ]
      },
      {
       "output_type": "stream",
       "stream": "stdout",
       "text": [
        "\n",
        "Cross validation score on 13 folds:\n",
        "0.902350254186"
       ]
      },
      {
       "output_type": "stream",
       "stream": "stdout",
       "text": [
        "\n",
        "Cross validation score on 14 folds:\n",
        "0.901913178596"
       ]
      },
      {
       "output_type": "stream",
       "stream": "stdout",
       "text": [
        "\n",
        "Cross validation score on 15 folds:\n",
        "0.901160909217"
       ]
      },
      {
       "output_type": "stream",
       "stream": "stdout",
       "text": [
        "\n",
        "Cross validation score on 16 folds:\n",
        "0.901670410226"
       ]
      },
      {
       "output_type": "stream",
       "stream": "stdout",
       "text": [
        "\n",
        "Cross validation score on 17 folds:\n",
        "0.901427883209"
       ]
      },
      {
       "output_type": "stream",
       "stream": "stdout",
       "text": [
        "\n",
        "Cross validation score on 18 folds:\n",
        "0.901913188324"
       ]
      },
      {
       "output_type": "stream",
       "stream": "stdout",
       "text": [
        "\n",
        "Cross validation score on 19 folds:\n",
        "0.901355111449"
       ]
      },
      {
       "output_type": "stream",
       "stream": "stdout",
       "text": [
        "\n",
        "Cross validation score on 20 folds:\n",
        "0.901378885971"
       ]
      },
      {
       "output_type": "stream",
       "stream": "stdout",
       "text": [
        "\n",
        "Cross validation score on 21 folds:\n",
        "0.901864660476"
       ]
      },
      {
       "output_type": "stream",
       "stream": "stdout",
       "text": [
        "\n",
        "Cross validation score on 22 folds:\n",
        "0.901111690854"
       ]
      },
      {
       "output_type": "stream",
       "stream": "stdout",
       "text": [
        "\n",
        "Cross validation score on 23 folds:\n",
        "0.901646561689"
       ]
      },
      {
       "output_type": "stream",
       "stream": "stdout",
       "text": [
        "\n",
        "Cross validation score on 24 folds:\n",
        "0.901597399559"
       ]
      },
      {
       "output_type": "stream",
       "stream": "stdout",
       "text": [
        "\n",
        "Cross validation score on 25 folds:\n",
        "0.901694784869"
       ]
      },
      {
       "output_type": "stream",
       "stream": "stdout",
       "text": [
        "\n"
       ]
      }
     ],
     "prompt_number": 37
    },
    {
     "cell_type": "code",
     "collapsed": false,
     "input": [
      "model3 = RandomForestClassifier(random_state=0).fit(X,y)\n",
      "model3.feature_importances_"
     ],
     "language": "python",
     "metadata": {},
     "outputs": [
      {
       "metadata": {},
       "output_type": "pyout",
       "prompt_number": 38,
       "text": [
        "array([  7.96809314e-02,   2.88025070e-01,   3.91305405e-02,\n",
        "         2.14234976e-02,   1.13691906e-02,   1.06599281e-02,\n",
        "         2.83798158e-02,   3.06976541e-02,   1.08459149e-01,\n",
        "         4.03096159e-02,   2.43448645e-03,   5.79988130e-03,\n",
        "         1.07679531e-02,   8.10662350e-03,   9.71736684e-03,\n",
        "         6.02705148e-03,   6.34853418e-03,   3.62026854e-03,\n",
        "         3.54236939e-03,   1.34581558e-03,   3.54213011e-03,\n",
        "         4.39953483e-03,   1.13892809e-02,   1.08224243e-02,\n",
        "         6.69371044e-03,   3.83029690e-04,   6.37310423e-03,\n",
        "         9.95260251e-03,   4.04465758e-03,   7.60241686e-03,\n",
        "         7.66771560e-03,   5.31916543e-03,   1.17536623e-02,\n",
        "         1.75423312e-04,   5.73932192e-03,   5.02472641e-03,\n",
        "         0.00000000e+00,   1.41258343e-02,   1.28986252e-02,\n",
        "         1.87916579e-03,   9.39919816e-03,   8.51934960e-03,\n",
        "         2.02009750e-03,   5.74511891e-03,   6.12403533e-03,\n",
        "         3.37653628e-03,   2.27522385e-03,   2.08779464e-03,\n",
        "         2.59479782e-03,   5.49713446e-03,   1.91568065e-03,\n",
        "         6.17991086e-04,   2.91741829e-03,   2.45052662e-03,\n",
        "         3.06983481e-03,   9.86467474e-03,   1.01527171e-02,\n",
        "         1.01031908e-02,   1.11612190e-02,   1.04868950e-02,\n",
        "         9.90447648e-03,   6.41205374e-03,   2.76717610e-02])"
       ]
      }
     ],
     "prompt_number": 38
    },
    {
     "cell_type": "markdown",
     "metadata": {},
     "source": [
      "We see that random forest classifiers increase the cross validation score by a roughly two percent. This makes sense because random forest can take more general averaged paths to classifying the data, where as singular decision trees can suffer from high variance bias"
     ]
    },
    {
     "cell_type": "code",
     "collapsed": false,
     "input": [],
     "language": "python",
     "metadata": {},
     "outputs": []
    }
   ],
   "metadata": {}
  }
 ]
}