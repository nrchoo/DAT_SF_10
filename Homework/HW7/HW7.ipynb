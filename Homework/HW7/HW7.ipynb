{
 "metadata": {
  "name": "",
  "signature": "sha256:c6c4171e71476f204cf08f3bee78082ea55235af02b35c694525f93815233359"
 },
 "nbformat": 3,
 "nbformat_minor": 0,
 "worksheets": [
  {
   "cells": [
    {
     "cell_type": "code",
     "collapsed": false,
     "input": [
      "import urllib2\n",
      "import pandas as pd\n",
      "import numpy as np\n",
      "from sklearn import svm\n",
      "from sklearn.cross_validation import KFold\n",
      "from sklearn import cross_validation\n",
      "from sklearn import preprocessing"
     ],
     "language": "python",
     "metadata": {},
     "outputs": [],
     "prompt_number": 1
    },
    {
     "cell_type": "code",
     "collapsed": false,
     "input": [
      "#Download wine data\n",
      "downloaded_data  = urllib2.urlopen('https://archive.ics.uci.edu/ml/machine-learning-databases/wine/wine.data')\n",
      "#read it into dataframe\n",
      "data = pd.read_csv(downloaded_data, sep = ',', header = None)\n",
      "\n",
      "#Create column headers per instruction\n",
      "data.columns = ['x' + str(i) for i in range(0,14)]"
     ],
     "language": "python",
     "metadata": {},
     "outputs": [],
     "prompt_number": 2
    },
    {
     "cell_type": "code",
     "collapsed": false,
     "input": [
      "#Convert data into np arrays for sklearn\n",
      "y = np.array(data.x0)\n",
      "X = np.array(data.ix[:,1:])"
     ],
     "language": "python",
     "metadata": {},
     "outputs": [],
     "prompt_number": 3
    },
    {
     "cell_type": "code",
     "collapsed": false,
     "input": [
      "#Fitting the SVM classifier\n",
      "clf = svm.SVC(kernel = 'linear', C=1)\n",
      "clf.fit(X,y)"
     ],
     "language": "python",
     "metadata": {},
     "outputs": [
      {
       "metadata": {},
       "output_type": "pyout",
       "prompt_number": 6,
       "text": [
        "SVC(C=1, cache_size=200, class_weight=None, coef0=0.0, degree=3, gamma=0.0,\n",
        "  kernel='linear', max_iter=-1, probability=False, random_state=None,\n",
        "  shrinking=True, tol=0.001, verbose=False)"
       ]
      }
     ],
     "prompt_number": 6
    },
    {
     "cell_type": "markdown",
     "metadata": {},
     "source": [
      "Scikit learn supports multi-class classification so we don't need to compare 3 classes individually. "
     ]
    },
    {
     "cell_type": "code",
     "collapsed": false,
     "input": [
      "scores = cross_validation.cross_val_score(clf, X, y, cv=10)\n",
      "print(\"Mean Cross Validation Accuracy Score: %0.3f (+/- %0.3f)\" % (scores.mean(), scores.std() * 2))"
     ],
     "language": "python",
     "metadata": {},
     "outputs": [
      {
       "output_type": "stream",
       "stream": "stdout",
       "text": [
        "Mean Cross Validation Accuracy Score: 0.949 (+/- 0.117)\n"
       ]
      }
     ],
     "prompt_number": 8
    },
    {
     "cell_type": "code",
     "collapsed": false,
     "input": [
      "#Preprocessing using 0 mean 1STD normalization.\n",
      "X_scaled = preprocessing.scale(X)\n",
      "X_scaled.mean(axis = 0)\n",
      "X_scaled.std(axis = 0)"
     ],
     "language": "python",
     "metadata": {},
     "outputs": [
      {
       "metadata": {},
       "output_type": "pyout",
       "prompt_number": 9,
       "text": [
        "array([ 1.,  1.,  1.,  1.,  1.,  1.,  1.,  1.,  1.,  1.,  1.,  1.,  1.])"
       ]
      }
     ],
     "prompt_number": 9
    },
    {
     "cell_type": "code",
     "collapsed": false,
     "input": [
      "#Trying cross validation again using preprocessed scaled data\n",
      "scores = cross_validation.cross_val_score(clf, X_scaled, y, cv=10)\n",
      "print(\"Accuracy: %0.3f (+/- %0.3f)\" % (scores.mean(), scores.std() * 2))"
     ],
     "language": "python",
     "metadata": {},
     "outputs": [
      {
       "output_type": "stream",
       "stream": "stdout",
       "text": [
        "Accuracy: 0.955 (+/- 0.083)\n"
       ]
      }
     ],
     "prompt_number": 10
    },
    {
     "cell_type": "markdown",
     "metadata": {},
     "source": [
      "The accuracy is a little better when preprocessing the data"
     ]
    },
    {
     "cell_type": "code",
     "collapsed": false,
     "input": [
      "#Tried normalizing another way by using the Normalize method\n",
      "X_normalized_L1 = preprocessing.normalize(X, norm = 'l1')\n",
      "scores = cross_validation.cross_val_score(clf, X_normalized_L1, y, cv=10)\n",
      "print(\"Accuracy: %0.3f (+/- %0.3f)\" % (scores.mean(), scores.std() * 2))\n",
      "\n",
      "X_normalized_L2 = preprocessing.normalize(X, norm = 'l2')\n",
      "scores = cross_validation.cross_val_score(clf, X_scaled, y, cv=10)\n",
      "print(\"Accuracy: %0.3f (+/- %0.f)\" % (scores.mean(), scores.std() * 2))"
     ],
     "language": "python",
     "metadata": {},
     "outputs": [
      {
       "output_type": "stream",
       "stream": "stdout",
       "text": [
        "Accuracy: 0.529 (+/- 0.158)\n",
        "Accuracy: 0.955 (+/- 0)\n"
       ]
      }
     ],
     "prompt_number": 11
    },
    {
     "cell_type": "markdown",
     "metadata": {},
     "source": [
      "Accuracy when using L1 normalization is worse, but using L2 gets us the same results as before."
     ]
    },
    {
     "cell_type": "code",
     "collapsed": false,
     "input": [
      "#Pipeline Immplementation\n",
      "\n",
      "from sklearn.pipeline import Pipeline\n",
      "#from sklearn.pipeline import make_pipeline\n",
      "from sklearn.decomposition import PCA\n",
      "from sklearn.svm import SVC\n",
      "from sklearn.preprocessing import scale,normalize\n",
      "from sklearn.feature_selection import SelectKBest, f_regression"
     ],
     "language": "python",
     "metadata": {},
     "outputs": [],
     "prompt_number": 15
    },
    {
     "cell_type": "markdown",
     "metadata": {},
     "source": [
      "The pipepline I chose was to do an ANOVA for the preprocess step to narrow down features and then I setup a SVC function"
     ]
    },
    {
     "cell_type": "code",
     "collapsed": false,
     "input": [
      "anova_filter = SelectKBest(f_regression, k = 3)\n",
      "SVC_ = svm.SVC()\n",
      "#anova_svm = make_pipeline(anova_filter, clf)\n",
      "clf = Pipeline(steps=[('anova', anova_filter), ('svm', SVC_)])\n",
      "clf.fit(X,y)\n",
      "#10 Fold cross-validation \n",
      "scores = cross_validation.cross_val_score(clf, X, y, cv=10)\n",
      "print(\"Accuracy: %0.3f (+/- %0.3f)\" % (scores.mean(), scores.std() * 2))"
     ],
     "language": "python",
     "metadata": {},
     "outputs": [
      {
       "output_type": "stream",
       "stream": "stdout",
       "text": [
        "Accuracy: 0.838 (+/- 0.114)\n"
       ]
      }
     ],
     "prompt_number": 31
    },
    {
     "cell_type": "code",
     "collapsed": false,
     "input": [
      "#Next I tried to change some parameter values in my pipeline to increase accuracy.\n",
      "#I tyypically changed the C and kernel parameters.\n",
      "#Using C = 1-15\n",
      "for i in range(1,16):\n",
      "    clf.set_params(svm__C = i)\n",
      "    clf.fit(X,y)\n",
      "    scores = cross_validation.cross_val_score(clf, X, y, cv=10)\n",
      "    print \"Using c = \",i, \", Accuracy: %0.3f (+/- %0.3f)\" % (scores.mean(), scores.std() * 2)\n"
     ],
     "language": "python",
     "metadata": {},
     "outputs": [
      {
       "output_type": "stream",
       "stream": "stdout",
       "text": [
        "Using c =  1 , Accuracy: 0.838 (+/- 0.114)\n",
        "Using c =  2 , Accuracy: 0.849 (+/- 0.121)\n",
        "Using c = "
       ]
      },
      {
       "output_type": "stream",
       "stream": "stdout",
       "text": [
        " 3 , Accuracy: 0.854 (+/- 0.112)\n",
        "Using c = "
       ]
      },
      {
       "output_type": "stream",
       "stream": "stdout",
       "text": [
        " 4 , Accuracy: 0.854 (+/- 0.112)\n",
        "Using c =  5 , Accuracy: 0.848 (+/- 0.112)\n",
        "Using c = "
       ]
      },
      {
       "output_type": "stream",
       "stream": "stdout",
       "text": [
        " 6 , Accuracy: 0.848 (+/- 0.122)\n",
        "Using c =  7 , Accuracy: 0.848 (+/- 0.122)\n",
        "Using c = "
       ]
      },
      {
       "output_type": "stream",
       "stream": "stdout",
       "text": [
        " 8 , Accuracy: 0.854 (+/- 0.114)\n",
        "Using c =  9 , Accuracy: 0.854 (+/- 0.114)\n",
        "Using c = "
       ]
      },
      {
       "output_type": "stream",
       "stream": "stdout",
       "text": [
        " 10 , Accuracy: 0.848 (+/- 0.112)\n",
        "Using c =  11 , Accuracy: 0.848 (+/- 0.112)\n",
        "Using c = "
       ]
      },
      {
       "output_type": "stream",
       "stream": "stdout",
       "text": [
        " 12 , Accuracy: 0.848 (+/- 0.112)\n",
        "Using c =  13 , Accuracy: 0.848 (+/- 0.112)\n",
        "Using c = "
       ]
      },
      {
       "output_type": "stream",
       "stream": "stdout",
       "text": [
        " 14 , Accuracy: 0.848 (+/- 0.112)\n",
        "Using c =  15 , Accuracy: 0.837 (+/- 0.091)\n"
       ]
      }
     ],
     "prompt_number": 26
    },
    {
     "cell_type": "markdown",
     "metadata": {},
     "source": [
      "We see that choosing the right C can increase your prediction accuracy"
     ]
    },
    {
     "cell_type": "code",
     "collapsed": false,
     "input": [
      "#Using C = 1, kernel = [linear,rbf,poly]\n",
      "k_list  = ['linear','rbf','poly']\n",
      "for i in k_list:\n",
      "    clf.set_params(svm__kernel = i)\n",
      "    clf.fit(X,y)\n",
      "    scores = cross_validation.cross_val_score(clf, X, y, cv=10)\n",
      "    print \"Using kernel = \",i, \", Accuracy: %0.3f (+/- %0.3f)\" % (scores.mean(), scores.std() * 2)\n"
     ],
     "language": "python",
     "metadata": {},
     "outputs": [
      {
       "output_type": "stream",
       "stream": "stdout",
       "text": [
        "Using kernel =  linear , Accuracy: 0.826 (+/- 0.133)\n",
        "Using kernel =  rbf , Accuracy: 0.837 (+/- 0.091)\n",
        "Using kernel = "
       ]
      },
      {
       "output_type": "stream",
       "stream": "stdout",
       "text": [
        " poly , Accuracy: 0.848 (+/- 0.141)\n"
       ]
      }
     ],
     "prompt_number": 27
    },
    {
     "cell_type": "markdown",
     "metadata": {},
     "source": [
      "It is observed poly kernels give a slightly better accuracy."
     ]
    },
    {
     "cell_type": "code",
     "collapsed": false,
     "input": [
      "#Using only poly kernel, test multi iterations of C.\n",
      "for i in range(1,16):\n",
      "    clf.set_params(svm__C = i, svm__kernel = 'poly')\n",
      "    clf.fit(X,y)\n",
      "    scores = cross_validation.cross_val_score(clf, X, y, cv=10)\n",
      "    print \"Using c = \",i, \", Accuracy: %0.3f (+/- %0.3f)\" % (scores.mean(), scores.std() * 2)"
     ],
     "language": "python",
     "metadata": {},
     "outputs": [
      {
       "output_type": "stream",
       "stream": "stdout",
       "text": [
        "Using c =  1 , Accuracy: 0.854 (+/- 0.112)\n",
        "Using c = "
       ]
      },
      {
       "output_type": "stream",
       "stream": "stdout",
       "text": [
        " 2 , Accuracy: 0.860 (+/- 0.123)\n",
        "Using c = "
       ]
      },
      {
       "output_type": "stream",
       "stream": "stdout",
       "text": [
        " 3 , Accuracy: 0.848 (+/- 0.141)\n",
        "Using c = "
       ]
      },
      {
       "output_type": "stream",
       "stream": "stdout",
       "text": [
        " 4 , Accuracy: 0.854 (+/- 0.151)\n",
        "Using c = "
       ]
      },
      {
       "output_type": "stream",
       "stream": "stdout",
       "text": [
        " 5 , Accuracy: 0.854 (+/- 0.151)\n",
        "Using c = "
       ]
      },
      {
       "output_type": "stream",
       "stream": "stdout",
       "text": [
        " 6 , Accuracy: 0.854 (+/- 0.151)\n",
        "Using c = "
       ]
      },
      {
       "output_type": "stream",
       "stream": "stdout",
       "text": [
        " 7 , Accuracy: 0.854 (+/- 0.151)\n",
        "Using c = "
       ]
      },
      {
       "output_type": "stream",
       "stream": "stdout",
       "text": [
        " 8 , Accuracy: 0.854 (+/- 0.151)\n",
        "Using c = "
       ]
      },
      {
       "output_type": "stream",
       "stream": "stdout",
       "text": [
        " 9 , Accuracy: 0.854 (+/- 0.151)\n",
        "Using c = "
       ]
      },
      {
       "output_type": "stream",
       "stream": "stdout",
       "text": [
        " 10 , Accuracy: 0.854 (+/- 0.151)\n",
        "Using c = "
       ]
      },
      {
       "output_type": "stream",
       "stream": "stdout",
       "text": [
        " 11 , Accuracy: 0.848 (+/- 0.141)\n",
        "Using c = "
       ]
      },
      {
       "output_type": "stream",
       "stream": "stdout",
       "text": [
        " 12 , Accuracy: 0.848 (+/- 0.141)\n",
        "Using c = "
       ]
      },
      {
       "output_type": "stream",
       "stream": "stdout",
       "text": [
        " 13 , Accuracy: 0.848 (+/- 0.141)\n",
        "Using c = "
       ]
      },
      {
       "output_type": "stream",
       "stream": "stdout",
       "text": [
        " 14 , Accuracy: 0.848 (+/- 0.141)\n",
        "Using c = "
       ]
      },
      {
       "output_type": "stream",
       "stream": "stdout",
       "text": [
        " 15 , Accuracy: 0.848 (+/- 0.141)\n"
       ]
      }
     ],
     "prompt_number": 32
    },
    {
     "cell_type": "markdown",
     "metadata": {},
     "source": [
      "Highest observed accuracy for poly kernel and C = 2 is 0.860"
     ]
    },
    {
     "cell_type": "code",
     "collapsed": false,
     "input": [
      "#Grid searching\n",
      "from sklearn.cross_validation import train_test_split\n",
      "from sklearn.grid_search import GridSearchCV\n",
      "from sklearn.metrics import classification_report\n",
      "from sklearn.svm import SVC\n",
      "\n",
      "X_train, X_test, y_train, y_test = train_test_split(\n",
      "    X, y, test_size=0.20, random_state=0)    \n",
      "pipe = clf\n",
      "\n",
      "C1 = [1,10,100,1000]\n",
      "krn =['linear','rbf']\n",
      "gmma = [1e-3,1e-4]\n",
      "\n",
      "est = GridSearchCV(pipe, dict(svm__C = C1, svm__kernel = krn,svm__gamma = gmma))\n",
      "\n",
      "est.fit(X_train,y_train)\n",
      "y_true, y_pred = y_test, est.predict(X_test)\n",
      "print(classification_report(y_true, y_pred))"
     ],
     "language": "python",
     "metadata": {},
     "outputs": [
      {
       "output_type": "stream",
       "stream": "stdout",
       "text": [
        "             precision    recall  f1-score   support\n",
        "\n",
        "          1       0.67      0.86      0.75        14\n",
        "          2       0.73      0.50      0.59        16\n",
        "          3       0.71      0.83      0.77         6\n",
        "\n",
        "avg / total       0.70      0.69      0.68        36\n",
        "\n"
       ]
      }
     ],
     "prompt_number": 29
    },
    {
     "cell_type": "code",
     "collapsed": false,
     "input": [],
     "language": "python",
     "metadata": {},
     "outputs": []
    }
   ],
   "metadata": {}
  }
 ]
}